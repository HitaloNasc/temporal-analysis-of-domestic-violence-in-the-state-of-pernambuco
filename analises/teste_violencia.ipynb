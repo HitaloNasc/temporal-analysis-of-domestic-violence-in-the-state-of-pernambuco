{
 "cells": [
  {
   "cell_type": "markdown",
   "id": "34b24620",
   "metadata": {},
   "source": [
    "   # VIOLÊNCIA DOMÉSTICA NO ESTADO DE PERNAMBUCO"
   ]
  },
  {
   "cell_type": "markdown",
   "id": "8928b649",
   "metadata": {},
   "source": [
    "### IMPORTANDO AS BIBLIOTECAS"
   ]
  },
  {
   "cell_type": "code",
   "execution_count": 1,
   "id": "723fda91",
   "metadata": {},
   "outputs": [],
   "source": [
    "#pip install openpyxl"
   ]
  },
  {
   "cell_type": "markdown",
   "id": "5178cb07",
   "metadata": {},
   "source": [
    "Necessário instalar esse recurso para ler arquivos no formato .xlsx, o formato dos dados escolhidos para o projeto"
   ]
  },
  {
   "cell_type": "code",
   "execution_count": 2,
   "id": "acd4a116",
   "metadata": {},
   "outputs": [],
   "source": [
    "#pip install pandas"
   ]
  },
  {
   "cell_type": "code",
   "execution_count": 3,
   "id": "00b390fb",
   "metadata": {},
   "outputs": [],
   "source": [
    "import pandas as pd"
   ]
  },
  {
   "cell_type": "markdown",
   "id": "432a1d9f",
   "metadata": {},
   "source": [
    "Instalando e importante a biblioteca pandas que servirá como base para manipulação dos dados, ou seja, a biblioteca será utilizada para realização da limpeza, pré-processamento e engenharia de atributos, alem de auxiliar na analise exploratória e criação de gráficos simples."
   ]
  },
  {
   "cell_type": "markdown",
   "id": "21c76f18",
   "metadata": {},
   "source": [
    "## LENDO O ARQUIVO EXCEL"
   ]
  },
  {
   "cell_type": "code",
   "execution_count": 4,
   "id": "f7354d2b",
   "metadata": {},
   "outputs": [],
   "source": [
    "df = pd.read_excel(r'C:\\Users\\Ingrid Freire\\Desktop\\Projeto P1\\MICRODADOS_DE_VIOLÊNCIA_DOMÉSTICA_JAN_2015_A_AGO_2022.xlsx')"
   ]
  },
  {
   "cell_type": "code",
   "execution_count": 5,
   "id": "af19f2d7",
   "metadata": {},
   "outputs": [
    {
     "data": {
      "text/html": [
       "<div>\n",
       "<style scoped>\n",
       "    .dataframe tbody tr th:only-of-type {\n",
       "        vertical-align: middle;\n",
       "    }\n",
       "\n",
       "    .dataframe tbody tr th {\n",
       "        vertical-align: top;\n",
       "    }\n",
       "\n",
       "    .dataframe thead th {\n",
       "        text-align: right;\n",
       "    }\n",
       "</style>\n",
       "<table border=\"1\" class=\"dataframe\">\n",
       "  <thead>\n",
       "    <tr style=\"text-align: right;\">\n",
       "      <th></th>\n",
       "      <th>MUNICÍPIO DO FATO</th>\n",
       "      <th>REGIAO GEOGRÁFICA</th>\n",
       "      <th>NATUREZA</th>\n",
       "      <th>DATA DO FATO</th>\n",
       "      <th>ANO</th>\n",
       "      <th>SEXO</th>\n",
       "      <th>IDADE SENASP</th>\n",
       "      <th>TOTAL DE ENVOLVIDOS</th>\n",
       "    </tr>\n",
       "  </thead>\n",
       "  <tbody>\n",
       "    <tr>\n",
       "      <th>0</th>\n",
       "      <td>AFOGADOS DA INGAZEIRA</td>\n",
       "      <td>SERTÃO</td>\n",
       "      <td>INJÚRIA POR VIOLÊNCIA DOMÉSTICA/FAMILIAR</td>\n",
       "      <td>2015-01-01</td>\n",
       "      <td>2015</td>\n",
       "      <td>FEMININO</td>\n",
       "      <td>6) 35-64</td>\n",
       "      <td>1</td>\n",
       "    </tr>\n",
       "    <tr>\n",
       "      <th>1</th>\n",
       "      <td>AFRANIO</td>\n",
       "      <td>SERTÃO</td>\n",
       "      <td>AMEAÇA POR VIOLÊNCIA DOMÉSTICA/FAMILIAR</td>\n",
       "      <td>2015-01-01</td>\n",
       "      <td>2015</td>\n",
       "      <td>FEMININO</td>\n",
       "      <td>5) 30-34</td>\n",
       "      <td>1</td>\n",
       "    </tr>\n",
       "    <tr>\n",
       "      <th>2</th>\n",
       "      <td>AFRANIO</td>\n",
       "      <td>SERTÃO</td>\n",
       "      <td>LESÃO CORPORAL POR VIOLÊNCIA DOMÉSTICA/FAMILIAR</td>\n",
       "      <td>2015-01-01</td>\n",
       "      <td>2015</td>\n",
       "      <td>FEMININO</td>\n",
       "      <td>4) 25-29</td>\n",
       "      <td>1</td>\n",
       "    </tr>\n",
       "    <tr>\n",
       "      <th>3</th>\n",
       "      <td>AGUAS BELAS</td>\n",
       "      <td>AGRESTE</td>\n",
       "      <td>ESTUPRO DE VULNERÁVEL POR VIOLÊNCIA DOMÉSTICA/...</td>\n",
       "      <td>2015-01-01</td>\n",
       "      <td>2015</td>\n",
       "      <td>FEMININO</td>\n",
       "      <td>2) 12-17</td>\n",
       "      <td>1</td>\n",
       "    </tr>\n",
       "    <tr>\n",
       "      <th>4</th>\n",
       "      <td>ALAGOINHA</td>\n",
       "      <td>AGRESTE</td>\n",
       "      <td>AMEAÇA POR VIOLÊNCIA DOMÉSTICA/FAMILIAR</td>\n",
       "      <td>2015-01-01</td>\n",
       "      <td>2015</td>\n",
       "      <td>FEMININO</td>\n",
       "      <td>6) 35-64</td>\n",
       "      <td>1</td>\n",
       "    </tr>\n",
       "    <tr>\n",
       "      <th>...</th>\n",
       "      <td>...</td>\n",
       "      <td>...</td>\n",
       "      <td>...</td>\n",
       "      <td>...</td>\n",
       "      <td>...</td>\n",
       "      <td>...</td>\n",
       "      <td>...</td>\n",
       "      <td>...</td>\n",
       "    </tr>\n",
       "    <tr>\n",
       "      <th>253698</th>\n",
       "      <td>SAO JOSE DO BELMONTE</td>\n",
       "      <td>SERTÃO</td>\n",
       "      <td>MAUS TRATOS POR VIOLÊNCIA DOMÉSTICA/FAMILIAR</td>\n",
       "      <td>2022-08-31</td>\n",
       "      <td>2022</td>\n",
       "      <td>FEMININO</td>\n",
       "      <td>(vazio)</td>\n",
       "      <td>1</td>\n",
       "    </tr>\n",
       "    <tr>\n",
       "      <th>253699</th>\n",
       "      <td>SAO JOSE DO EGITO</td>\n",
       "      <td>SERTÃO</td>\n",
       "      <td>AMEAÇA POR VIOLÊNCIA DOMÉSTICA/FAMILIAR</td>\n",
       "      <td>2022-08-31</td>\n",
       "      <td>2022</td>\n",
       "      <td>FEMININO</td>\n",
       "      <td>3) 18-24</td>\n",
       "      <td>1</td>\n",
       "    </tr>\n",
       "    <tr>\n",
       "      <th>253700</th>\n",
       "      <td>SURUBIM</td>\n",
       "      <td>AGRESTE</td>\n",
       "      <td>PERTURBAÇÃO DO SOSSEGO POR VIOLÊNCIA DOMÉSTICA...</td>\n",
       "      <td>2022-08-31</td>\n",
       "      <td>2022</td>\n",
       "      <td>FEMININO</td>\n",
       "      <td>6) 35-64</td>\n",
       "      <td>1</td>\n",
       "    </tr>\n",
       "    <tr>\n",
       "      <th>253701</th>\n",
       "      <td>VERDEJANTE</td>\n",
       "      <td>SERTÃO</td>\n",
       "      <td>AMEAÇA POR VIOLÊNCIA DOMÉSTICA/FAMILIAR</td>\n",
       "      <td>2022-08-31</td>\n",
       "      <td>2022</td>\n",
       "      <td>FEMININO</td>\n",
       "      <td>6) 35-64</td>\n",
       "      <td>1</td>\n",
       "    </tr>\n",
       "    <tr>\n",
       "      <th>253702</th>\n",
       "      <td>VERDEJANTE</td>\n",
       "      <td>SERTÃO</td>\n",
       "      <td>LESÃO CORPORAL POR VIOLÊNCIA DOMÉSTICA/FAMILIAR</td>\n",
       "      <td>2022-08-31</td>\n",
       "      <td>2022</td>\n",
       "      <td>FEMININO</td>\n",
       "      <td>3) 18-24</td>\n",
       "      <td>1</td>\n",
       "    </tr>\n",
       "  </tbody>\n",
       "</table>\n",
       "<p>253703 rows × 8 columns</p>\n",
       "</div>"
      ],
      "text/plain": [
       "            MUNICÍPIO DO FATO REGIAO GEOGRÁFICA  \\\n",
       "0       AFOGADOS DA INGAZEIRA            SERTÃO   \n",
       "1                     AFRANIO            SERTÃO   \n",
       "2                     AFRANIO            SERTÃO   \n",
       "3                 AGUAS BELAS           AGRESTE   \n",
       "4                   ALAGOINHA           AGRESTE   \n",
       "...                       ...               ...   \n",
       "253698   SAO JOSE DO BELMONTE            SERTÃO   \n",
       "253699      SAO JOSE DO EGITO            SERTÃO   \n",
       "253700                SURUBIM           AGRESTE   \n",
       "253701             VERDEJANTE            SERTÃO   \n",
       "253702             VERDEJANTE            SERTÃO   \n",
       "\n",
       "                                                 NATUREZA DATA DO FATO   ANO  \\\n",
       "0                INJÚRIA POR VIOLÊNCIA DOMÉSTICA/FAMILIAR   2015-01-01  2015   \n",
       "1                 AMEAÇA POR VIOLÊNCIA DOMÉSTICA/FAMILIAR   2015-01-01  2015   \n",
       "2         LESÃO CORPORAL POR VIOLÊNCIA DOMÉSTICA/FAMILIAR   2015-01-01  2015   \n",
       "3       ESTUPRO DE VULNERÁVEL POR VIOLÊNCIA DOMÉSTICA/...   2015-01-01  2015   \n",
       "4                 AMEAÇA POR VIOLÊNCIA DOMÉSTICA/FAMILIAR   2015-01-01  2015   \n",
       "...                                                   ...          ...   ...   \n",
       "253698       MAUS TRATOS POR VIOLÊNCIA DOMÉSTICA/FAMILIAR   2022-08-31  2022   \n",
       "253699            AMEAÇA POR VIOLÊNCIA DOMÉSTICA/FAMILIAR   2022-08-31  2022   \n",
       "253700  PERTURBAÇÃO DO SOSSEGO POR VIOLÊNCIA DOMÉSTICA...   2022-08-31  2022   \n",
       "253701            AMEAÇA POR VIOLÊNCIA DOMÉSTICA/FAMILIAR   2022-08-31  2022   \n",
       "253702    LESÃO CORPORAL POR VIOLÊNCIA DOMÉSTICA/FAMILIAR   2022-08-31  2022   \n",
       "\n",
       "            SEXO IDADE SENASP  TOTAL DE ENVOLVIDOS  \n",
       "0       FEMININO     6) 35-64                    1  \n",
       "1       FEMININO     5) 30-34                    1  \n",
       "2       FEMININO     4) 25-29                    1  \n",
       "3       FEMININO     2) 12-17                    1  \n",
       "4       FEMININO     6) 35-64                    1  \n",
       "...          ...          ...                  ...  \n",
       "253698  FEMININO      (vazio)                    1  \n",
       "253699  FEMININO     3) 18-24                    1  \n",
       "253700  FEMININO     6) 35-64                    1  \n",
       "253701  FEMININO     6) 35-64                    1  \n",
       "253702  FEMININO     3) 18-24                    1  \n",
       "\n",
       "[253703 rows x 8 columns]"
      ]
     },
     "execution_count": 5,
     "metadata": {},
     "output_type": "execute_result"
    }
   ],
   "source": [
    "df"
   ]
  },
  {
   "cell_type": "markdown",
   "id": "347c9205",
   "metadata": {},
   "source": [
    "A leitura do arquivo foi feita utilizando a função read_excel, disponivel na biblioteca pandas"
   ]
  },
  {
   "cell_type": "markdown",
   "id": "4fcdf595",
   "metadata": {},
   "source": [
    "#### VERIFICAÇÃO DOS TIPOS COLUNÁRES"
   ]
  },
  {
   "cell_type": "code",
   "execution_count": 6,
   "id": "8ecf0d22",
   "metadata": {},
   "outputs": [
    {
     "data": {
      "text/plain": [
       "MUNICÍPIO DO FATO              object\n",
       "REGIAO GEOGRÁFICA              object\n",
       "NATUREZA                       object\n",
       "DATA DO FATO           datetime64[ns]\n",
       "ANO                             int64\n",
       "SEXO                           object\n",
       "IDADE SENASP                   object\n",
       "TOTAL DE ENVOLVIDOS             int64\n",
       "dtype: object"
      ]
     },
     "execution_count": 6,
     "metadata": {},
     "output_type": "execute_result"
    }
   ],
   "source": [
    "df.dtypes"
   ]
  },
  {
   "cell_type": "markdown",
   "id": "31b53b67",
   "metadata": {},
   "source": [
    "A feature \"DATA DO FATO\" ja está em datetime e os dados númericos estão como int64, não sendo necessário ajustes, vale salientar que a feature de idade é uma feature categórica, pois encontra-se dividida em intervalos de idade. As demais features encontram-se como object podendo ser mudadas para categórica a depender do objetivo do estudo, para nosso caso optamos por manter como object."
   ]
  },
  {
   "cell_type": "markdown",
   "id": "971f930c",
   "metadata": {},
   "source": [
    "### ANALISE DOS VALORES COLUNARES"
   ]
  },
  {
   "cell_type": "code",
   "execution_count": 7,
   "id": "f92902de",
   "metadata": {
    "scrolled": false
   },
   "outputs": [
    {
     "data": {
      "text/plain": [
       "6) 35-64         92515\n",
       "3) 18-24         48331\n",
       "4) 25-29         41295\n",
       "5) 30-34         41077\n",
       "2) 12-17         11919\n",
       "7) 65 OU MAIS     9693\n",
       "1) 00-11          5959\n",
       "(vazio)           2914\n",
       "Name: IDADE SENASP, dtype: int64"
      ]
     },
     "execution_count": 7,
     "metadata": {},
     "output_type": "execute_result"
    }
   ],
   "source": [
    "df['IDADE SENASP'].value_counts()"
   ]
  },
  {
   "cell_type": "markdown",
   "id": "6ae77a42",
   "metadata": {},
   "source": [
    "Necessário fazer ajustes na strig. Por opção a equipe escolheu deixar os intervalos fechados no modelo XX-YY, onde XX é a idade inicial do intervalo e YY a idade final. Os ajustes seram realizados mais a frente"
   ]
  },
  {
   "cell_type": "markdown",
   "id": "b7c7f571",
   "metadata": {},
   "source": [
    "Como aparece dados com a string (vazio) vamos trocar a string para não informado"
   ]
  },
  {
   "cell_type": "code",
   "execution_count": 8,
   "id": "a7d60d61",
   "metadata": {
    "scrolled": true
   },
   "outputs": [
    {
     "data": {
      "text/plain": [
       "RECIFE                     42592\n",
       "JABOATAO DOS GUARARAPES    15161\n",
       "CARUARU                    13802\n",
       "OLINDA                     13428\n",
       "PETROLINA                  12257\n",
       "                           ...  \n",
       "GRANITO                      101\n",
       "QUIXABA                       99\n",
       "INGAZEIRA                     97\n",
       "MARAIAL                       91\n",
       "ITACURUBA                     82\n",
       "Name: MUNICÍPIO DO FATO, Length: 185, dtype: int64"
      ]
     },
     "execution_count": 8,
     "metadata": {},
     "output_type": "execute_result"
    }
   ],
   "source": [
    "df['MUNICÍPIO DO FATO'].value_counts()"
   ]
  },
  {
   "cell_type": "markdown",
   "id": "3ba296d1",
   "metadata": {},
   "source": [
    "As cetegorias mostram-se já pré-processadas, não sendo necessário ajustes"
   ]
  },
  {
   "cell_type": "code",
   "execution_count": 9,
   "id": "de224b49",
   "metadata": {
    "scrolled": false
   },
   "outputs": [
    {
     "data": {
      "text/plain": [
       "AMEAÇA POR VIOLÊNCIA DOMÉSTICA/FAMILIAR                    92689\n",
       "LESÃO CORPORAL POR VIOLÊNCIA DOMÉSTICA/FAMILIAR            63960\n",
       "INJÚRIA POR VIOLÊNCIA DOMÉSTICA/FAMILIAR                   33233\n",
       "OUTROS CRIMES POR VIOLÊNCIA DOMÉSTICA/FAMILIAR             12914\n",
       "DANO POR VIOLÊNCIA DOMÉSTICA/FAMILIAR                      12490\n",
       "VIAS DE FATOS POR VIOLÊNCIA DOMÉSTICA/FAMILIAR             12487\n",
       "PERTURBAÇÃO DO SOSSEGO POR VIOLÊNCIA DOMÉSTICA/FAMILIAR     8966\n",
       "DIFAMAÇÃO POR VIOLÊNCIA DOMÉSTICA/FAMILIAR                  6724\n",
       "MAUS TRATOS POR VIOLÊNCIA DOMÉSTICA/FAMILIAR                3281\n",
       "ESTUPRO DE VULNERÁVEL POR VIOLÊNCIA DOMÉSTICA/FAMILIAR      2792\n",
       "CALÚNIA POR VIOLÊNCIA DOMÉSTICA/FAMILIAR                    1397\n",
       "CONSTRANGIMENTO ILEGAL POR VIOLÊNCIA DOMÉSTICA/FAMILIAR     1019\n",
       "ESTUPRO POR VIOLÊNCIA DOMÉSTICA/FAMILIAR                     975\n",
       "PERSEGUIÇÃO POR VIOLÊNCIA DOMÉSTICA/FAMILIAR                 586\n",
       "CÁRCERE PRIVADO POR VIOLÊNCIA DOMÉSTICA/FAMILIAR             190\n",
       "Name: NATUREZA, dtype: int64"
      ]
     },
     "execution_count": 9,
     "metadata": {},
     "output_type": "execute_result"
    }
   ],
   "source": [
    "df['NATUREZA'].value_counts()"
   ]
  },
  {
   "cell_type": "markdown",
   "id": "a613c541",
   "metadata": {},
   "source": [
    "As cetegorias mostram-se já pré-processadas, não sendo necessário ajustes"
   ]
  },
  {
   "cell_type": "code",
   "execution_count": 10,
   "id": "31a10f21",
   "metadata": {
    "scrolled": true
   },
   "outputs": [
    {
     "data": {
      "text/plain": [
       "FEMININO         236810\n",
       "MASCULINO         16113\n",
       "DESCONHECIDO        610\n",
       "NAO INFORMADO       170\n",
       "Name: SEXO, dtype: int64"
      ]
     },
     "execution_count": 10,
     "metadata": {},
     "output_type": "execute_result"
    }
   ],
   "source": [
    "df['SEXO'].value_counts()"
   ]
  },
  {
   "cell_type": "markdown",
   "id": "8957dea3",
   "metadata": {},
   "source": [
    "Para a feature \"SEXO\" optou-se por juntar as categorias desconhecido e não informado, apesar de apresentarem poucas instâncias entende-se que essas pessoas podem ser não binárias e esta pode ser a causa da agressão. "
   ]
  },
  {
   "cell_type": "markdown",
   "id": "78b4a8f5",
   "metadata": {},
   "source": [
    "### Verificando existencia de dados faltantes"
   ]
  },
  {
   "cell_type": "code",
   "execution_count": 11,
   "id": "b4da188b",
   "metadata": {},
   "outputs": [
    {
     "data": {
      "text/plain": [
       "MUNICÍPIO DO FATO      253703\n",
       "REGIAO GEOGRÁFICA      253703\n",
       "NATUREZA               253703\n",
       "DATA DO FATO           253703\n",
       "ANO                    253703\n",
       "SEXO                   253703\n",
       "IDADE SENASP           253703\n",
       "TOTAL DE ENVOLVIDOS    253703\n",
       "dtype: int64"
      ]
     },
     "execution_count": 11,
     "metadata": {},
     "output_type": "execute_result"
    }
   ],
   "source": [
    "df.isnull().count()"
   ]
  },
  {
   "cell_type": "markdown",
   "id": "891bb973",
   "metadata": {},
   "source": [
    "Não há dados faltantes"
   ]
  },
  {
   "cell_type": "markdown",
   "id": "5c090505",
   "metadata": {},
   "source": [
    "### Engenharia de Features"
   ]
  },
  {
   "cell_type": "markdown",
   "id": "67761fdf",
   "metadata": {},
   "source": [
    "#### Crianção de uma função para ajustar os dados do sexo"
   ]
  },
  {
   "cell_type": "code",
   "execution_count": 12,
   "id": "86cf20fa",
   "metadata": {},
   "outputs": [],
   "source": [
    "def ajuste_sexo (sexo):\n",
    "    if sexo == 'DESCONHECIDO' or sexo == 'NAO INFORMADO':\n",
    "        sexo = 'DESCONHECIDO/NAO INFORMADO'\n",
    "    else:\n",
    "        sexo = sexo\n",
    "\n",
    "    return sexo"
   ]
  },
  {
   "cell_type": "code",
   "execution_count": 13,
   "id": "e3b0ae82",
   "metadata": {},
   "outputs": [],
   "source": [
    "df['SEXO'] = df['SEXO'].apply(ajuste_sexo)"
   ]
  },
  {
   "cell_type": "code",
   "execution_count": 14,
   "id": "9bda3396",
   "metadata": {},
   "outputs": [
    {
     "data": {
      "text/plain": [
       "FEMININO                      236810\n",
       "MASCULINO                      16113\n",
       "DESCONHECIDO/NAO INFORMADO       780\n",
       "Name: SEXO, dtype: int64"
      ]
     },
     "execution_count": 14,
     "metadata": {},
     "output_type": "execute_result"
    }
   ],
   "source": [
    "df['SEXO'].value_counts()"
   ]
  },
  {
   "cell_type": "markdown",
   "id": "d357511c",
   "metadata": {},
   "source": [
    "A aplicação dessas função foi feita com o uso do metodo apply, que aplica a função para cada uma das instâncias do dataframe"
   ]
  },
  {
   "cell_type": "markdown",
   "id": "a0df1ddf",
   "metadata": {},
   "source": [
    "#### criação de uma funçao para ajustar a idade"
   ]
  },
  {
   "cell_type": "code",
   "execution_count": 15,
   "id": "7f8c3cc3",
   "metadata": {},
   "outputs": [],
   "source": [
    "def ajuste_idades(idade):\n",
    "        if idade == '(vazio)':\n",
    "                idade = 'Não informado'\n",
    "        else:\n",
    "                idade = idade[3:]\n",
    "                \n",
    "        return idade"
   ]
  },
  {
   "cell_type": "code",
   "execution_count": 16,
   "id": "39969c9f",
   "metadata": {},
   "outputs": [],
   "source": [
    "df['IDADE SENASP'] = df['IDADE SENASP'].apply(ajuste_idades)"
   ]
  },
  {
   "cell_type": "code",
   "execution_count": 17,
   "id": "1875fb2a",
   "metadata": {},
   "outputs": [
    {
     "data": {
      "text/plain": [
       "35-64            92515\n",
       "18-24            48331\n",
       "25-29            41295\n",
       "30-34            41077\n",
       "12-17            11919\n",
       "65 OU MAIS        9693\n",
       "00-11             5959\n",
       "Não informado     2914\n",
       "Name: IDADE SENASP, dtype: int64"
      ]
     },
     "execution_count": 17,
     "metadata": {},
     "output_type": "execute_result"
    }
   ],
   "source": [
    "df['IDADE SENASP'].value_counts()"
   ]
  },
  {
   "cell_type": "markdown",
   "id": "e2f3afad",
   "metadata": {},
   "source": [
    "#### Criação uma nova coluna com a informação do mês de ocorrência do fato"
   ]
  },
  {
   "cell_type": "markdown",
   "id": "36848cbe",
   "metadata": {},
   "source": [
    "A equipe decidiu criar uma feature com as informações do mês de ocorrência do fato para analisar a sazonalidade dos mesmo, para tanto foi extraida, com o auxílio do método .month, da feature \"DATA DO FATO\" a informação referente ao mês de ocorrência do fato."
   ]
  },
  {
   "cell_type": "code",
   "execution_count": 18,
   "id": "b5d13ba0",
   "metadata": {},
   "outputs": [],
   "source": [
    "df['MÊS DO FATO'] = df['DATA DO FATO'].dt.month"
   ]
  },
  {
   "cell_type": "code",
   "execution_count": 19,
   "id": "648579fb",
   "metadata": {},
   "outputs": [
    {
     "data": {
      "text/plain": [
       "0         1\n",
       "1         1\n",
       "2         1\n",
       "3         1\n",
       "4         1\n",
       "         ..\n",
       "253698    8\n",
       "253699    8\n",
       "253700    8\n",
       "253701    8\n",
       "253702    8\n",
       "Name: MÊS DO FATO, Length: 253703, dtype: int64"
      ]
     },
     "execution_count": 19,
     "metadata": {},
     "output_type": "execute_result"
    }
   ],
   "source": [
    "df['MÊS DO FATO']"
   ]
  },
  {
   "cell_type": "markdown",
   "id": "58d434eb",
   "metadata": {},
   "source": [
    "## Análise exploratória"
   ]
  },
  {
   "cell_type": "markdown",
   "id": "a92b3699",
   "metadata": {},
   "source": [
    "#### Utilização de filtros para análise"
   ]
  },
  {
   "cell_type": "markdown",
   "id": "8b05433b",
   "metadata": {},
   "source": [
    "Nesta etapa foram criadas alguns filtros a fim de realizar um estudo um pouco mais aprofundado sobre o compartamento dos dados, para tanto foram escolhidos alguns atributos como base para as pesquisas."
   ]
  },
  {
   "cell_type": "code",
   "execution_count": 20,
   "id": "243c0246",
   "metadata": {},
   "outputs": [
    {
     "data": {
      "text/html": [
       "<div>\n",
       "<style scoped>\n",
       "    .dataframe tbody tr th:only-of-type {\n",
       "        vertical-align: middle;\n",
       "    }\n",
       "\n",
       "    .dataframe tbody tr th {\n",
       "        vertical-align: top;\n",
       "    }\n",
       "\n",
       "    .dataframe thead th {\n",
       "        text-align: right;\n",
       "    }\n",
       "</style>\n",
       "<table border=\"1\" class=\"dataframe\">\n",
       "  <thead>\n",
       "    <tr style=\"text-align: right;\">\n",
       "      <th></th>\n",
       "      <th>MUNICÍPIO DO FATO</th>\n",
       "      <th>REGIAO GEOGRÁFICA</th>\n",
       "      <th>NATUREZA</th>\n",
       "      <th>DATA DO FATO</th>\n",
       "      <th>ANO</th>\n",
       "      <th>SEXO</th>\n",
       "      <th>IDADE SENASP</th>\n",
       "      <th>TOTAL DE ENVOLVIDOS</th>\n",
       "      <th>MÊS DO FATO</th>\n",
       "    </tr>\n",
       "  </thead>\n",
       "  <tbody>\n",
       "    <tr>\n",
       "      <th>21</th>\n",
       "      <td>CARUARU</td>\n",
       "      <td>AGRESTE</td>\n",
       "      <td>AMEAÇA POR VIOLÊNCIA DOMÉSTICA/FAMILIAR</td>\n",
       "      <td>2015-01-01</td>\n",
       "      <td>2015</td>\n",
       "      <td>FEMININO</td>\n",
       "      <td>35-64</td>\n",
       "      <td>1</td>\n",
       "      <td>1</td>\n",
       "    </tr>\n",
       "    <tr>\n",
       "      <th>22</th>\n",
       "      <td>CARUARU</td>\n",
       "      <td>AGRESTE</td>\n",
       "      <td>ESTUPRO DE VULNERÁVEL POR VIOLÊNCIA DOMÉSTICA/...</td>\n",
       "      <td>2015-01-01</td>\n",
       "      <td>2015</td>\n",
       "      <td>FEMININO</td>\n",
       "      <td>18-24</td>\n",
       "      <td>1</td>\n",
       "      <td>1</td>\n",
       "    </tr>\n",
       "    <tr>\n",
       "      <th>23</th>\n",
       "      <td>CARUARU</td>\n",
       "      <td>AGRESTE</td>\n",
       "      <td>INJÚRIA POR VIOLÊNCIA DOMÉSTICA/FAMILIAR</td>\n",
       "      <td>2015-01-01</td>\n",
       "      <td>2015</td>\n",
       "      <td>FEMININO</td>\n",
       "      <td>18-24</td>\n",
       "      <td>1</td>\n",
       "      <td>1</td>\n",
       "    </tr>\n",
       "    <tr>\n",
       "      <th>24</th>\n",
       "      <td>CARUARU</td>\n",
       "      <td>AGRESTE</td>\n",
       "      <td>LESÃO CORPORAL POR VIOLÊNCIA DOMÉSTICA/FAMILIAR</td>\n",
       "      <td>2015-01-01</td>\n",
       "      <td>2015</td>\n",
       "      <td>FEMININO</td>\n",
       "      <td>18-24</td>\n",
       "      <td>1</td>\n",
       "      <td>1</td>\n",
       "    </tr>\n",
       "    <tr>\n",
       "      <th>25</th>\n",
       "      <td>CARUARU</td>\n",
       "      <td>AGRESTE</td>\n",
       "      <td>LESÃO CORPORAL POR VIOLÊNCIA DOMÉSTICA/FAMILIAR</td>\n",
       "      <td>2015-01-01</td>\n",
       "      <td>2015</td>\n",
       "      <td>FEMININO</td>\n",
       "      <td>30-34</td>\n",
       "      <td>1</td>\n",
       "      <td>1</td>\n",
       "    </tr>\n",
       "    <tr>\n",
       "      <th>...</th>\n",
       "      <td>...</td>\n",
       "      <td>...</td>\n",
       "      <td>...</td>\n",
       "      <td>...</td>\n",
       "      <td>...</td>\n",
       "      <td>...</td>\n",
       "      <td>...</td>\n",
       "      <td>...</td>\n",
       "      <td>...</td>\n",
       "    </tr>\n",
       "    <tr>\n",
       "      <th>253537</th>\n",
       "      <td>CARUARU</td>\n",
       "      <td>AGRESTE</td>\n",
       "      <td>LESÃO CORPORAL POR VIOLÊNCIA DOMÉSTICA/FAMILIAR</td>\n",
       "      <td>2022-08-30</td>\n",
       "      <td>2022</td>\n",
       "      <td>FEMININO</td>\n",
       "      <td>18-24</td>\n",
       "      <td>1</td>\n",
       "      <td>8</td>\n",
       "    </tr>\n",
       "    <tr>\n",
       "      <th>253538</th>\n",
       "      <td>CARUARU</td>\n",
       "      <td>AGRESTE</td>\n",
       "      <td>LESÃO CORPORAL POR VIOLÊNCIA DOMÉSTICA/FAMILIAR</td>\n",
       "      <td>2022-08-30</td>\n",
       "      <td>2022</td>\n",
       "      <td>FEMININO</td>\n",
       "      <td>30-34</td>\n",
       "      <td>1</td>\n",
       "      <td>8</td>\n",
       "    </tr>\n",
       "    <tr>\n",
       "      <th>253635</th>\n",
       "      <td>CARUARU</td>\n",
       "      <td>AGRESTE</td>\n",
       "      <td>AMEAÇA POR VIOLÊNCIA DOMÉSTICA/FAMILIAR</td>\n",
       "      <td>2022-08-31</td>\n",
       "      <td>2022</td>\n",
       "      <td>FEMININO</td>\n",
       "      <td>18-24</td>\n",
       "      <td>1</td>\n",
       "      <td>8</td>\n",
       "    </tr>\n",
       "    <tr>\n",
       "      <th>253636</th>\n",
       "      <td>CARUARU</td>\n",
       "      <td>AGRESTE</td>\n",
       "      <td>INJÚRIA POR VIOLÊNCIA DOMÉSTICA/FAMILIAR</td>\n",
       "      <td>2022-08-31</td>\n",
       "      <td>2022</td>\n",
       "      <td>FEMININO</td>\n",
       "      <td>18-24</td>\n",
       "      <td>1</td>\n",
       "      <td>8</td>\n",
       "    </tr>\n",
       "    <tr>\n",
       "      <th>253637</th>\n",
       "      <td>CARUARU</td>\n",
       "      <td>AGRESTE</td>\n",
       "      <td>VIAS DE FATOS POR VIOLÊNCIA DOMÉSTICA/FAMILIAR</td>\n",
       "      <td>2022-08-31</td>\n",
       "      <td>2022</td>\n",
       "      <td>FEMININO</td>\n",
       "      <td>18-24</td>\n",
       "      <td>1</td>\n",
       "      <td>8</td>\n",
       "    </tr>\n",
       "  </tbody>\n",
       "</table>\n",
       "<p>13802 rows × 9 columns</p>\n",
       "</div>"
      ],
      "text/plain": [
       "       MUNICÍPIO DO FATO REGIAO GEOGRÁFICA  \\\n",
       "21               CARUARU           AGRESTE   \n",
       "22               CARUARU           AGRESTE   \n",
       "23               CARUARU           AGRESTE   \n",
       "24               CARUARU           AGRESTE   \n",
       "25               CARUARU           AGRESTE   \n",
       "...                  ...               ...   \n",
       "253537           CARUARU           AGRESTE   \n",
       "253538           CARUARU           AGRESTE   \n",
       "253635           CARUARU           AGRESTE   \n",
       "253636           CARUARU           AGRESTE   \n",
       "253637           CARUARU           AGRESTE   \n",
       "\n",
       "                                                 NATUREZA DATA DO FATO   ANO  \\\n",
       "21                AMEAÇA POR VIOLÊNCIA DOMÉSTICA/FAMILIAR   2015-01-01  2015   \n",
       "22      ESTUPRO DE VULNERÁVEL POR VIOLÊNCIA DOMÉSTICA/...   2015-01-01  2015   \n",
       "23               INJÚRIA POR VIOLÊNCIA DOMÉSTICA/FAMILIAR   2015-01-01  2015   \n",
       "24        LESÃO CORPORAL POR VIOLÊNCIA DOMÉSTICA/FAMILIAR   2015-01-01  2015   \n",
       "25        LESÃO CORPORAL POR VIOLÊNCIA DOMÉSTICA/FAMILIAR   2015-01-01  2015   \n",
       "...                                                   ...          ...   ...   \n",
       "253537    LESÃO CORPORAL POR VIOLÊNCIA DOMÉSTICA/FAMILIAR   2022-08-30  2022   \n",
       "253538    LESÃO CORPORAL POR VIOLÊNCIA DOMÉSTICA/FAMILIAR   2022-08-30  2022   \n",
       "253635            AMEAÇA POR VIOLÊNCIA DOMÉSTICA/FAMILIAR   2022-08-31  2022   \n",
       "253636           INJÚRIA POR VIOLÊNCIA DOMÉSTICA/FAMILIAR   2022-08-31  2022   \n",
       "253637    VIAS DE FATOS POR VIOLÊNCIA DOMÉSTICA/FAMILIAR    2022-08-31  2022   \n",
       "\n",
       "            SEXO IDADE SENASP  TOTAL DE ENVOLVIDOS  MÊS DO FATO  \n",
       "21      FEMININO        35-64                    1            1  \n",
       "22      FEMININO        18-24                    1            1  \n",
       "23      FEMININO        18-24                    1            1  \n",
       "24      FEMININO        18-24                    1            1  \n",
       "25      FEMININO        30-34                    1            1  \n",
       "...          ...          ...                  ...          ...  \n",
       "253537  FEMININO        18-24                    1            8  \n",
       "253538  FEMININO        30-34                    1            8  \n",
       "253635  FEMININO        18-24                    1            8  \n",
       "253636  FEMININO        18-24                    1            8  \n",
       "253637  FEMININO        18-24                    1            8  \n",
       "\n",
       "[13802 rows x 9 columns]"
      ]
     },
     "execution_count": 20,
     "metadata": {},
     "output_type": "execute_result"
    }
   ],
   "source": [
    "df[ df['MUNICÍPIO DO FATO'] == 'CARUARU' ]"
   ]
  },
  {
   "cell_type": "code",
   "execution_count": 21,
   "id": "057ee026",
   "metadata": {},
   "outputs": [
    {
     "data": {
      "text/plain": [
       "35-64            4813\n",
       "18-24            2722\n",
       "30-34            2563\n",
       "25-29            2377\n",
       "12-17             594\n",
       "65 OU MAIS        378\n",
       "00-11             287\n",
       "Não informado      68\n",
       "Name: IDADE SENASP, dtype: int64"
      ]
     },
     "execution_count": 21,
     "metadata": {},
     "output_type": "execute_result"
    }
   ],
   "source": [
    "df[ df['MUNICÍPIO DO FATO'] == 'CARUARU' ]['IDADE SENASP'].value_counts()"
   ]
  },
  {
   "cell_type": "code",
   "execution_count": 22,
   "id": "ce91c6bf",
   "metadata": {},
   "outputs": [
    {
     "data": {
      "text/plain": [
       "2018    2119\n",
       "2019    1973\n",
       "2020    1843\n",
       "2017    1829\n",
       "2021    1754\n",
       "2016    1573\n",
       "2015    1531\n",
       "2022    1180\n",
       "Name: ANO, dtype: int64"
      ]
     },
     "execution_count": 22,
     "metadata": {},
     "output_type": "execute_result"
    }
   ],
   "source": [
    "df[ df['MUNICÍPIO DO FATO'] == 'CARUARU' ]['ANO'].value_counts()"
   ]
  },
  {
   "cell_type": "code",
   "execution_count": 23,
   "id": "ece0bfea",
   "metadata": {},
   "outputs": [
    {
     "data": {
      "text/plain": [
       "35-64            86982\n",
       "18-24            46158\n",
       "25-29            39575\n",
       "30-34            39403\n",
       "12-17            10410\n",
       "65 OU MAIS        8328\n",
       "00-11             3972\n",
       "Não informado     1982\n",
       "Name: IDADE SENASP, dtype: int64"
      ]
     },
     "execution_count": 23,
     "metadata": {},
     "output_type": "execute_result"
    }
   ],
   "source": [
    "df[ (df['SEXO'] == 'FEMININO') ]['IDADE SENASP'].value_counts()"
   ]
  },
  {
   "cell_type": "code",
   "execution_count": 24,
   "id": "6d48d08d",
   "metadata": {},
   "outputs": [
    {
     "data": {
      "text/plain": [
       "AMEAÇA POR VIOLÊNCIA DOMÉSTICA/FAMILIAR                    16907\n",
       "LESÃO CORPORAL POR VIOLÊNCIA DOMÉSTICA/FAMILIAR            14308\n",
       "INJÚRIA POR VIOLÊNCIA DOMÉSTICA/FAMILIAR                    5430\n",
       "VIAS DE FATOS POR VIOLÊNCIA DOMÉSTICA/FAMILIAR              2727\n",
       "OUTROS CRIMES POR VIOLÊNCIA DOMÉSTICA/FAMILIAR              2027\n",
       "DANO POR VIOLÊNCIA DOMÉSTICA/FAMILIAR                       2007\n",
       "DIFAMAÇÃO POR VIOLÊNCIA DOMÉSTICA/FAMILIAR                  1010\n",
       "PERTURBAÇÃO DO SOSSEGO POR VIOLÊNCIA DOMÉSTICA/FAMILIAR      972\n",
       "ESTUPRO POR VIOLÊNCIA DOMÉSTICA/FAMILIAR                     191\n",
       "CALÚNIA POR VIOLÊNCIA DOMÉSTICA/FAMILIAR                     150\n",
       "CONSTRANGIMENTO ILEGAL POR VIOLÊNCIA DOMÉSTICA/FAMILIAR      125\n",
       "MAUS TRATOS POR VIOLÊNCIA DOMÉSTICA/FAMILIAR                  97\n",
       "ESTUPRO DE VULNERÁVEL POR VIOLÊNCIA DOMÉSTICA/FAMILIAR        91\n",
       "PERSEGUIÇÃO POR VIOLÊNCIA DOMÉSTICA/FAMILIAR                  88\n",
       "CÁRCERE PRIVADO POR VIOLÊNCIA DOMÉSTICA/FAMILIAR              28\n",
       "Name: NATUREZA, dtype: int64"
      ]
     },
     "execution_count": 24,
     "metadata": {},
     "output_type": "execute_result"
    }
   ],
   "source": [
    "df[ (df['SEXO'] == 'FEMININO') & (df['IDADE SENASP'] == '18-24') ]['NATUREZA'].value_counts()"
   ]
  },
  {
   "cell_type": "markdown",
   "id": "c8ddf9a7",
   "metadata": {},
   "source": [
    "#### Verificando as idades das vítimas em alguns meses"
   ]
  },
  {
   "cell_type": "code",
   "execution_count": 25,
   "id": "1e6628a8",
   "metadata": {},
   "outputs": [
    {
     "data": {
      "text/plain": [
       "35-64            8673\n",
       "18-24            4176\n",
       "30-34            3827\n",
       "25-29            3677\n",
       "65 OU MAIS        932\n",
       "12-17             894\n",
       "00-11             471\n",
       "Não informado     279\n",
       "Name: IDADE SENASP, dtype: int64"
      ]
     },
     "execution_count": 25,
     "metadata": {},
     "output_type": "execute_result"
    }
   ],
   "source": [
    "df[df['MÊS DO FATO'] == 1]['IDADE SENASP'].value_counts()"
   ]
  },
  {
   "cell_type": "code",
   "execution_count": 26,
   "id": "5710b536",
   "metadata": {},
   "outputs": [
    {
     "data": {
      "text/plain": [
       "35-64            7558\n",
       "18-24            3853\n",
       "30-34            3455\n",
       "25-29            3410\n",
       "12-17             872\n",
       "65 OU MAIS        833\n",
       "00-11             482\n",
       "Não informado     240\n",
       "Name: IDADE SENASP, dtype: int64"
      ]
     },
     "execution_count": 26,
     "metadata": {},
     "output_type": "execute_result"
    }
   ],
   "source": [
    "df[df['MÊS DO FATO'] == 2]['IDADE SENASP'].value_counts()"
   ]
  },
  {
   "cell_type": "code",
   "execution_count": 27,
   "id": "c20706bd",
   "metadata": {
    "scrolled": true
   },
   "outputs": [
    {
     "data": {
      "text/plain": [
       "35-64            8355\n",
       "18-24            4284\n",
       "30-34            3849\n",
       "25-29            3754\n",
       "12-17            1022\n",
       "65 OU MAIS        925\n",
       "00-11             530\n",
       "Não informado     272\n",
       "Name: IDADE SENASP, dtype: int64"
      ]
     },
     "execution_count": 27,
     "metadata": {},
     "output_type": "execute_result"
    }
   ],
   "source": [
    "df[df['MÊS DO FATO'] == 3]['IDADE SENASP'].value_counts()"
   ]
  },
  {
   "cell_type": "markdown",
   "id": "8e939265",
   "metadata": {},
   "source": [
    "#### Verificando a média de vítimas por fato"
   ]
  },
  {
   "cell_type": "markdown",
   "id": "7b3f2cbb",
   "metadata": {},
   "source": [
    "aqui utilizamos o método len para contar o numero de features de determinado dataframe"
   ]
  },
  {
   "cell_type": "code",
   "execution_count": 28,
   "id": "86eacfa2",
   "metadata": {},
   "outputs": [
    {
     "data": {
      "text/plain": [
       "1.207076778753109"
      ]
     },
     "execution_count": 28,
     "metadata": {},
     "output_type": "execute_result"
    }
   ],
   "source": [
    "M = (df['TOTAL DE ENVOLVIDOS'].sum())/ (len(df))\n",
    "M"
   ]
  },
  {
   "cell_type": "markdown",
   "id": "d6360ad4",
   "metadata": {},
   "source": [
    "Entendendo que a média de vítimas é bem próximo a 1, resolve-se estudar um pouco mais sobre os casos com mais de uma vítima para entede-los"
   ]
  },
  {
   "cell_type": "code",
   "execution_count": 29,
   "id": "07155baf",
   "metadata": {
    "scrolled": true
   },
   "outputs": [
    {
     "data": {
      "text/plain": [
       "1     220954\n",
       "2      22500\n",
       "3       5664\n",
       "4       2266\n",
       "5       1075\n",
       "6        560\n",
       "7        309\n",
       "8        189\n",
       "9        106\n",
       "10        45\n",
       "11        22\n",
       "12         4\n",
       "13         4\n",
       "14         3\n",
       "16         1\n",
       "15         1\n",
       "Name: TOTAL DE ENVOLVIDOS, dtype: int64"
      ]
     },
     "execution_count": 29,
     "metadata": {},
     "output_type": "execute_result"
    }
   ],
   "source": [
    "df['TOTAL DE ENVOLVIDOS'].value_counts()"
   ]
  },
  {
   "cell_type": "code",
   "execution_count": 30,
   "id": "36f61864",
   "metadata": {},
   "outputs": [
    {
     "data": {
      "text/plain": [
       "12.908400767826947"
      ]
     },
     "execution_count": 30,
     "metadata": {},
     "output_type": "execute_result"
    }
   ],
   "source": [
    "(len(df[df['TOTAL DE ENVOLVIDOS'] > 1])/len(df)) * 100"
   ]
  },
  {
   "cell_type": "markdown",
   "id": "fed66731",
   "metadata": {},
   "source": [
    "Quase 13% dos acidentes envolvem mais de 1 vítima"
   ]
  },
  {
   "cell_type": "code",
   "execution_count": 31,
   "id": "dac45fdc",
   "metadata": {
    "scrolled": true
   },
   "outputs": [
    {
     "data": {
      "text/plain": [
       "AMEAÇA POR VIOLÊNCIA DOMÉSTICA/FAMILIAR                    15628\n",
       "LESÃO CORPORAL POR VIOLÊNCIA DOMÉSTICA/FAMILIAR             6933\n",
       "INJÚRIA POR VIOLÊNCIA DOMÉSTICA/FAMILIAR                    6275\n",
       "VIAS DE FATOS POR VIOLÊNCIA DOMÉSTICA/FAMILIAR              1083\n",
       "PERTURBAÇÃO DO SOSSEGO POR VIOLÊNCIA DOMÉSTICA/FAMILIAR      797\n",
       "DANO POR VIOLÊNCIA DOMÉSTICA/FAMILIAR                        549\n",
       "OUTROS CRIMES POR VIOLÊNCIA DOMÉSTICA/FAMILIAR               522\n",
       "DIFAMAÇÃO POR VIOLÊNCIA DOMÉSTICA/FAMILIAR                   349\n",
       "MAUS TRATOS POR VIOLÊNCIA DOMÉSTICA/FAMILIAR                 295\n",
       "ESTUPRO DE VULNERÁVEL POR VIOLÊNCIA DOMÉSTICA/FAMILIAR       197\n",
       "CALÚNIA POR VIOLÊNCIA DOMÉSTICA/FAMILIAR                      40\n",
       "PERSEGUIÇÃO POR VIOLÊNCIA DOMÉSTICA/FAMILIAR                  39\n",
       "CONSTRANGIMENTO ILEGAL POR VIOLÊNCIA DOMÉSTICA/FAMILIAR       18\n",
       "ESTUPRO POR VIOLÊNCIA DOMÉSTICA/FAMILIAR                      14\n",
       "CÁRCERE PRIVADO POR VIOLÊNCIA DOMÉSTICA/FAMILIAR              10\n",
       "Name: NATUREZA, dtype: int64"
      ]
     },
     "execution_count": 31,
     "metadata": {},
     "output_type": "execute_result"
    }
   ],
   "source": [
    "df[df['TOTAL DE ENVOLVIDOS'] > 1]['NATUREZA'].value_counts()"
   ]
  },
  {
   "cell_type": "markdown",
   "id": "fcd315f4",
   "metadata": {},
   "source": [
    "#### Algumas análises gráficas iniciais"
   ]
  },
  {
   "cell_type": "code",
   "execution_count": 32,
   "id": "23b8ff85",
   "metadata": {},
   "outputs": [
    {
     "data": {
      "text/plain": [
       "<AxesSubplot: >"
      ]
     },
     "execution_count": 32,
     "metadata": {},
     "output_type": "execute_result"
    },
    {
     "data": {
      "image/png": "[encoded data removed]",
      "text/plain": [
       "<Figure size 432x288 with 1 Axes>"
      ]
     },
     "metadata": {
      "needs_background": "light"
     },
     "output_type": "display_data"
    }
   ],
   "source": [
    "df['NATUREZA'].value_counts().plot.bar()"
   ]
  },
  {
   "cell_type": "code",
   "execution_count": 33,
   "id": "523ece2f",
   "metadata": {},
   "outputs": [
    {
     "data": {
      "text/plain": [
       "<AxesSubplot: >"
      ]
     },
     "execution_count": 33,
     "metadata": {},
     "output_type": "execute_result"
    },
    {
     "data": {
      "image/png": "[encoded data removed]",
      "text/plain": [
       "<Figure size 432x288 with 1 Axes>"
      ]
     },
     "metadata": {
      "needs_background": "light"
     },
     "output_type": "display_data"
    }
   ],
   "source": [
    "df['SEXO'].value_counts().plot.bar()"
   ]
  },
  {
   "cell_type": "markdown",
   "id": "44f60c56",
   "metadata": {},
   "source": [
    "## Criação de um dataset para analise temporal"
   ]
  },
  {
   "cell_type": "code",
   "execution_count": 34,
   "id": "bf1f266a",
   "metadata": {},
   "outputs": [],
   "source": [
    "df_temp = df['DATA DO FATO'].value_counts().rename_axis('data').to_frame('N_casos')"
   ]
  },
  {
   "cell_type": "code",
   "execution_count": 35,
   "id": "0ed28392",
   "metadata": {},
   "outputs": [],
   "source": [
    "df_temp.sort_index(inplace = True)"
   ]
  },
  {
   "cell_type": "code",
   "execution_count": 36,
   "id": "944ca2ff",
   "metadata": {
    "scrolled": false
   },
   "outputs": [
    {
     "data": {
      "text/html": [
       "<div>\n",
       "<style scoped>\n",
       "    .dataframe tbody tr th:only-of-type {\n",
       "        vertical-align: middle;\n",
       "    }\n",
       "\n",
       "    .dataframe tbody tr th {\n",
       "        vertical-align: top;\n",
       "    }\n",
       "\n",
       "    .dataframe thead th {\n",
       "        text-align: right;\n",
       "    }\n",
       "</style>\n",
       "<table border=\"1\" class=\"dataframe\">\n",
       "  <thead>\n",
       "    <tr style=\"text-align: right;\">\n",
       "      <th></th>\n",
       "      <th>N_casos</th>\n",
       "    </tr>\n",
       "    <tr>\n",
       "      <th>data</th>\n",
       "      <th></th>\n",
       "    </tr>\n",
       "  </thead>\n",
       "  <tbody>\n",
       "    <tr>\n",
       "      <th>2015-01-01</th>\n",
       "      <td>102</td>\n",
       "    </tr>\n",
       "    <tr>\n",
       "      <th>2015-01-02</th>\n",
       "      <td>53</td>\n",
       "    </tr>\n",
       "    <tr>\n",
       "      <th>2015-01-03</th>\n",
       "      <td>87</td>\n",
       "    </tr>\n",
       "    <tr>\n",
       "      <th>2015-01-04</th>\n",
       "      <td>107</td>\n",
       "    </tr>\n",
       "    <tr>\n",
       "      <th>2015-01-05</th>\n",
       "      <td>88</td>\n",
       "    </tr>\n",
       "    <tr>\n",
       "      <th>...</th>\n",
       "      <td>...</td>\n",
       "    </tr>\n",
       "    <tr>\n",
       "      <th>2022-08-27</th>\n",
       "      <td>94</td>\n",
       "    </tr>\n",
       "    <tr>\n",
       "      <th>2022-08-28</th>\n",
       "      <td>174</td>\n",
       "    </tr>\n",
       "    <tr>\n",
       "      <th>2022-08-29</th>\n",
       "      <td>110</td>\n",
       "    </tr>\n",
       "    <tr>\n",
       "      <th>2022-08-30</th>\n",
       "      <td>92</td>\n",
       "    </tr>\n",
       "    <tr>\n",
       "      <th>2022-08-31</th>\n",
       "      <td>97</td>\n",
       "    </tr>\n",
       "  </tbody>\n",
       "</table>\n",
       "<p>2800 rows × 1 columns</p>\n",
       "</div>"
      ],
      "text/plain": [
       "            N_casos\n",
       "data               \n",
       "2015-01-01      102\n",
       "2015-01-02       53\n",
       "2015-01-03       87\n",
       "2015-01-04      107\n",
       "2015-01-05       88\n",
       "...             ...\n",
       "2022-08-27       94\n",
       "2022-08-28      174\n",
       "2022-08-29      110\n",
       "2022-08-30       92\n",
       "2022-08-31       97\n",
       "\n",
       "[2800 rows x 1 columns]"
      ]
     },
     "execution_count": 36,
     "metadata": {},
     "output_type": "execute_result"
    }
   ],
   "source": [
    "df_temp"
   ]
  },
  {
   "cell_type": "code",
   "execution_count": 37,
   "id": "f6c6ebdb",
   "metadata": {
    "scrolled": true
   },
   "outputs": [
    {
     "data": {
      "text/plain": [
       "<AxesSubplot: xlabel='data'>"
      ]
     },
     "execution_count": 37,
     "metadata": {},
     "output_type": "execute_result"
    },
    {
     "data": {
      "image/png": "[encoded data removed]",
      "text/plain": [
       "<Figure size 1440x432 with 1 Axes>"
      ]
     },
     "metadata": {
      "needs_background": "light"
     },
     "output_type": "display_data"
    }
   ],
   "source": [
    "df_temp.plot(figsize=(20,6))"
   ]
  },
  {
   "cell_type": "code",
   "execution_count": 39,
   "id": "5b7dcde6",
   "metadata": {},
   "outputs": [
    {
     "name": "stdout",
     "output_type": "stream",
     "text": [
      "Collecting statsmodelsNote: you may need to restart the kernel to use updated packages.\n"
     ]
    },
    {
     "name": "stderr",
     "output_type": "stream",
     "text": [
      "\n",
      "[notice] A new release of pip available: 22.2.2 -> 22.3\n",
      "[notice] To update, run: python.exe -m pip install --upgrade pip\n"
     ]
    },
    {
     "name": "stdout",
     "output_type": "stream",
     "text": [
      "\n",
      "  Downloading statsmodels-0.13.3-cp310-cp310-win_amd64.whl (9.1 MB)\n",
      "     ---------------------------------------- 9.1/9.1 MB 333.6 kB/s eta 0:00:00\n",
      "Requirement already satisfied: packaging>=21.3 in c:\\users\\ingrid freire\\appdata\\local\\programs\\python\\python310\\lib\\site-packages (from statsmodels) (21.3)\n",
      "Requirement already satisfied: numpy>=1.22.3 in c:\\users\\ingrid freire\\appdata\\local\\programs\\python\\python310\\lib\\site-packages (from statsmodels) (1.22.3)\n",
      "Collecting patsy>=0.5.2\n",
      "  Downloading patsy-0.5.3-py2.py3-none-any.whl (233 kB)\n",
      "     ------------------------------------ 233.8/233.8 kB 207.2 kB/s eta 0:00:00\n",
      "Requirement already satisfied: pandas>=0.25 in c:\\users\\ingrid freire\\appdata\\local\\programs\\python\\python310\\lib\\site-packages (from statsmodels) (1.5.0)\n",
      "Collecting scipy>=1.3\n",
      "  Downloading scipy-1.9.3-cp310-cp310-win_amd64.whl (40.1 MB)\n",
      "     -------------------------------------- 40.1/40.1 MB 390.0 kB/s eta 0:00:00\n",
      "Requirement already satisfied: pyparsing!=3.0.5,>=2.0.2 in c:\\users\\ingrid freire\\appdata\\local\\programs\\python\\python310\\lib\\site-packages (from packaging>=21.3->statsmodels) (3.0.8)\n",
      "Requirement already satisfied: python-dateutil>=2.8.1 in c:\\users\\ingrid freire\\appdata\\local\\programs\\python\\python310\\lib\\site-packages (from pandas>=0.25->statsmodels) (2.8.2)\n",
      "Requirement already satisfied: pytz>=2020.1 in c:\\users\\ingrid freire\\appdata\\local\\programs\\python\\python310\\lib\\site-packages (from pandas>=0.25->statsmodels) (2022.1)\n",
      "Requirement already satisfied: six in c:\\users\\ingrid freire\\appdata\\local\\programs\\python\\python310\\lib\\site-packages (from patsy>=0.5.2->statsmodels) (1.16.0)\n",
      "Installing collected packages: scipy, patsy, statsmodels\n",
      "Successfully installed patsy-0.5.3 scipy-1.9.3 statsmodels-0.13.3\n"
     ]
    }
   ],
   "source": [
    "pip install statsmodels"
   ]
  },
  {
   "cell_type": "code",
   "execution_count": 40,
   "id": "1554bf41",
   "metadata": {},
   "outputs": [],
   "source": [
    "import statsmodels.tsa.api as tsa"
   ]
  },
  {
   "cell_type": "code",
   "execution_count": 41,
   "id": "a982da38",
   "metadata": {},
   "outputs": [
    {
     "data": {
      "image/png": "[encoded data removed]",
      "text/plain": [
       "<Figure size 432x288 with 4 Axes>"
      ]
     },
     "metadata": {
      "needs_background": "light"
     },
     "output_type": "display_data"
    }
   ],
   "source": [
    "df_decomp = tsa.seasonal_decompose(df_temp, period = 90)\n",
    "df_decomp.plot();"
   ]
  },
  {
   "cell_type": "markdown",
   "id": "6694993c",
   "metadata": {},
   "source": [
    "## Análise dos casos da região Metropolitana"
   ]
  },
  {
   "cell_type": "code",
   "execution_count": 42,
   "id": "3dc435eb",
   "metadata": {},
   "outputs": [
    {
     "data": {
      "text/html": [
       "<div>\n",
       "<style scoped>\n",
       "    .dataframe tbody tr th:only-of-type {\n",
       "        vertical-align: middle;\n",
       "    }\n",
       "\n",
       "    .dataframe tbody tr th {\n",
       "        vertical-align: top;\n",
       "    }\n",
       "\n",
       "    .dataframe thead th {\n",
       "        text-align: right;\n",
       "    }\n",
       "</style>\n",
       "<table border=\"1\" class=\"dataframe\">\n",
       "  <thead>\n",
       "    <tr style=\"text-align: right;\">\n",
       "      <th></th>\n",
       "      <th>MUNICÍPIO DO FATO</th>\n",
       "      <th>REGIAO GEOGRÁFICA</th>\n",
       "      <th>NATUREZA</th>\n",
       "      <th>DATA DO FATO</th>\n",
       "      <th>ANO</th>\n",
       "      <th>SEXO</th>\n",
       "      <th>IDADE SENASP</th>\n",
       "      <th>TOTAL DE ENVOLVIDOS</th>\n",
       "      <th>MÊS DO FATO</th>\n",
       "    </tr>\n",
       "  </thead>\n",
       "  <tbody>\n",
       "    <tr>\n",
       "      <th>12</th>\n",
       "      <td>CABO DE SANTO AGOSTINHO</td>\n",
       "      <td>REGIÃO METROPOLITANA</td>\n",
       "      <td>AMEAÇA POR VIOLÊNCIA DOMÉSTICA/FAMILIAR</td>\n",
       "      <td>2015-01-01</td>\n",
       "      <td>2015</td>\n",
       "      <td>FEMININO</td>\n",
       "      <td>18-24</td>\n",
       "      <td>1</td>\n",
       "      <td>1</td>\n",
       "    </tr>\n",
       "    <tr>\n",
       "      <th>13</th>\n",
       "      <td>CABO DE SANTO AGOSTINHO</td>\n",
       "      <td>REGIÃO METROPOLITANA</td>\n",
       "      <td>AMEAÇA POR VIOLÊNCIA DOMÉSTICA/FAMILIAR</td>\n",
       "      <td>2015-01-01</td>\n",
       "      <td>2015</td>\n",
       "      <td>FEMININO</td>\n",
       "      <td>30-34</td>\n",
       "      <td>1</td>\n",
       "      <td>1</td>\n",
       "    </tr>\n",
       "    <tr>\n",
       "      <th>14</th>\n",
       "      <td>CABO DE SANTO AGOSTINHO</td>\n",
       "      <td>REGIÃO METROPOLITANA</td>\n",
       "      <td>INJÚRIA POR VIOLÊNCIA DOMÉSTICA/FAMILIAR</td>\n",
       "      <td>2015-01-01</td>\n",
       "      <td>2015</td>\n",
       "      <td>FEMININO</td>\n",
       "      <td>18-24</td>\n",
       "      <td>1</td>\n",
       "      <td>1</td>\n",
       "    </tr>\n",
       "    <tr>\n",
       "      <th>15</th>\n",
       "      <td>CABO DE SANTO AGOSTINHO</td>\n",
       "      <td>REGIÃO METROPOLITANA</td>\n",
       "      <td>LESÃO CORPORAL POR VIOLÊNCIA DOMÉSTICA/FAMILIAR</td>\n",
       "      <td>2015-01-01</td>\n",
       "      <td>2015</td>\n",
       "      <td>FEMININO</td>\n",
       "      <td>30-34</td>\n",
       "      <td>1</td>\n",
       "      <td>1</td>\n",
       "    </tr>\n",
       "    <tr>\n",
       "      <th>16</th>\n",
       "      <td>CABO DE SANTO AGOSTINHO</td>\n",
       "      <td>REGIÃO METROPOLITANA</td>\n",
       "      <td>LESÃO CORPORAL POR VIOLÊNCIA DOMÉSTICA/FAMILIAR</td>\n",
       "      <td>2015-01-01</td>\n",
       "      <td>2015</td>\n",
       "      <td>FEMININO</td>\n",
       "      <td>35-64</td>\n",
       "      <td>1</td>\n",
       "      <td>1</td>\n",
       "    </tr>\n",
       "    <tr>\n",
       "      <th>...</th>\n",
       "      <td>...</td>\n",
       "      <td>...</td>\n",
       "      <td>...</td>\n",
       "      <td>...</td>\n",
       "      <td>...</td>\n",
       "      <td>...</td>\n",
       "      <td>...</td>\n",
       "      <td>...</td>\n",
       "      <td>...</td>\n",
       "    </tr>\n",
       "    <tr>\n",
       "      <th>253670</th>\n",
       "      <td>OLINDA</td>\n",
       "      <td>REGIÃO METROPOLITANA</td>\n",
       "      <td>OUTROS CRIMES POR VIOLÊNCIA DOMÉSTICA/FAMILIAR</td>\n",
       "      <td>2022-08-31</td>\n",
       "      <td>2022</td>\n",
       "      <td>FEMININO</td>\n",
       "      <td>35-64</td>\n",
       "      <td>1</td>\n",
       "      <td>8</td>\n",
       "    </tr>\n",
       "    <tr>\n",
       "      <th>253674</th>\n",
       "      <td>PAULISTA</td>\n",
       "      <td>REGIÃO METROPOLITANA</td>\n",
       "      <td>LESÃO CORPORAL POR VIOLÊNCIA DOMÉSTICA/FAMILIAR</td>\n",
       "      <td>2022-08-31</td>\n",
       "      <td>2022</td>\n",
       "      <td>FEMININO</td>\n",
       "      <td>35-64</td>\n",
       "      <td>1</td>\n",
       "      <td>8</td>\n",
       "    </tr>\n",
       "    <tr>\n",
       "      <th>253675</th>\n",
       "      <td>PAULISTA</td>\n",
       "      <td>REGIÃO METROPOLITANA</td>\n",
       "      <td>LESÃO CORPORAL POR VIOLÊNCIA DOMÉSTICA/FAMILIAR</td>\n",
       "      <td>2022-08-31</td>\n",
       "      <td>2022</td>\n",
       "      <td>MASCULINO</td>\n",
       "      <td>35-64</td>\n",
       "      <td>1</td>\n",
       "      <td>8</td>\n",
       "    </tr>\n",
       "    <tr>\n",
       "      <th>253676</th>\n",
       "      <td>PAULISTA</td>\n",
       "      <td>REGIÃO METROPOLITANA</td>\n",
       "      <td>MAUS TRATOS POR VIOLÊNCIA DOMÉSTICA/FAMILIAR</td>\n",
       "      <td>2022-08-31</td>\n",
       "      <td>2022</td>\n",
       "      <td>FEMININO</td>\n",
       "      <td>00-11</td>\n",
       "      <td>1</td>\n",
       "      <td>8</td>\n",
       "    </tr>\n",
       "    <tr>\n",
       "      <th>253677</th>\n",
       "      <td>PAULISTA</td>\n",
       "      <td>REGIÃO METROPOLITANA</td>\n",
       "      <td>VIAS DE FATOS POR VIOLÊNCIA DOMÉSTICA/FAMILIAR</td>\n",
       "      <td>2022-08-31</td>\n",
       "      <td>2022</td>\n",
       "      <td>FEMININO</td>\n",
       "      <td>35-64</td>\n",
       "      <td>1</td>\n",
       "      <td>8</td>\n",
       "    </tr>\n",
       "  </tbody>\n",
       "</table>\n",
       "<p>67286 rows × 9 columns</p>\n",
       "</div>"
      ],
      "text/plain": [
       "              MUNICÍPIO DO FATO     REGIAO GEOGRÁFICA  \\\n",
       "12      CABO DE SANTO AGOSTINHO  REGIÃO METROPOLITANA   \n",
       "13      CABO DE SANTO AGOSTINHO  REGIÃO METROPOLITANA   \n",
       "14      CABO DE SANTO AGOSTINHO  REGIÃO METROPOLITANA   \n",
       "15      CABO DE SANTO AGOSTINHO  REGIÃO METROPOLITANA   \n",
       "16      CABO DE SANTO AGOSTINHO  REGIÃO METROPOLITANA   \n",
       "...                         ...                   ...   \n",
       "253670                   OLINDA  REGIÃO METROPOLITANA   \n",
       "253674                 PAULISTA  REGIÃO METROPOLITANA   \n",
       "253675                 PAULISTA  REGIÃO METROPOLITANA   \n",
       "253676                 PAULISTA  REGIÃO METROPOLITANA   \n",
       "253677                 PAULISTA  REGIÃO METROPOLITANA   \n",
       "\n",
       "                                               NATUREZA DATA DO FATO   ANO  \\\n",
       "12              AMEAÇA POR VIOLÊNCIA DOMÉSTICA/FAMILIAR   2015-01-01  2015   \n",
       "13              AMEAÇA POR VIOLÊNCIA DOMÉSTICA/FAMILIAR   2015-01-01  2015   \n",
       "14             INJÚRIA POR VIOLÊNCIA DOMÉSTICA/FAMILIAR   2015-01-01  2015   \n",
       "15      LESÃO CORPORAL POR VIOLÊNCIA DOMÉSTICA/FAMILIAR   2015-01-01  2015   \n",
       "16      LESÃO CORPORAL POR VIOLÊNCIA DOMÉSTICA/FAMILIAR   2015-01-01  2015   \n",
       "...                                                 ...          ...   ...   \n",
       "253670   OUTROS CRIMES POR VIOLÊNCIA DOMÉSTICA/FAMILIAR   2022-08-31  2022   \n",
       "253674  LESÃO CORPORAL POR VIOLÊNCIA DOMÉSTICA/FAMILIAR   2022-08-31  2022   \n",
       "253675  LESÃO CORPORAL POR VIOLÊNCIA DOMÉSTICA/FAMILIAR   2022-08-31  2022   \n",
       "253676     MAUS TRATOS POR VIOLÊNCIA DOMÉSTICA/FAMILIAR   2022-08-31  2022   \n",
       "253677  VIAS DE FATOS POR VIOLÊNCIA DOMÉSTICA/FAMILIAR    2022-08-31  2022   \n",
       "\n",
       "             SEXO IDADE SENASP  TOTAL DE ENVOLVIDOS  MÊS DO FATO  \n",
       "12       FEMININO        18-24                    1            1  \n",
       "13       FEMININO        30-34                    1            1  \n",
       "14       FEMININO        18-24                    1            1  \n",
       "15       FEMININO        30-34                    1            1  \n",
       "16       FEMININO        35-64                    1            1  \n",
       "...           ...          ...                  ...          ...  \n",
       "253670   FEMININO        35-64                    1            8  \n",
       "253674   FEMININO        35-64                    1            8  \n",
       "253675  MASCULINO        35-64                    1            8  \n",
       "253676   FEMININO        00-11                    1            8  \n",
       "253677   FEMININO        35-64                    1            8  \n",
       "\n",
       "[67286 rows x 9 columns]"
      ]
     },
     "execution_count": 42,
     "metadata": {},
     "output_type": "execute_result"
    }
   ],
   "source": [
    "df_metropolitana= df[ df['REGIAO GEOGRÁFICA'] == 'REGIÃO METROPOLITANA' ]\n",
    "df_metropolitana"
   ]
  },
  {
   "cell_type": "code",
   "execution_count": 43,
   "id": "b5486148",
   "metadata": {},
   "outputs": [
    {
     "data": {
      "text/plain": [
       "JABOATAO DOS GUARARAPES    15161\n",
       "OLINDA                     13428\n",
       "PAULISTA                   11997\n",
       "CABO DE SANTO AGOSTINHO     6288\n",
       "CAMARAGIBE                  4590\n",
       "SAO LOURENCO DA MATA        3298\n",
       "IGARASSU                    3252\n",
       "ABREU E LIMA                3020\n",
       "IPOJUCA                     2707\n",
       "MORENO                      1189\n",
       "ITAMARACA                   1166\n",
       "ITAPISSUMA                   636\n",
       "ARACOIABA                    385\n",
       "FERNANDO DE NORONHA          169\n",
       "Name: MUNICÍPIO DO FATO, dtype: int64"
      ]
     },
     "execution_count": 43,
     "metadata": {},
     "output_type": "execute_result"
    }
   ],
   "source": [
    "df_metropolitana['MUNICÍPIO DO FATO'].value_counts()"
   ]
  },
  {
   "cell_type": "code",
   "execution_count": 44,
   "id": "f89a5763",
   "metadata": {},
   "outputs": [
    {
     "data": {
      "text/plain": [
       "35-64            26052\n",
       "18-24            12158\n",
       "25-29            10933\n",
       "30-34            10917\n",
       "12-17             2598\n",
       "65 OU MAIS        2284\n",
       "00-11             1681\n",
       "Não informado      663\n",
       "Name: IDADE SENASP, dtype: int64"
      ]
     },
     "execution_count": 44,
     "metadata": {},
     "output_type": "execute_result"
    }
   ],
   "source": [
    "df_metropolitana['IDADE SENASP'].value_counts()"
   ]
  },
  {
   "cell_type": "code",
   "execution_count": 45,
   "id": "6b1c0031",
   "metadata": {},
   "outputs": [
    {
     "data": {
      "text/plain": [
       "FEMININO                      63305\n",
       "MASCULINO                      3825\n",
       "DESCONHECIDO/NAO INFORMADO      156\n",
       "Name: SEXO, dtype: int64"
      ]
     },
     "execution_count": 45,
     "metadata": {},
     "output_type": "execute_result"
    }
   ],
   "source": [
    "df_metropolitana['SEXO'].value_counts()"
   ]
  },
  {
   "cell_type": "code",
   "execution_count": 46,
   "id": "da4b7966",
   "metadata": {},
   "outputs": [
    {
     "data": {
      "text/plain": [
       "AMEAÇA POR VIOLÊNCIA DOMÉSTICA/FAMILIAR                    24470\n",
       "LESÃO CORPORAL POR VIOLÊNCIA DOMÉSTICA/FAMILIAR            15001\n",
       "INJÚRIA POR VIOLÊNCIA DOMÉSTICA/FAMILIAR                   10228\n",
       "OUTROS CRIMES POR VIOLÊNCIA DOMÉSTICA/FAMILIAR              4201\n",
       "DANO POR VIOLÊNCIA DOMÉSTICA/FAMILIAR                       2935\n",
       "VIAS DE FATOS POR VIOLÊNCIA DOMÉSTICA/FAMILIAR              2719\n",
       "DIFAMAÇÃO POR VIOLÊNCIA DOMÉSTICA/FAMILIAR                  2568\n",
       "PERTURBAÇÃO DO SOSSEGO POR VIOLÊNCIA DOMÉSTICA/FAMILIAR     1869\n",
       "MAUS TRATOS POR VIOLÊNCIA DOMÉSTICA/FAMILIAR                1044\n",
       "ESTUPRO DE VULNERÁVEL POR VIOLÊNCIA DOMÉSTICA/FAMILIAR       867\n",
       "CALÚNIA POR VIOLÊNCIA DOMÉSTICA/FAMILIAR                     470\n",
       "CONSTRANGIMENTO ILEGAL POR VIOLÊNCIA DOMÉSTICA/FAMILIAR      393\n",
       "ESTUPRO POR VIOLÊNCIA DOMÉSTICA/FAMILIAR                     312\n",
       "PERSEGUIÇÃO POR VIOLÊNCIA DOMÉSTICA/FAMILIAR                 152\n",
       "CÁRCERE PRIVADO POR VIOLÊNCIA DOMÉSTICA/FAMILIAR              57\n",
       "Name: NATUREZA, dtype: int64"
      ]
     },
     "execution_count": 46,
     "metadata": {},
     "output_type": "execute_result"
    }
   ],
   "source": [
    "df_metropolitana['NATUREZA'].value_counts()"
   ]
  },
  {
   "cell_type": "code",
   "execution_count": 47,
   "id": "df2ce847",
   "metadata": {},
   "outputs": [
    {
     "data": {
      "text/plain": [
       "1     59219\n",
       "2      6494\n",
       "3      1215\n",
       "4       275\n",
       "5        67\n",
       "6        11\n",
       "7         3\n",
       "12        1\n",
       "8         1\n",
       "Name: TOTAL DE ENVOLVIDOS, dtype: int64"
      ]
     },
     "execution_count": 47,
     "metadata": {},
     "output_type": "execute_result"
    }
   ],
   "source": [
    "df_metropolitana['TOTAL DE ENVOLVIDOS'].value_counts()"
   ]
  },
  {
   "cell_type": "code",
   "execution_count": 48,
   "id": "c21d1df4",
   "metadata": {},
   "outputs": [
    {
     "name": "stderr",
     "output_type": "stream",
     "text": [
      "C:\\Users\\Ingrid Freire\\AppData\\Local\\Temp\\ipykernel_9888\\1786257456.py:1: UserWarning: Boolean Series key will be reindexed to match DataFrame index.\n",
      "  df_metropolitana[ (df['SEXO'] == 'FEMININO') & (df['IDADE SENASP'] == '35-64') & (df['TOTAL DE ENVOLVIDOS'] == 1) ]['NATUREZA'].value_counts()\n"
     ]
    },
    {
     "data": {
      "text/plain": [
       "AMEAÇA POR VIOLÊNCIA DOMÉSTICA/FAMILIAR                    6342\n",
       "LESÃO CORPORAL POR VIOLÊNCIA DOMÉSTICA/FAMILIAR            3753\n",
       "INJÚRIA POR VIOLÊNCIA DOMÉSTICA/FAMILIAR                   3700\n",
       "OUTROS CRIMES POR VIOLÊNCIA DOMÉSTICA/FAMILIAR             1660\n",
       "DANO POR VIOLÊNCIA DOMÉSTICA/FAMILIAR                      1151\n",
       "DIFAMAÇÃO POR VIOLÊNCIA DOMÉSTICA/FAMILIAR                 1090\n",
       "VIAS DE FATOS POR VIOLÊNCIA DOMÉSTICA/FAMILIAR              948\n",
       "PERTURBAÇÃO DO SOSSEGO POR VIOLÊNCIA DOMÉSTICA/FAMILIAR     804\n",
       "CALÚNIA POR VIOLÊNCIA DOMÉSTICA/FAMILIAR                    237\n",
       "CONSTRANGIMENTO ILEGAL POR VIOLÊNCIA DOMÉSTICA/FAMILIAR     182\n",
       "MAUS TRATOS POR VIOLÊNCIA DOMÉSTICA/FAMILIAR                 82\n",
       "ESTUPRO POR VIOLÊNCIA DOMÉSTICA/FAMILIAR                     78\n",
       "PERSEGUIÇÃO POR VIOLÊNCIA DOMÉSTICA/FAMILIAR                 60\n",
       "ESTUPRO DE VULNERÁVEL POR VIOLÊNCIA DOMÉSTICA/FAMILIAR       18\n",
       "CÁRCERE PRIVADO POR VIOLÊNCIA DOMÉSTICA/FAMILIAR             14\n",
       "Name: NATUREZA, dtype: int64"
      ]
     },
     "execution_count": 48,
     "metadata": {},
     "output_type": "execute_result"
    }
   ],
   "source": [
    "df_metropolitana[ (df['SEXO'] == 'FEMININO') & (df['IDADE SENASP'] == '35-64') & (df['TOTAL DE ENVOLVIDOS'] == 1) ]['NATUREZA'].value_counts()"
   ]
  },
  {
   "cell_type": "code",
   "execution_count": 49,
   "id": "2f7048e6",
   "metadata": {},
   "outputs": [
    {
     "name": "stderr",
     "output_type": "stream",
     "text": [
      "C:\\Users\\Ingrid Freire\\AppData\\Local\\Temp\\ipykernel_9888\\3932453554.py:1: UserWarning: Boolean Series key will be reindexed to match DataFrame index.\n",
      "  df_metropolitana[ (df['SEXO'] == 'FEMININO') & (df['IDADE SENASP'] == '35-64') &  (df['TOTAL DE ENVOLVIDOS'] == 1) & (df['NATUREZA'] =='AMEAÇA POR VIOLÊNCIA DOMÉSTICA/FAMILIAR') ]['ANO'].value_counts()\n"
     ]
    },
    {
     "data": {
      "text/plain": [
       "2021    916\n",
       "2019    883\n",
       "2018    877\n",
       "2020    854\n",
       "2015    772\n",
       "2016    752\n",
       "2017    747\n",
       "2022    541\n",
       "Name: ANO, dtype: int64"
      ]
     },
     "execution_count": 49,
     "metadata": {},
     "output_type": "execute_result"
    }
   ],
   "source": [
    "df_metropolitana[ (df['SEXO'] == 'FEMININO') & (df['IDADE SENASP'] == '35-64') &  (df['TOTAL DE ENVOLVIDOS'] == 1) & (df['NATUREZA'] =='AMEAÇA POR VIOLÊNCIA DOMÉSTICA/FAMILIAR') ]['ANO'].value_counts()"
   ]
  },
  {
   "cell_type": "code",
   "execution_count": 50,
   "id": "952e53eb",
   "metadata": {},
   "outputs": [
    {
     "name": "stderr",
     "output_type": "stream",
     "text": [
      "C:\\Users\\Ingrid Freire\\AppData\\Local\\Temp\\ipykernel_9888\\406591139.py:1: UserWarning: Boolean Series key will be reindexed to match DataFrame index.\n",
      "  df_metropolitana[ (df['SEXO'] == 'FEMININO') & (df['IDADE SENASP'] == '35-64') &  (df['TOTAL DE ENVOLVIDOS'] == 1) & (df['NATUREZA'] =='AMEAÇA POR VIOLÊNCIA DOMÉSTICA/FAMILIAR') ]['ANO'].value_counts().sort_index().plot.bar()\n"
     ]
    },
    {
     "data": {
      "text/plain": [
       "<AxesSubplot: >"
      ]
     },
     "execution_count": 50,
     "metadata": {},
     "output_type": "execute_result"
    },
    {
     "data": {
      "image/png": "[encoded data removed]",
      "text/plain": [
       "<Figure size 432x288 with 1 Axes>"
      ]
     },
     "metadata": {
      "needs_background": "light"
     },
     "output_type": "display_data"
    }
   ],
   "source": [
    "df_metropolitana[ (df['SEXO'] == 'FEMININO') & (df['IDADE SENASP'] == '35-64') &  (df['TOTAL DE ENVOLVIDOS'] == 1) & (df['NATUREZA'] =='AMEAÇA POR VIOLÊNCIA DOMÉSTICA/FAMILIAR') ]['ANO'].value_counts().sort_index().plot.bar()"
   ]
  },
  {
   "cell_type": "code",
   "execution_count": 51,
   "id": "9a4e66e7",
   "metadata": {},
   "outputs": [
    {
     "name": "stderr",
     "output_type": "stream",
     "text": [
      "C:\\Users\\Ingrid Freire\\AppData\\Local\\Temp\\ipykernel_9888\\4101755010.py:1: UserWarning: Boolean Series key will be reindexed to match DataFrame index.\n",
      "  df_metropolitana[ (df['SEXO'] == 'FEMININO') & (df['IDADE SENASP'] == '35-64') &  (df['TOTAL DE ENVOLVIDOS'] == 1) & (df['NATUREZA'] =='AMEAÇA POR VIOLÊNCIA DOMÉSTICA/FAMILIAR') & (df['ANO'] == 2021) ]['MÊS DO FATO'].value_counts()\n"
     ]
    },
    {
     "data": {
      "text/plain": [
       "9     86\n",
       "10    84\n",
       "4     80\n",
       "8     80\n",
       "11    79\n",
       "3     78\n",
       "5     76\n",
       "1     75\n",
       "12    75\n",
       "6     72\n",
       "7     67\n",
       "2     64\n",
       "Name: MÊS DO FATO, dtype: int64"
      ]
     },
     "execution_count": 51,
     "metadata": {},
     "output_type": "execute_result"
    }
   ],
   "source": [
    "df_metropolitana[ (df['SEXO'] == 'FEMININO') & (df['IDADE SENASP'] == '35-64') &  (df['TOTAL DE ENVOLVIDOS'] == 1) & (df['NATUREZA'] =='AMEAÇA POR VIOLÊNCIA DOMÉSTICA/FAMILIAR') & (df['ANO'] == 2021) ]['MÊS DO FATO'].value_counts()"
   ]
  },
  {
   "cell_type": "code",
   "execution_count": 52,
   "id": "5126b66d",
   "metadata": {},
   "outputs": [
    {
     "name": "stderr",
     "output_type": "stream",
     "text": [
      "C:\\Users\\Ingrid Freire\\AppData\\Local\\Temp\\ipykernel_9888\\2535320207.py:1: UserWarning: Boolean Series key will be reindexed to match DataFrame index.\n",
      "  df_metropolitana[ (df['SEXO'] == 'FEMININO') & (df['IDADE SENASP'] == '35-64') &  (df['TOTAL DE ENVOLVIDOS'] == 1) & (df['NATUREZA'] =='AMEAÇA POR VIOLÊNCIA DOMÉSTICA/FAMILIAR') & (df['ANO'] == 2021) ]['MÊS DO FATO'].value_counts().sort_index().plot.bar()\n"
     ]
    },
    {
     "data": {
      "text/plain": [
       "<AxesSubplot: >"
      ]
     },
     "execution_count": 52,
     "metadata": {},
     "output_type": "execute_result"
    },
    {
     "data": {
      "image/png": "[encoded data removed]",
      "text/plain": [
       "<Figure size 432x288 with 1 Axes>"
      ]
     },
     "metadata": {
      "needs_background": "light"
     },
     "output_type": "display_data"
    }
   ],
   "source": [
    "df_metropolitana[ (df['SEXO'] == 'FEMININO') & (df['IDADE SENASP'] == '35-64') &  (df['TOTAL DE ENVOLVIDOS'] == 1) & (df['NATUREZA'] =='AMEAÇA POR VIOLÊNCIA DOMÉSTICA/FAMILIAR') & (df['ANO'] == 2021) ]['MÊS DO FATO'].value_counts().sort_index().plot.bar()"
   ]
  }
 ],
 "metadata": {
  "kernelspec": {
   "display_name": "Python 3.10.0 64-bit",
   "language": "python",
   "name": "python3"
  },
  "language_info": {
   "codemirror_mode": {
    "name": "ipython",
    "version": 3
   },
   "file_extension": ".py",
   "mimetype": "text/x-python",
   "name": "python",
   "nbconvert_exporter": "python",
   "pygments_lexer": "ipython3",
   "version": "3.10.0"
  },
  "vscode": {
   "interpreter": {
    "hash": "d7a41a1eff3538bd3d05aef2ea14ef5ff2699c7c0863adfb489f39c639aac83d"
   }
  }
 },
 "nbformat": 4,
 "nbformat_minor": 5
}
