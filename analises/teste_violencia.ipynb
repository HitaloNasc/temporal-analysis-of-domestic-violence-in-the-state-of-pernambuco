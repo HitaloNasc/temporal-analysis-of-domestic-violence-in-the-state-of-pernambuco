{
 "cells": [
  {
   "cell_type": "markdown",
   "id": "34b24620",
   "metadata": {},
   "source": [
    "   # VIOLÊNCIA DOMÉSTICA NO ESTADO DE PERNAMBUCO"
   ]
  },
  {
   "cell_type": "markdown",
   "id": "8928b649",
   "metadata": {},
   "source": [
    "### IMPORTANDO AS BIBLIOTECAS"
   ]
  },
  {
   "cell_type": "code",
   "execution_count": 5,
   "id": "723fda91",
   "metadata": {},
   "outputs": [
    {
     "name": "stdout",
     "output_type": "stream",
     "text": [
      "Collecting openpyxl\n",
      "  Downloading openpyxl-3.0.10-py2.py3-none-any.whl (242 kB)\n",
      "     -------------------------------------- 242.1/242.1 kB 1.1 MB/s eta 0:00:00\n",
      "Collecting et-xmlfile\n",
      "  Downloading et_xmlfile-1.1.0-py3-none-any.whl (4.7 kB)\n",
      "Installing collected packages: et-xmlfile, openpyxl\n",
      "Successfully installed et-xmlfile-1.1.0 openpyxl-3.0.10\n",
      "Note: you may need to restart the kernel to use updated packages.\n"
     ]
    },
    {
     "name": "stderr",
     "output_type": "stream",
     "text": [
      "\n",
      "[notice] A new release of pip available: 22.2.1 -> 22.2.2\n",
      "[notice] To update, run: C:\\Users\\gabri\\AppData\\Local\\Microsoft\\WindowsApps\\PythonSoftwareFoundation.Python.3.9_qbz5n2kfra8p0\\python.exe -m pip install --upgrade pip\n"
     ]
    }
   ],
   "source": [
    "pip install openpyxl"
   ]
  },
  {
   "cell_type": "code",
   "execution_count": 1,
   "id": "acd4a116",
   "metadata": {},
   "outputs": [
    {
     "name": "stdout",
     "output_type": "stream",
     "text": [
      "Requirement already satisfied: pandas in c:\\users\\gabri\\appdata\\local\\packages\\pythonsoftwarefoundation.python.3.9_qbz5n2kfra8p0\\localcache\\local-packages\\python39\\site-packages (1.4.3)\n",
      "Requirement already satisfied: python-dateutil>=2.8.1 in c:\\users\\gabri\\appdata\\local\\packages\\pythonsoftwarefoundation.python.3.9_qbz5n2kfra8p0\\localcache\\local-packages\\python39\\site-packages (from pandas) (2.8.2)\n",
      "Requirement already satisfied: numpy>=1.18.5 in c:\\users\\gabri\\appdata\\local\\packages\\pythonsoftwarefoundation.python.3.9_qbz5n2kfra8p0\\localcache\\local-packages\\python39\\site-packages (from pandas) (1.21.2)\n",
      "Requirement already satisfied: pytz>=2020.1 in c:\\users\\gabri\\appdata\\local\\packages\\pythonsoftwarefoundation.python.3.9_qbz5n2kfra8p0\\localcache\\local-packages\\python39\\site-packages (from pandas) (2021.1)\n",
      "Requirement already satisfied: six>=1.5 in c:\\users\\gabri\\appdata\\local\\packages\\pythonsoftwarefoundation.python.3.9_qbz5n2kfra8p0\\localcache\\local-packages\\python39\\site-packages (from python-dateutil>=2.8.1->pandas) (1.16.0)\n",
      "Note: you may need to restart the kernel to use updated packages.\n"
     ]
    },
    {
     "name": "stderr",
     "output_type": "stream",
     "text": [
      "\n",
      "[notice] A new release of pip available: 22.2.1 -> 22.2.2\n",
      "[notice] To update, run: C:\\Users\\gabri\\AppData\\Local\\Microsoft\\WindowsApps\\PythonSoftwareFoundation.Python.3.9_qbz5n2kfra8p0\\python.exe -m pip install --upgrade pip\n"
     ]
    }
   ],
   "source": [
    "pip install pandas"
   ]
  },
  {
   "cell_type": "code",
   "execution_count": 2,
   "id": "00b390fb",
   "metadata": {},
   "outputs": [],
   "source": [
    "import pandas as pd"
   ]
  },
  {
   "cell_type": "markdown",
   "id": "21c76f18",
   "metadata": {},
   "source": [
    "## LENDO O ARQUIVO EXCEL"
   ]
  },
  {
   "cell_type": "code",
   "execution_count": 6,
   "id": "f7354d2b",
   "metadata": {},
   "outputs": [],
   "source": [
    "df = pd.read_excel(r'C:\\Users\\gabri\\Desktop\\temporal-analysis-of-domestic-violence-in-the-state-of-pernambuco\\Data\\MICRODADOS_DE_VIOLÊNCIA_DOMÉSTICA_JAN_2015_A_AGO_2022.xlsx')"
   ]
  },
  {
   "cell_type": "code",
   "execution_count": 9,
   "id": "af19f2d7",
   "metadata": {},
   "outputs": [
    {
     "data": {
      "text/html": [
       "<div>\n",
       "<style scoped>\n",
       "    .dataframe tbody tr th:only-of-type {\n",
       "        vertical-align: middle;\n",
       "    }\n",
       "\n",
       "    .dataframe tbody tr th {\n",
       "        vertical-align: top;\n",
       "    }\n",
       "\n",
       "    .dataframe thead th {\n",
       "        text-align: right;\n",
       "    }\n",
       "</style>\n",
       "<table border=\"1\" class=\"dataframe\">\n",
       "  <thead>\n",
       "    <tr style=\"text-align: right;\">\n",
       "      <th></th>\n",
       "      <th>MUNICÍPIO DO FATO</th>\n",
       "      <th>REGIAO GEOGRÁFICA</th>\n",
       "      <th>NATUREZA</th>\n",
       "      <th>DATA DO FATO</th>\n",
       "      <th>ANO</th>\n",
       "      <th>SEXO</th>\n",
       "      <th>IDADE SENASP</th>\n",
       "      <th>TOTAL DE ENVOLVIDOS</th>\n",
       "    </tr>\n",
       "  </thead>\n",
       "  <tbody>\n",
       "    <tr>\n",
       "      <th>0</th>\n",
       "      <td>AFOGADOS DA INGAZEIRA</td>\n",
       "      <td>SERTÃO</td>\n",
       "      <td>INJÚRIA POR VIOLÊNCIA DOMÉSTICA/FAMILIAR</td>\n",
       "      <td>2015-01-01</td>\n",
       "      <td>2015</td>\n",
       "      <td>FEMININO</td>\n",
       "      <td>6) 35-64</td>\n",
       "      <td>1</td>\n",
       "    </tr>\n",
       "    <tr>\n",
       "      <th>1</th>\n",
       "      <td>AFRANIO</td>\n",
       "      <td>SERTÃO</td>\n",
       "      <td>AMEAÇA POR VIOLÊNCIA DOMÉSTICA/FAMILIAR</td>\n",
       "      <td>2015-01-01</td>\n",
       "      <td>2015</td>\n",
       "      <td>FEMININO</td>\n",
       "      <td>5) 30-34</td>\n",
       "      <td>1</td>\n",
       "    </tr>\n",
       "    <tr>\n",
       "      <th>2</th>\n",
       "      <td>AFRANIO</td>\n",
       "      <td>SERTÃO</td>\n",
       "      <td>LESÃO CORPORAL POR VIOLÊNCIA DOMÉSTICA/FAMILIAR</td>\n",
       "      <td>2015-01-01</td>\n",
       "      <td>2015</td>\n",
       "      <td>FEMININO</td>\n",
       "      <td>4) 25-29</td>\n",
       "      <td>1</td>\n",
       "    </tr>\n",
       "    <tr>\n",
       "      <th>3</th>\n",
       "      <td>AGUAS BELAS</td>\n",
       "      <td>AGRESTE</td>\n",
       "      <td>ESTUPRO DE VULNERÁVEL POR VIOLÊNCIA DOMÉSTICA/...</td>\n",
       "      <td>2015-01-01</td>\n",
       "      <td>2015</td>\n",
       "      <td>FEMININO</td>\n",
       "      <td>2) 12-17</td>\n",
       "      <td>1</td>\n",
       "    </tr>\n",
       "    <tr>\n",
       "      <th>4</th>\n",
       "      <td>ALAGOINHA</td>\n",
       "      <td>AGRESTE</td>\n",
       "      <td>AMEAÇA POR VIOLÊNCIA DOMÉSTICA/FAMILIAR</td>\n",
       "      <td>2015-01-01</td>\n",
       "      <td>2015</td>\n",
       "      <td>FEMININO</td>\n",
       "      <td>6) 35-64</td>\n",
       "      <td>1</td>\n",
       "    </tr>\n",
       "    <tr>\n",
       "      <th>...</th>\n",
       "      <td>...</td>\n",
       "      <td>...</td>\n",
       "      <td>...</td>\n",
       "      <td>...</td>\n",
       "      <td>...</td>\n",
       "      <td>...</td>\n",
       "      <td>...</td>\n",
       "      <td>...</td>\n",
       "    </tr>\n",
       "    <tr>\n",
       "      <th>253698</th>\n",
       "      <td>SAO JOSE DO BELMONTE</td>\n",
       "      <td>SERTÃO</td>\n",
       "      <td>MAUS TRATOS POR VIOLÊNCIA DOMÉSTICA/FAMILIAR</td>\n",
       "      <td>2022-08-31</td>\n",
       "      <td>2022</td>\n",
       "      <td>FEMININO</td>\n",
       "      <td>(vazio)</td>\n",
       "      <td>1</td>\n",
       "    </tr>\n",
       "    <tr>\n",
       "      <th>253699</th>\n",
       "      <td>SAO JOSE DO EGITO</td>\n",
       "      <td>SERTÃO</td>\n",
       "      <td>AMEAÇA POR VIOLÊNCIA DOMÉSTICA/FAMILIAR</td>\n",
       "      <td>2022-08-31</td>\n",
       "      <td>2022</td>\n",
       "      <td>FEMININO</td>\n",
       "      <td>3) 18-24</td>\n",
       "      <td>1</td>\n",
       "    </tr>\n",
       "    <tr>\n",
       "      <th>253700</th>\n",
       "      <td>SURUBIM</td>\n",
       "      <td>AGRESTE</td>\n",
       "      <td>PERTURBAÇÃO DO SOSSEGO POR VIOLÊNCIA DOMÉSTICA...</td>\n",
       "      <td>2022-08-31</td>\n",
       "      <td>2022</td>\n",
       "      <td>FEMININO</td>\n",
       "      <td>6) 35-64</td>\n",
       "      <td>1</td>\n",
       "    </tr>\n",
       "    <tr>\n",
       "      <th>253701</th>\n",
       "      <td>VERDEJANTE</td>\n",
       "      <td>SERTÃO</td>\n",
       "      <td>AMEAÇA POR VIOLÊNCIA DOMÉSTICA/FAMILIAR</td>\n",
       "      <td>2022-08-31</td>\n",
       "      <td>2022</td>\n",
       "      <td>FEMININO</td>\n",
       "      <td>6) 35-64</td>\n",
       "      <td>1</td>\n",
       "    </tr>\n",
       "    <tr>\n",
       "      <th>253702</th>\n",
       "      <td>VERDEJANTE</td>\n",
       "      <td>SERTÃO</td>\n",
       "      <td>LESÃO CORPORAL POR VIOLÊNCIA DOMÉSTICA/FAMILIAR</td>\n",
       "      <td>2022-08-31</td>\n",
       "      <td>2022</td>\n",
       "      <td>FEMININO</td>\n",
       "      <td>3) 18-24</td>\n",
       "      <td>1</td>\n",
       "    </tr>\n",
       "  </tbody>\n",
       "</table>\n",
       "<p>253703 rows × 8 columns</p>\n",
       "</div>"
      ],
      "text/plain": [
       "            MUNICÍPIO DO FATO REGIAO GEOGRÁFICA  \\\n",
       "0       AFOGADOS DA INGAZEIRA            SERTÃO   \n",
       "1                     AFRANIO            SERTÃO   \n",
       "2                     AFRANIO            SERTÃO   \n",
       "3                 AGUAS BELAS           AGRESTE   \n",
       "4                   ALAGOINHA           AGRESTE   \n",
       "...                       ...               ...   \n",
       "253698   SAO JOSE DO BELMONTE            SERTÃO   \n",
       "253699      SAO JOSE DO EGITO            SERTÃO   \n",
       "253700                SURUBIM           AGRESTE   \n",
       "253701             VERDEJANTE            SERTÃO   \n",
       "253702             VERDEJANTE            SERTÃO   \n",
       "\n",
       "                                                 NATUREZA DATA DO FATO   ANO  \\\n",
       "0                INJÚRIA POR VIOLÊNCIA DOMÉSTICA/FAMILIAR   2015-01-01  2015   \n",
       "1                 AMEAÇA POR VIOLÊNCIA DOMÉSTICA/FAMILIAR   2015-01-01  2015   \n",
       "2         LESÃO CORPORAL POR VIOLÊNCIA DOMÉSTICA/FAMILIAR   2015-01-01  2015   \n",
       "3       ESTUPRO DE VULNERÁVEL POR VIOLÊNCIA DOMÉSTICA/...   2015-01-01  2015   \n",
       "4                 AMEAÇA POR VIOLÊNCIA DOMÉSTICA/FAMILIAR   2015-01-01  2015   \n",
       "...                                                   ...          ...   ...   \n",
       "253698       MAUS TRATOS POR VIOLÊNCIA DOMÉSTICA/FAMILIAR   2022-08-31  2022   \n",
       "253699            AMEAÇA POR VIOLÊNCIA DOMÉSTICA/FAMILIAR   2022-08-31  2022   \n",
       "253700  PERTURBAÇÃO DO SOSSEGO POR VIOLÊNCIA DOMÉSTICA...   2022-08-31  2022   \n",
       "253701            AMEAÇA POR VIOLÊNCIA DOMÉSTICA/FAMILIAR   2022-08-31  2022   \n",
       "253702    LESÃO CORPORAL POR VIOLÊNCIA DOMÉSTICA/FAMILIAR   2022-08-31  2022   \n",
       "\n",
       "            SEXO IDADE SENASP  TOTAL DE ENVOLVIDOS  \n",
       "0       FEMININO     6) 35-64                    1  \n",
       "1       FEMININO     5) 30-34                    1  \n",
       "2       FEMININO     4) 25-29                    1  \n",
       "3       FEMININO     2) 12-17                    1  \n",
       "4       FEMININO     6) 35-64                    1  \n",
       "...          ...          ...                  ...  \n",
       "253698  FEMININO      (vazio)                    1  \n",
       "253699  FEMININO     3) 18-24                    1  \n",
       "253700  FEMININO     6) 35-64                    1  \n",
       "253701  FEMININO     6) 35-64                    1  \n",
       "253702  FEMININO     3) 18-24                    1  \n",
       "\n",
       "[253703 rows x 8 columns]"
      ]
     },
     "execution_count": 9,
     "metadata": {},
     "output_type": "execute_result"
    }
   ],
   "source": [
    "df"
   ]
  },
  {
   "cell_type": "markdown",
   "id": "58d434eb",
   "metadata": {},
   "source": [
    "### Criando filtros"
   ]
  },
  {
   "cell_type": "code",
   "execution_count": 18,
   "id": "382adb0a",
   "metadata": {},
   "outputs": [
    {
     "data": {
      "text/plain": [
       "0         AFOGADOS DA INGAZEIRA\n",
       "1                       AFRANIO\n",
       "2                       AFRANIO\n",
       "3                   AGUAS BELAS\n",
       "4                     ALAGOINHA\n",
       "                  ...          \n",
       "253698     SAO JOSE DO BELMONTE\n",
       "253699        SAO JOSE DO EGITO\n",
       "253700                  SURUBIM\n",
       "253701               VERDEJANTE\n",
       "253702               VERDEJANTE\n",
       "Name: MUNICÍPIO DO FATO, Length: 253703, dtype: object"
      ]
     },
     "execution_count": 18,
     "metadata": {},
     "output_type": "execute_result"
    }
   ],
   "source": [
    "df['MUNICÍPIO DO FATO']"
   ]
  },
  {
   "cell_type": "code",
   "execution_count": 20,
   "id": "243c0246",
   "metadata": {},
   "outputs": [
    {
     "data": {
      "text/html": [
       "<div>\n",
       "<style scoped>\n",
       "    .dataframe tbody tr th:only-of-type {\n",
       "        vertical-align: middle;\n",
       "    }\n",
       "\n",
       "    .dataframe tbody tr th {\n",
       "        vertical-align: top;\n",
       "    }\n",
       "\n",
       "    .dataframe thead th {\n",
       "        text-align: right;\n",
       "    }\n",
       "</style>\n",
       "<table border=\"1\" class=\"dataframe\">\n",
       "  <thead>\n",
       "    <tr style=\"text-align: right;\">\n",
       "      <th></th>\n",
       "      <th>MUNICÍPIO DO FATO</th>\n",
       "      <th>REGIAO GEOGRÁFICA</th>\n",
       "      <th>NATUREZA</th>\n",
       "      <th>DATA DO FATO</th>\n",
       "      <th>ANO</th>\n",
       "      <th>SEXO</th>\n",
       "      <th>IDADE SENASP</th>\n",
       "      <th>TOTAL DE ENVOLVIDOS</th>\n",
       "    </tr>\n",
       "  </thead>\n",
       "  <tbody>\n",
       "    <tr>\n",
       "      <th>21</th>\n",
       "      <td>CARUARU</td>\n",
       "      <td>AGRESTE</td>\n",
       "      <td>AMEAÇA POR VIOLÊNCIA DOMÉSTICA/FAMILIAR</td>\n",
       "      <td>2015-01-01</td>\n",
       "      <td>2015</td>\n",
       "      <td>FEMININO</td>\n",
       "      <td>6) 35-64</td>\n",
       "      <td>1</td>\n",
       "    </tr>\n",
       "    <tr>\n",
       "      <th>22</th>\n",
       "      <td>CARUARU</td>\n",
       "      <td>AGRESTE</td>\n",
       "      <td>ESTUPRO DE VULNERÁVEL POR VIOLÊNCIA DOMÉSTICA/...</td>\n",
       "      <td>2015-01-01</td>\n",
       "      <td>2015</td>\n",
       "      <td>FEMININO</td>\n",
       "      <td>3) 18-24</td>\n",
       "      <td>1</td>\n",
       "    </tr>\n",
       "    <tr>\n",
       "      <th>23</th>\n",
       "      <td>CARUARU</td>\n",
       "      <td>AGRESTE</td>\n",
       "      <td>INJÚRIA POR VIOLÊNCIA DOMÉSTICA/FAMILIAR</td>\n",
       "      <td>2015-01-01</td>\n",
       "      <td>2015</td>\n",
       "      <td>FEMININO</td>\n",
       "      <td>3) 18-24</td>\n",
       "      <td>1</td>\n",
       "    </tr>\n",
       "    <tr>\n",
       "      <th>24</th>\n",
       "      <td>CARUARU</td>\n",
       "      <td>AGRESTE</td>\n",
       "      <td>LESÃO CORPORAL POR VIOLÊNCIA DOMÉSTICA/FAMILIAR</td>\n",
       "      <td>2015-01-01</td>\n",
       "      <td>2015</td>\n",
       "      <td>FEMININO</td>\n",
       "      <td>3) 18-24</td>\n",
       "      <td>1</td>\n",
       "    </tr>\n",
       "    <tr>\n",
       "      <th>25</th>\n",
       "      <td>CARUARU</td>\n",
       "      <td>AGRESTE</td>\n",
       "      <td>LESÃO CORPORAL POR VIOLÊNCIA DOMÉSTICA/FAMILIAR</td>\n",
       "      <td>2015-01-01</td>\n",
       "      <td>2015</td>\n",
       "      <td>FEMININO</td>\n",
       "      <td>5) 30-34</td>\n",
       "      <td>1</td>\n",
       "    </tr>\n",
       "    <tr>\n",
       "      <th>...</th>\n",
       "      <td>...</td>\n",
       "      <td>...</td>\n",
       "      <td>...</td>\n",
       "      <td>...</td>\n",
       "      <td>...</td>\n",
       "      <td>...</td>\n",
       "      <td>...</td>\n",
       "      <td>...</td>\n",
       "    </tr>\n",
       "    <tr>\n",
       "      <th>253537</th>\n",
       "      <td>CARUARU</td>\n",
       "      <td>AGRESTE</td>\n",
       "      <td>LESÃO CORPORAL POR VIOLÊNCIA DOMÉSTICA/FAMILIAR</td>\n",
       "      <td>2022-08-30</td>\n",
       "      <td>2022</td>\n",
       "      <td>FEMININO</td>\n",
       "      <td>3) 18-24</td>\n",
       "      <td>1</td>\n",
       "    </tr>\n",
       "    <tr>\n",
       "      <th>253538</th>\n",
       "      <td>CARUARU</td>\n",
       "      <td>AGRESTE</td>\n",
       "      <td>LESÃO CORPORAL POR VIOLÊNCIA DOMÉSTICA/FAMILIAR</td>\n",
       "      <td>2022-08-30</td>\n",
       "      <td>2022</td>\n",
       "      <td>FEMININO</td>\n",
       "      <td>5) 30-34</td>\n",
       "      <td>1</td>\n",
       "    </tr>\n",
       "    <tr>\n",
       "      <th>253635</th>\n",
       "      <td>CARUARU</td>\n",
       "      <td>AGRESTE</td>\n",
       "      <td>AMEAÇA POR VIOLÊNCIA DOMÉSTICA/FAMILIAR</td>\n",
       "      <td>2022-08-31</td>\n",
       "      <td>2022</td>\n",
       "      <td>FEMININO</td>\n",
       "      <td>3) 18-24</td>\n",
       "      <td>1</td>\n",
       "    </tr>\n",
       "    <tr>\n",
       "      <th>253636</th>\n",
       "      <td>CARUARU</td>\n",
       "      <td>AGRESTE</td>\n",
       "      <td>INJÚRIA POR VIOLÊNCIA DOMÉSTICA/FAMILIAR</td>\n",
       "      <td>2022-08-31</td>\n",
       "      <td>2022</td>\n",
       "      <td>FEMININO</td>\n",
       "      <td>3) 18-24</td>\n",
       "      <td>1</td>\n",
       "    </tr>\n",
       "    <tr>\n",
       "      <th>253637</th>\n",
       "      <td>CARUARU</td>\n",
       "      <td>AGRESTE</td>\n",
       "      <td>VIAS DE FATOS POR VIOLÊNCIA DOMÉSTICA/FAMILIAR</td>\n",
       "      <td>2022-08-31</td>\n",
       "      <td>2022</td>\n",
       "      <td>FEMININO</td>\n",
       "      <td>3) 18-24</td>\n",
       "      <td>1</td>\n",
       "    </tr>\n",
       "  </tbody>\n",
       "</table>\n",
       "<p>13802 rows × 8 columns</p>\n",
       "</div>"
      ],
      "text/plain": [
       "       MUNICÍPIO DO FATO REGIAO GEOGRÁFICA  \\\n",
       "21               CARUARU           AGRESTE   \n",
       "22               CARUARU           AGRESTE   \n",
       "23               CARUARU           AGRESTE   \n",
       "24               CARUARU           AGRESTE   \n",
       "25               CARUARU           AGRESTE   \n",
       "...                  ...               ...   \n",
       "253537           CARUARU           AGRESTE   \n",
       "253538           CARUARU           AGRESTE   \n",
       "253635           CARUARU           AGRESTE   \n",
       "253636           CARUARU           AGRESTE   \n",
       "253637           CARUARU           AGRESTE   \n",
       "\n",
       "                                                 NATUREZA DATA DO FATO   ANO  \\\n",
       "21                AMEAÇA POR VIOLÊNCIA DOMÉSTICA/FAMILIAR   2015-01-01  2015   \n",
       "22      ESTUPRO DE VULNERÁVEL POR VIOLÊNCIA DOMÉSTICA/...   2015-01-01  2015   \n",
       "23               INJÚRIA POR VIOLÊNCIA DOMÉSTICA/FAMILIAR   2015-01-01  2015   \n",
       "24        LESÃO CORPORAL POR VIOLÊNCIA DOMÉSTICA/FAMILIAR   2015-01-01  2015   \n",
       "25        LESÃO CORPORAL POR VIOLÊNCIA DOMÉSTICA/FAMILIAR   2015-01-01  2015   \n",
       "...                                                   ...          ...   ...   \n",
       "253537    LESÃO CORPORAL POR VIOLÊNCIA DOMÉSTICA/FAMILIAR   2022-08-30  2022   \n",
       "253538    LESÃO CORPORAL POR VIOLÊNCIA DOMÉSTICA/FAMILIAR   2022-08-30  2022   \n",
       "253635            AMEAÇA POR VIOLÊNCIA DOMÉSTICA/FAMILIAR   2022-08-31  2022   \n",
       "253636           INJÚRIA POR VIOLÊNCIA DOMÉSTICA/FAMILIAR   2022-08-31  2022   \n",
       "253637    VIAS DE FATOS POR VIOLÊNCIA DOMÉSTICA/FAMILIAR    2022-08-31  2022   \n",
       "\n",
       "            SEXO IDADE SENASP  TOTAL DE ENVOLVIDOS  \n",
       "21      FEMININO     6) 35-64                    1  \n",
       "22      FEMININO     3) 18-24                    1  \n",
       "23      FEMININO     3) 18-24                    1  \n",
       "24      FEMININO     3) 18-24                    1  \n",
       "25      FEMININO     5) 30-34                    1  \n",
       "...          ...          ...                  ...  \n",
       "253537  FEMININO     3) 18-24                    1  \n",
       "253538  FEMININO     5) 30-34                    1  \n",
       "253635  FEMININO     3) 18-24                    1  \n",
       "253636  FEMININO     3) 18-24                    1  \n",
       "253637  FEMININO     3) 18-24                    1  \n",
       "\n",
       "[13802 rows x 8 columns]"
      ]
     },
     "execution_count": 20,
     "metadata": {},
     "output_type": "execute_result"
    }
   ],
   "source": [
    "df_caruaru = df[ df['MUNICÍPIO DO FATO'] == 'CARUARU' ]\n",
    "df_caruaru"
   ]
  },
  {
   "cell_type": "code",
   "execution_count": 21,
   "id": "057ee026",
   "metadata": {},
   "outputs": [
    {
     "data": {
      "text/plain": [
       "6) 35-64         4813\n",
       "3) 18-24         2722\n",
       "5) 30-34         2563\n",
       "4) 25-29         2377\n",
       "2) 12-17          594\n",
       "7) 65 OU MAIS     378\n",
       "1) 00-11          287\n",
       "(vazio)            68\n",
       "Name: IDADE SENASP, dtype: int64"
      ]
     },
     "execution_count": 21,
     "metadata": {},
     "output_type": "execute_result"
    }
   ],
   "source": [
    "df_caruaru['IDADE SENASP'].value_counts()"
   ]
  },
  {
   "cell_type": "code",
   "execution_count": 22,
   "id": "ce91c6bf",
   "metadata": {},
   "outputs": [
    {
     "data": {
      "text/plain": [
       "2018    2119\n",
       "2019    1973\n",
       "2020    1843\n",
       "2017    1829\n",
       "2021    1754\n",
       "2016    1573\n",
       "2015    1531\n",
       "2022    1180\n",
       "Name: ANO, dtype: int64"
      ]
     },
     "execution_count": 22,
     "metadata": {},
     "output_type": "execute_result"
    }
   ],
   "source": [
    "df_caruaru['ANO'].value_counts()"
   ]
  },
  {
   "cell_type": "code",
   "execution_count": 39,
   "id": "ece0bfea",
   "metadata": {},
   "outputs": [
    {
     "data": {
      "text/plain": [
       "6) 35-64         86982\n",
       "3) 18-24         46158\n",
       "4) 25-29         39575\n",
       "5) 30-34         39403\n",
       "2) 12-17         10410\n",
       "7) 65 OU MAIS     8328\n",
       "1) 00-11          3972\n",
       "(vazio)           1982\n",
       "Name: IDADE SENASP, dtype: int64"
      ]
     },
     "execution_count": 39,
     "metadata": {},
     "output_type": "execute_result"
    }
   ],
   "source": [
    "df[ (df['SEXO'] == 'FEMININO') ]['IDADE SENASP'].value_counts()"
   ]
  },
  {
   "cell_type": "code",
   "execution_count": 43,
   "id": "6d48d08d",
   "metadata": {},
   "outputs": [
    {
     "data": {
      "text/plain": [
       "AMEAÇA POR VIOLÊNCIA DOMÉSTICA/FAMILIAR                    16907\n",
       "LESÃO CORPORAL POR VIOLÊNCIA DOMÉSTICA/FAMILIAR            14308\n",
       "INJÚRIA POR VIOLÊNCIA DOMÉSTICA/FAMILIAR                    5430\n",
       "VIAS DE FATOS POR VIOLÊNCIA DOMÉSTICA/FAMILIAR              2727\n",
       "OUTROS CRIMES POR VIOLÊNCIA DOMÉSTICA/FAMILIAR              2027\n",
       "DANO POR VIOLÊNCIA DOMÉSTICA/FAMILIAR                       2007\n",
       "DIFAMAÇÃO POR VIOLÊNCIA DOMÉSTICA/FAMILIAR                  1010\n",
       "PERTURBAÇÃO DO SOSSEGO POR VIOLÊNCIA DOMÉSTICA/FAMILIAR      972\n",
       "ESTUPRO POR VIOLÊNCIA DOMÉSTICA/FAMILIAR                     191\n",
       "CALÚNIA POR VIOLÊNCIA DOMÉSTICA/FAMILIAR                     150\n",
       "CONSTRANGIMENTO ILEGAL POR VIOLÊNCIA DOMÉSTICA/FAMILIAR      125\n",
       "MAUS TRATOS POR VIOLÊNCIA DOMÉSTICA/FAMILIAR                  97\n",
       "ESTUPRO DE VULNERÁVEL POR VIOLÊNCIA DOMÉSTICA/FAMILIAR        91\n",
       "PERSEGUIÇÃO POR VIOLÊNCIA DOMÉSTICA/FAMILIAR                  88\n",
       "CÁRCERE PRIVADO POR VIOLÊNCIA DOMÉSTICA/FAMILIAR              28\n",
       "Name: NATUREZA, dtype: int64"
      ]
     },
     "execution_count": 43,
     "metadata": {},
     "output_type": "execute_result"
    }
   ],
   "source": [
    "df[ (df['SEXO'] == 'FEMININO') & (df['IDADE SENASP'] == '3) 18-24') ]['NATUREZA'].value_counts()"
   ]
  },
  {
   "cell_type": "markdown",
   "id": "4fcdf595",
   "metadata": {},
   "source": [
    "#### VERIFICAÇÃO DOS TIPOS COLUNÁRES"
   ]
  },
  {
   "cell_type": "code",
   "execution_count": 10,
   "id": "8ecf0d22",
   "metadata": {},
   "outputs": [
    {
     "data": {
      "text/plain": [
       "MUNICÍPIO DO FATO              object\n",
       "REGIAO GEOGRÁFICA              object\n",
       "NATUREZA                       object\n",
       "DATA DO FATO           datetime64[ns]\n",
       "ANO                             int64\n",
       "SEXO                           object\n",
       "IDADE SENASP                   object\n",
       "TOTAL DE ENVOLVIDOS             int64\n",
       "dtype: object"
      ]
     },
     "execution_count": 10,
     "metadata": {},
     "output_type": "execute_result"
    }
   ],
   "source": [
    "df.dtypes"
   ]
  },
  {
   "cell_type": "markdown",
   "id": "971f930c",
   "metadata": {},
   "source": [
    "## AALISE DOS VALORES COLUNARES"
   ]
  },
  {
   "cell_type": "code",
   "execution_count": 15,
   "id": "f92902de",
   "metadata": {
    "scrolled": false
   },
   "outputs": [
    {
     "data": {
      "text/plain": [
       "6) 35-64         92515\n",
       "3) 18-24         48331\n",
       "4) 25-29         41295\n",
       "5) 30-34         41077\n",
       "2) 12-17         11919\n",
       "7) 65 OU MAIS     9693\n",
       "1) 00-11          5959\n",
       "(vazio)           2914\n",
       "Name: IDADE SENASP, dtype: int64"
      ]
     },
     "execution_count": 15,
     "metadata": {},
     "output_type": "execute_result"
    }
   ],
   "source": [
    "df['IDADE SENASP'].value_counts()"
   ]
  },
  {
   "cell_type": "markdown",
   "id": "6ae77a42",
   "metadata": {},
   "source": [
    "Necessário fazer ajustes na strig"
   ]
  },
  {
   "cell_type": "code",
   "execution_count": 23,
   "id": "a7d60d61",
   "metadata": {
    "scrolled": true
   },
   "outputs": [
    {
     "data": {
      "text/plain": [
       "RECIFE                     42592\n",
       "JABOATAO DOS GUARARAPES    15161\n",
       "CARUARU                    13802\n",
       "OLINDA                     13428\n",
       "PETROLINA                  12257\n",
       "                           ...  \n",
       "GRANITO                      101\n",
       "QUIXABA                       99\n",
       "INGAZEIRA                     97\n",
       "MARAIAL                       91\n",
       "ITACURUBA                     82\n",
       "Name: MUNICÍPIO DO FATO, Length: 185, dtype: int64"
      ]
     },
     "execution_count": 23,
     "metadata": {},
     "output_type": "execute_result"
    }
   ],
   "source": [
    "df['MUNICÍPIO DO FATO'].value_counts()"
   ]
  },
  {
   "cell_type": "markdown",
   "id": "3ba296d1",
   "metadata": {},
   "source": [
    "String já pré-processada, não precisa de ajustes"
   ]
  },
  {
   "cell_type": "code",
   "execution_count": 39,
   "id": "de224b49",
   "metadata": {
    "scrolled": true
   },
   "outputs": [
    {
     "data": {
      "text/plain": [
       "AMEAÇA POR VIOLÊNCIA DOMÉSTICA/FAMILIAR                    92689\n",
       "LESÃO CORPORAL POR VIOLÊNCIA DOMÉSTICA/FAMILIAR            63960\n",
       "INJÚRIA POR VIOLÊNCIA DOMÉSTICA/FAMILIAR                   33233\n",
       "OUTROS CRIMES POR VIOLÊNCIA DOMÉSTICA/FAMILIAR             12914\n",
       "DANO POR VIOLÊNCIA DOMÉSTICA/FAMILIAR                      12490\n",
       "VIAS DE FATOS POR VIOLÊNCIA DOMÉSTICA/FAMILIAR             12487\n",
       "PERTURBAÇÃO DO SOSSEGO POR VIOLÊNCIA DOMÉSTICA/FAMILIAR     8966\n",
       "DIFAMAÇÃO POR VIOLÊNCIA DOMÉSTICA/FAMILIAR                  6724\n",
       "MAUS TRATOS POR VIOLÊNCIA DOMÉSTICA/FAMILIAR                3281\n",
       "ESTUPRO DE VULNERÁVEL POR VIOLÊNCIA DOMÉSTICA/FAMILIAR      2792\n",
       "CALÚNIA POR VIOLÊNCIA DOMÉSTICA/FAMILIAR                    1397\n",
       "CONSTRANGIMENTO ILEGAL POR VIOLÊNCIA DOMÉSTICA/FAMILIAR     1019\n",
       "ESTUPRO POR VIOLÊNCIA DOMÉSTICA/FAMILIAR                     975\n",
       "PERSEGUIÇÃO POR VIOLÊNCIA DOMÉSTICA/FAMILIAR                 586\n",
       "CÁRCERE PRIVADO POR VIOLÊNCIA DOMÉSTICA/FAMILIAR             190\n",
       "Name: NATUREZA, dtype: int64"
      ]
     },
     "execution_count": 39,
     "metadata": {},
     "output_type": "execute_result"
    }
   ],
   "source": [
    "df['NATUREZA'].value_counts()"
   ]
  },
  {
   "cell_type": "code",
   "execution_count": 40,
   "id": "31a10f21",
   "metadata": {
    "scrolled": false
   },
   "outputs": [
    {
     "data": {
      "text/plain": [
       "FEMININO         236810\n",
       "MASCULINO         16113\n",
       "DESCONHECIDO        610\n",
       "NAO INFORMADO       170\n",
       "Name: SEXO, dtype: int64"
      ]
     },
     "execution_count": 40,
     "metadata": {},
     "output_type": "execute_result"
    }
   ],
   "source": [
    "df['SEXO'].value_counts()"
   ]
  },
  {
   "cell_type": "markdown",
   "id": "78b4a8f5",
   "metadata": {},
   "source": [
    "#### Verificando existencia de dados faltantes"
   ]
  },
  {
   "cell_type": "code",
   "execution_count": 45,
   "id": "b4da188b",
   "metadata": {},
   "outputs": [
    {
     "data": {
      "text/plain": [
       "MUNICÍPIO DO FATO      253703\n",
       "REGIAO GEOGRÁFICA      253703\n",
       "NATUREZA               253703\n",
       "DATA DO FATO           253703\n",
       "ANO                    253703\n",
       "SEXO                   253703\n",
       "IDADE SENASP           253703\n",
       "TOTAL DE ENVOLVIDOS    253703\n",
       "dtype: int64"
      ]
     },
     "execution_count": 45,
     "metadata": {},
     "output_type": "execute_result"
    }
   ],
   "source": [
    "df.isnull().count()"
   ]
  },
  {
   "cell_type": "code",
   "execution_count": 47,
   "id": "d17f6e75",
   "metadata": {},
   "outputs": [
    {
     "data": {
      "text/plain": [
       "'35-64'"
      ]
     },
     "execution_count": 47,
     "metadata": {},
     "output_type": "execute_result"
    }
   ],
   "source": [
    "df['IDADE SENASP'][0][3:]"
   ]
  },
  {
   "cell_type": "markdown",
   "id": "891bb973",
   "metadata": {},
   "source": [
    "Não há dados faltantes"
   ]
  },
  {
   "cell_type": "markdown",
   "id": "67761fdf",
   "metadata": {},
   "source": [
    "crianção de uma função para ajustar os dados do sexo"
   ]
  },
  {
   "cell_type": "code",
   "execution_count": 60,
   "id": "86cf20fa",
   "metadata": {},
   "outputs": [],
   "source": [
    "def ajuste_sexo (sexo):\n",
    "    if sexo == 'DESCONHECIDO' or sexo == 'NAO INFORMADO':\n",
    "        sexo = 'DESCONHECIDO/NAO INFORMADO'\n",
    "    else:\n",
    "        sexo = sexo\n",
    "\n",
    "    return sexo\n",
    "\n",
    "df['SEXO'] = df['SEXO'].apply(ajuste_sexo)"
   ]
  },
  {
   "cell_type": "markdown",
   "id": "a0df1ddf",
   "metadata": {},
   "source": [
    "criação da idade para ajustar a idade"
   ]
  },
  {
   "cell_type": "code",
   "execution_count": 48,
   "id": "7f8c3cc3",
   "metadata": {},
   "outputs": [],
   "source": [
    "def ajuste_idades(idade):\n",
    "        if idade == '(vazio)':\n",
    "                idade = '35-64'\n",
    "        else:\n",
    "                idade = idade[3:]\n",
    "                \n",
    "        return idade\n",
    "\n",
    "df['IDADE SENASP'] = df['IDADE SENASP'].apply(ajuste_idades)\n"
   ]
  },
  {
   "cell_type": "code",
   "execution_count": 62,
   "id": "9bda3396",
   "metadata": {},
   "outputs": [
    {
     "data": {
      "text/plain": [
       "FEMININO                      236810\n",
       "MASCULINO                      16113\n",
       "DESCONHECIDO/NAO INFORMADO       780\n",
       "Name: SEXO, dtype: int64"
      ]
     },
     "execution_count": 62,
     "metadata": {},
     "output_type": "execute_result"
    }
   ],
   "source": [
    "df['SEXO'].value_counts()"
   ]
  },
  {
   "cell_type": "code",
   "execution_count": 63,
   "id": "a6dfed59",
   "metadata": {},
   "outputs": [
    {
     "data": {
      "text/html": [
       "<div>\n",
       "<style scoped>\n",
       "    .dataframe tbody tr th:only-of-type {\n",
       "        vertical-align: middle;\n",
       "    }\n",
       "\n",
       "    .dataframe tbody tr th {\n",
       "        vertical-align: top;\n",
       "    }\n",
       "\n",
       "    .dataframe thead th {\n",
       "        text-align: right;\n",
       "    }\n",
       "</style>\n",
       "<table border=\"1\" class=\"dataframe\">\n",
       "  <thead>\n",
       "    <tr style=\"text-align: right;\">\n",
       "      <th></th>\n",
       "      <th>MUNICÍPIO DO FATO</th>\n",
       "      <th>REGIAO GEOGRÁFICA</th>\n",
       "      <th>NATUREZA</th>\n",
       "      <th>DATA DO FATO</th>\n",
       "      <th>ANO</th>\n",
       "      <th>SEXO</th>\n",
       "      <th>IDADE SENASP</th>\n",
       "      <th>TOTAL DE ENVOLVIDOS</th>\n",
       "      <th>MÊS DO FATO</th>\n",
       "    </tr>\n",
       "  </thead>\n",
       "  <tbody>\n",
       "    <tr>\n",
       "      <th>0</th>\n",
       "      <td>AFOGADOS DA INGAZEIRA</td>\n",
       "      <td>SERTÃO</td>\n",
       "      <td>INJÚRIA POR VIOLÊNCIA DOMÉSTICA/FAMILIAR</td>\n",
       "      <td>2015-01-01</td>\n",
       "      <td>2015</td>\n",
       "      <td>FEMININO</td>\n",
       "      <td>35-64</td>\n",
       "      <td>1</td>\n",
       "      <td>1</td>\n",
       "    </tr>\n",
       "    <tr>\n",
       "      <th>1</th>\n",
       "      <td>AFRANIO</td>\n",
       "      <td>SERTÃO</td>\n",
       "      <td>AMEAÇA POR VIOLÊNCIA DOMÉSTICA/FAMILIAR</td>\n",
       "      <td>2015-01-01</td>\n",
       "      <td>2015</td>\n",
       "      <td>FEMININO</td>\n",
       "      <td>30-34</td>\n",
       "      <td>1</td>\n",
       "      <td>1</td>\n",
       "    </tr>\n",
       "    <tr>\n",
       "      <th>2</th>\n",
       "      <td>AFRANIO</td>\n",
       "      <td>SERTÃO</td>\n",
       "      <td>LESÃO CORPORAL POR VIOLÊNCIA DOMÉSTICA/FAMILIAR</td>\n",
       "      <td>2015-01-01</td>\n",
       "      <td>2015</td>\n",
       "      <td>FEMININO</td>\n",
       "      <td>25-29</td>\n",
       "      <td>1</td>\n",
       "      <td>1</td>\n",
       "    </tr>\n",
       "    <tr>\n",
       "      <th>3</th>\n",
       "      <td>AGUAS BELAS</td>\n",
       "      <td>AGRESTE</td>\n",
       "      <td>ESTUPRO DE VULNERÁVEL POR VIOLÊNCIA DOMÉSTICA/...</td>\n",
       "      <td>2015-01-01</td>\n",
       "      <td>2015</td>\n",
       "      <td>FEMININO</td>\n",
       "      <td>12-17</td>\n",
       "      <td>1</td>\n",
       "      <td>1</td>\n",
       "    </tr>\n",
       "    <tr>\n",
       "      <th>4</th>\n",
       "      <td>ALAGOINHA</td>\n",
       "      <td>AGRESTE</td>\n",
       "      <td>AMEAÇA POR VIOLÊNCIA DOMÉSTICA/FAMILIAR</td>\n",
       "      <td>2015-01-01</td>\n",
       "      <td>2015</td>\n",
       "      <td>FEMININO</td>\n",
       "      <td>35-64</td>\n",
       "      <td>1</td>\n",
       "      <td>1</td>\n",
       "    </tr>\n",
       "    <tr>\n",
       "      <th>...</th>\n",
       "      <td>...</td>\n",
       "      <td>...</td>\n",
       "      <td>...</td>\n",
       "      <td>...</td>\n",
       "      <td>...</td>\n",
       "      <td>...</td>\n",
       "      <td>...</td>\n",
       "      <td>...</td>\n",
       "      <td>...</td>\n",
       "    </tr>\n",
       "    <tr>\n",
       "      <th>253698</th>\n",
       "      <td>SAO JOSE DO BELMONTE</td>\n",
       "      <td>SERTÃO</td>\n",
       "      <td>MAUS TRATOS POR VIOLÊNCIA DOMÉSTICA/FAMILIAR</td>\n",
       "      <td>2022-08-31</td>\n",
       "      <td>2022</td>\n",
       "      <td>FEMININO</td>\n",
       "      <td>35-64</td>\n",
       "      <td>1</td>\n",
       "      <td>8</td>\n",
       "    </tr>\n",
       "    <tr>\n",
       "      <th>253699</th>\n",
       "      <td>SAO JOSE DO EGITO</td>\n",
       "      <td>SERTÃO</td>\n",
       "      <td>AMEAÇA POR VIOLÊNCIA DOMÉSTICA/FAMILIAR</td>\n",
       "      <td>2022-08-31</td>\n",
       "      <td>2022</td>\n",
       "      <td>FEMININO</td>\n",
       "      <td>18-24</td>\n",
       "      <td>1</td>\n",
       "      <td>8</td>\n",
       "    </tr>\n",
       "    <tr>\n",
       "      <th>253700</th>\n",
       "      <td>SURUBIM</td>\n",
       "      <td>AGRESTE</td>\n",
       "      <td>PERTURBAÇÃO DO SOSSEGO POR VIOLÊNCIA DOMÉSTICA...</td>\n",
       "      <td>2022-08-31</td>\n",
       "      <td>2022</td>\n",
       "      <td>FEMININO</td>\n",
       "      <td>35-64</td>\n",
       "      <td>1</td>\n",
       "      <td>8</td>\n",
       "    </tr>\n",
       "    <tr>\n",
       "      <th>253701</th>\n",
       "      <td>VERDEJANTE</td>\n",
       "      <td>SERTÃO</td>\n",
       "      <td>AMEAÇA POR VIOLÊNCIA DOMÉSTICA/FAMILIAR</td>\n",
       "      <td>2022-08-31</td>\n",
       "      <td>2022</td>\n",
       "      <td>FEMININO</td>\n",
       "      <td>35-64</td>\n",
       "      <td>1</td>\n",
       "      <td>8</td>\n",
       "    </tr>\n",
       "    <tr>\n",
       "      <th>253702</th>\n",
       "      <td>VERDEJANTE</td>\n",
       "      <td>SERTÃO</td>\n",
       "      <td>LESÃO CORPORAL POR VIOLÊNCIA DOMÉSTICA/FAMILIAR</td>\n",
       "      <td>2022-08-31</td>\n",
       "      <td>2022</td>\n",
       "      <td>FEMININO</td>\n",
       "      <td>18-24</td>\n",
       "      <td>1</td>\n",
       "      <td>8</td>\n",
       "    </tr>\n",
       "  </tbody>\n",
       "</table>\n",
       "<p>253703 rows × 9 columns</p>\n",
       "</div>"
      ],
      "text/plain": [
       "            MUNICÍPIO DO FATO REGIAO GEOGRÁFICA  \\\n",
       "0       AFOGADOS DA INGAZEIRA            SERTÃO   \n",
       "1                     AFRANIO            SERTÃO   \n",
       "2                     AFRANIO            SERTÃO   \n",
       "3                 AGUAS BELAS           AGRESTE   \n",
       "4                   ALAGOINHA           AGRESTE   \n",
       "...                       ...               ...   \n",
       "253698   SAO JOSE DO BELMONTE            SERTÃO   \n",
       "253699      SAO JOSE DO EGITO            SERTÃO   \n",
       "253700                SURUBIM           AGRESTE   \n",
       "253701             VERDEJANTE            SERTÃO   \n",
       "253702             VERDEJANTE            SERTÃO   \n",
       "\n",
       "                                                 NATUREZA DATA DO FATO   ANO  \\\n",
       "0                INJÚRIA POR VIOLÊNCIA DOMÉSTICA/FAMILIAR   2015-01-01  2015   \n",
       "1                 AMEAÇA POR VIOLÊNCIA DOMÉSTICA/FAMILIAR   2015-01-01  2015   \n",
       "2         LESÃO CORPORAL POR VIOLÊNCIA DOMÉSTICA/FAMILIAR   2015-01-01  2015   \n",
       "3       ESTUPRO DE VULNERÁVEL POR VIOLÊNCIA DOMÉSTICA/...   2015-01-01  2015   \n",
       "4                 AMEAÇA POR VIOLÊNCIA DOMÉSTICA/FAMILIAR   2015-01-01  2015   \n",
       "...                                                   ...          ...   ...   \n",
       "253698       MAUS TRATOS POR VIOLÊNCIA DOMÉSTICA/FAMILIAR   2022-08-31  2022   \n",
       "253699            AMEAÇA POR VIOLÊNCIA DOMÉSTICA/FAMILIAR   2022-08-31  2022   \n",
       "253700  PERTURBAÇÃO DO SOSSEGO POR VIOLÊNCIA DOMÉSTICA...   2022-08-31  2022   \n",
       "253701            AMEAÇA POR VIOLÊNCIA DOMÉSTICA/FAMILIAR   2022-08-31  2022   \n",
       "253702    LESÃO CORPORAL POR VIOLÊNCIA DOMÉSTICA/FAMILIAR   2022-08-31  2022   \n",
       "\n",
       "            SEXO IDADE SENASP  TOTAL DE ENVOLVIDOS  MÊS DO FATO  \n",
       "0       FEMININO        35-64                    1            1  \n",
       "1       FEMININO        30-34                    1            1  \n",
       "2       FEMININO        25-29                    1            1  \n",
       "3       FEMININO        12-17                    1            1  \n",
       "4       FEMININO        35-64                    1            1  \n",
       "...          ...          ...                  ...          ...  \n",
       "253698  FEMININO        35-64                    1            8  \n",
       "253699  FEMININO        18-24                    1            8  \n",
       "253700  FEMININO        35-64                    1            8  \n",
       "253701  FEMININO        35-64                    1            8  \n",
       "253702  FEMININO        18-24                    1            8  \n",
       "\n",
       "[253703 rows x 9 columns]"
      ]
     },
     "execution_count": 63,
     "metadata": {},
     "output_type": "execute_result"
    }
   ],
   "source": [
    "df"
   ]
  },
  {
   "cell_type": "markdown",
   "id": "e2f3afad",
   "metadata": {},
   "source": [
    "Criando uma nova coluna com a informação do mês de ocorrência do fato"
   ]
  },
  {
   "cell_type": "code",
   "execution_count": 50,
   "id": "b5d13ba0",
   "metadata": {},
   "outputs": [],
   "source": [
    "df['MÊS DO FATO'] = df['DATA DO FATO'].dt.month"
   ]
  },
  {
   "cell_type": "code",
   "execution_count": 65,
   "id": "648579fb",
   "metadata": {},
   "outputs": [
    {
     "data": {
      "text/plain": [
       "REGIÃO METROPOLITANA    67286\n",
       "AGRESTE                 59386\n",
       "SERTÃO                  54002\n",
       "CAPITAL                 42592\n",
       "ZONA DA MATA            30437\n",
       "Name: REGIAO GEOGRÁFICA, dtype: int64"
      ]
     },
     "execution_count": 65,
     "metadata": {},
     "output_type": "execute_result"
    }
   ],
   "source": [
    "df['REGIAO GEOGRÁFICA'].value_counts()"
   ]
  },
  {
   "cell_type": "markdown",
   "id": "c8ddf9a7",
   "metadata": {},
   "source": [
    "Verificando a idade em cada um dos meses"
   ]
  },
  {
   "cell_type": "code",
   "execution_count": 56,
   "id": "1e6628a8",
   "metadata": {},
   "outputs": [
    {
     "data": {
      "text/plain": [
       "35-64         8952\n",
       "18-24         4176\n",
       "30-34         3827\n",
       "25-29         3677\n",
       "65 OU MAIS     932\n",
       "12-17          894\n",
       "00-11          471\n",
       "Name: IDADE SENASP, dtype: int64"
      ]
     },
     "execution_count": 56,
     "metadata": {},
     "output_type": "execute_result"
    }
   ],
   "source": [
    "df[df['MÊS DO FATO'] == 1]['IDADE SENASP'].value_counts()"
   ]
  },
  {
   "cell_type": "code",
   "execution_count": 57,
   "id": "5710b536",
   "metadata": {},
   "outputs": [
    {
     "data": {
      "text/plain": [
       "35-64         7798\n",
       "18-24         3853\n",
       "30-34         3455\n",
       "25-29         3410\n",
       "12-17          872\n",
       "65 OU MAIS     833\n",
       "00-11          482\n",
       "Name: IDADE SENASP, dtype: int64"
      ]
     },
     "execution_count": 57,
     "metadata": {},
     "output_type": "execute_result"
    }
   ],
   "source": [
    "df[df['MÊS DO FATO'] == 2]['IDADE SENASP'].value_counts()"
   ]
  },
  {
   "cell_type": "code",
   "execution_count": 59,
   "id": "c20706bd",
   "metadata": {},
   "outputs": [
    {
     "data": {
      "text/plain": [
       "35-64         8627\n",
       "18-24         4284\n",
       "30-34         3849\n",
       "25-29         3754\n",
       "12-17         1022\n",
       "65 OU MAIS     925\n",
       "00-11          530\n",
       "Name: IDADE SENASP, dtype: int64"
      ]
     },
     "execution_count": 59,
     "metadata": {},
     "output_type": "execute_result"
    }
   ],
   "source": [
    "df[df['MÊS DO FATO'] == 3]['IDADE SENASP'].value_counts()"
   ]
  },
  {
   "cell_type": "markdown",
   "id": "2e126502",
   "metadata": {},
   "source": [
    "#### CRIAÇÃO DE UMA CLASSE PARAR MODULARIZAR O PRÉ-PROCESSAMENTO"
   ]
  },
  {
   "cell_type": "code",
   "execution_count": 87,
   "id": "617aa63e",
   "metadata": {},
   "outputs": [],
   "source": [
    "class ajustes:\n",
    "    def __init__(self): \n",
    "        self.df = df\n",
    "    def run(self)\n",
    "        self.df['IDADE SENASP'].apply(self.ajuste_idades)\n",
    "        self.criar_feature_mes()\n",
    "    \n",
    "    def ajuste_idades(idade):\n",
    "        idade = idade[3:]\n",
    "        return idade\n",
    "    \n",
    "    def criar_feature_mes(self):\n",
    "        self.df['MÊS DO FATO'] = self.df['DATA DO FATO'].dt.month"
   ]
  },
  {
   "cell_type": "markdown",
   "id": "44f60c56",
   "metadata": {},
   "source": [
    "## Criação de um dataset para analise temporal"
   ]
  },
  {
   "cell_type": "code",
   "execution_count": 63,
   "id": "bf1f266a",
   "metadata": {},
   "outputs": [],
   "source": [
    "df_temp = df['DATA DO FATO'].value_counts().rename_axis('data').to_frame('N_casos')"
   ]
  },
  {
   "cell_type": "code",
   "execution_count": 67,
   "id": "0ed28392",
   "metadata": {},
   "outputs": [],
   "source": [
    "df_tempo.sort_index(inplace = True)"
   ]
  },
  {
   "cell_type": "code",
   "execution_count": 69,
   "id": "944ca2ff",
   "metadata": {},
   "outputs": [
    {
     "data": {
      "text/html": [
       "<div>\n",
       "<style scoped>\n",
       "    .dataframe tbody tr th:only-of-type {\n",
       "        vertical-align: middle;\n",
       "    }\n",
       "\n",
       "    .dataframe tbody tr th {\n",
       "        vertical-align: top;\n",
       "    }\n",
       "\n",
       "    .dataframe thead th {\n",
       "        text-align: right;\n",
       "    }\n",
       "</style>\n",
       "<table border=\"1\" class=\"dataframe\">\n",
       "  <thead>\n",
       "    <tr style=\"text-align: right;\">\n",
       "      <th></th>\n",
       "      <th>N_casos</th>\n",
       "    </tr>\n",
       "    <tr>\n",
       "      <th>data</th>\n",
       "      <th></th>\n",
       "    </tr>\n",
       "  </thead>\n",
       "  <tbody>\n",
       "    <tr>\n",
       "      <th>2015-01-01</th>\n",
       "      <td>102</td>\n",
       "    </tr>\n",
       "    <tr>\n",
       "      <th>2015-01-02</th>\n",
       "      <td>53</td>\n",
       "    </tr>\n",
       "    <tr>\n",
       "      <th>2015-01-03</th>\n",
       "      <td>87</td>\n",
       "    </tr>\n",
       "    <tr>\n",
       "      <th>2015-01-04</th>\n",
       "      <td>107</td>\n",
       "    </tr>\n",
       "    <tr>\n",
       "      <th>2015-01-05</th>\n",
       "      <td>88</td>\n",
       "    </tr>\n",
       "    <tr>\n",
       "      <th>...</th>\n",
       "      <td>...</td>\n",
       "    </tr>\n",
       "    <tr>\n",
       "      <th>2022-08-27</th>\n",
       "      <td>94</td>\n",
       "    </tr>\n",
       "    <tr>\n",
       "      <th>2022-08-28</th>\n",
       "      <td>174</td>\n",
       "    </tr>\n",
       "    <tr>\n",
       "      <th>2022-08-29</th>\n",
       "      <td>110</td>\n",
       "    </tr>\n",
       "    <tr>\n",
       "      <th>2022-08-30</th>\n",
       "      <td>92</td>\n",
       "    </tr>\n",
       "    <tr>\n",
       "      <th>2022-08-31</th>\n",
       "      <td>97</td>\n",
       "    </tr>\n",
       "  </tbody>\n",
       "</table>\n",
       "<p>2800 rows × 1 columns</p>\n",
       "</div>"
      ],
      "text/plain": [
       "            N_casos\n",
       "data               \n",
       "2015-01-01      102\n",
       "2015-01-02       53\n",
       "2015-01-03       87\n",
       "2015-01-04      107\n",
       "2015-01-05       88\n",
       "...             ...\n",
       "2022-08-27       94\n",
       "2022-08-28      174\n",
       "2022-08-29      110\n",
       "2022-08-30       92\n",
       "2022-08-31       97\n",
       "\n",
       "[2800 rows x 1 columns]"
      ]
     },
     "execution_count": 69,
     "metadata": {},
     "output_type": "execute_result"
    }
   ],
   "source": [
    "df_temp"
   ]
  },
  {
   "cell_type": "code",
   "execution_count": 70,
   "id": "f6c6ebdb",
   "metadata": {},
   "outputs": [
    {
     "data": {
      "text/plain": [
       "<AxesSubplot:xlabel='data'>"
      ]
     },
     "execution_count": 70,
     "metadata": {},
     "output_type": "execute_result"
    },
    {
     "data": {
      "image/png": "[encoded data removed]",
      "text/plain": [
       "<Figure size 1440x432 with 1 Axes>"
      ]
     },
     "metadata": {
      "needs_background": "light"
     },
     "output_type": "display_data"
    }
   ],
   "source": [
    "df_temp.plot(figsize=(20,6))"
   ]
  },
  {
   "cell_type": "code",
   "execution_count": 80,
   "id": "23b8ff85",
   "metadata": {},
   "outputs": [
    {
     "data": {
      "text/plain": [
       "<AxesSubplot:>"
      ]
     },
     "execution_count": 80,
     "metadata": {},
     "output_type": "execute_result"
    },
    {
     "data": {
      "image/png": "[encoded data removed]",
      "text/plain": [
       "<Figure size 432x288 with 1 Axes>"
      ]
     },
     "metadata": {
      "needs_background": "light"
     },
     "output_type": "display_data"
    }
   ],
   "source": [
    "df['NATUREZA'].value_counts().plot.bar()"
   ]
  },
  {
   "cell_type": "code",
   "execution_count": 89,
   "id": "523ece2f",
   "metadata": {},
   "outputs": [
    {
     "data": {
      "text/plain": [
       "<AxesSubplot:>"
      ]
     },
     "execution_count": 89,
     "metadata": {},
     "output_type": "execute_result"
    },
    {
     "data": {
      "image/png": "[encoded data removed]",
      "text/plain": [
       "<Figure size 432x288 with 1 Axes>"
      ]
     },
     "metadata": {
      "needs_background": "light"
     },
     "output_type": "display_data"
    }
   ],
   "source": [
    "df['SEXO'].value_counts().plot.bar()"
   ]
  }
 ],
 "metadata": {
  "kernelspec": {
   "display_name": "Python 3.9.13 64-bit (microsoft store)",
   "language": "python",
   "name": "python3"
  },
  "language_info": {
   "codemirror_mode": {
    "name": "ipython",
    "version": 3
   },
   "file_extension": ".py",
   "mimetype": "text/x-python",
   "name": "python",
   "nbconvert_exporter": "python",
   "pygments_lexer": "ipython3",
   "version": "3.9.13"
  },
  "vscode": {
   "interpreter": {
    "hash": "b7f22e608a9410c9a00adbb49e3cb6a72010c497ae6b30c9496ff58de178a89c"
   }
  }
 },
 "nbformat": 4,
 "nbformat_minor": 5
}
