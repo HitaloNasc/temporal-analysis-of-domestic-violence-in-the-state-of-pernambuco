{
 "cells": [
  {
   "cell_type": "markdown",
   "id": "34b24620",
   "metadata": {},
   "source": [
    "   # VIOLÊNCIA DOMÉSTICA NO ESTADO DE PERNAMBUCO"
   ]
  },
  {
   "cell_type": "markdown",
   "id": "8928b649",
   "metadata": {},
   "source": [
    "## IMPORTANDO AS BIBLIOTECAS"
   ]
  },
  {
   "cell_type": "markdown",
   "id": "8ce3c84f",
   "metadata": {},
   "source": [
    "Bibliotecas do projeto"
   ]
  },
  {
   "cell_type": "code",
   "execution_count": 1,
   "id": "723fda91",
   "metadata": {},
   "outputs": [],
   "source": [
    "#pip install openpyxl"
   ]
  },
  {
   "cell_type": "code",
   "execution_count": 2,
   "id": "9e02dc38",
   "metadata": {},
   "outputs": [],
   "source": [
    "#pip install matplotlib"
   ]
  },
  {
   "cell_type": "code",
   "execution_count": 3,
   "id": "acd4a116",
   "metadata": {},
   "outputs": [],
   "source": [
    "#pip install pandas"
   ]
  },
  {
   "cell_type": "code",
   "execution_count": 4,
   "id": "5bdbd56a",
   "metadata": {},
   "outputs": [],
   "source": [
    "#pip install statsmodels"
   ]
  },
  {
   "cell_type": "markdown",
   "id": "432a1d9f",
   "metadata": {},
   "source": [
    "Instalando e importante a biblioteca pandas que servirá como base para manipulação dos dados, ou seja, a biblioteca será utilizada para realização da limpeza, pré-processamento e engenharia de atributos, alem de auxiliar na analise exploratória e criação de gráficos simples."
   ]
  },
  {
   "cell_type": "code",
   "execution_count": 5,
   "id": "00b390fb",
   "metadata": {},
   "outputs": [],
   "source": [
    "import pandas as pd"
   ]
  },
  {
   "cell_type": "code",
   "execution_count": 6,
   "id": "d4dbbe56",
   "metadata": {},
   "outputs": [],
   "source": [
    "import statsmodels.tsa.api as tsa"
   ]
  },
  {
   "cell_type": "markdown",
   "id": "21c76f18",
   "metadata": {},
   "source": [
    "## LENDO O ARQUIVO EXCEL"
   ]
  },
  {
   "cell_type": "code",
   "execution_count": 7,
   "id": "f7354d2b",
   "metadata": {},
   "outputs": [],
   "source": [
    "df = pd.read_excel('../Data/MICRODADOS_DE_VIOLÊNCIA_DOMÉSTICA_JAN_2015_A_AGO_2022.xlsx')"
   ]
  },
  {
   "cell_type": "code",
   "execution_count": 8,
   "id": "af19f2d7",
   "metadata": {},
   "outputs": [
    {
     "data": {
      "text/html": [
       "<div>\n",
       "<style scoped>\n",
       "    .dataframe tbody tr th:only-of-type {\n",
       "        vertical-align: middle;\n",
       "    }\n",
       "\n",
       "    .dataframe tbody tr th {\n",
       "        vertical-align: top;\n",
       "    }\n",
       "\n",
       "    .dataframe thead th {\n",
       "        text-align: right;\n",
       "    }\n",
       "</style>\n",
       "<table border=\"1\" class=\"dataframe\">\n",
       "  <thead>\n",
       "    <tr style=\"text-align: right;\">\n",
       "      <th></th>\n",
       "      <th>MUNICÍPIO DO FATO</th>\n",
       "      <th>REGIAO GEOGRÁFICA</th>\n",
       "      <th>NATUREZA</th>\n",
       "      <th>DATA DO FATO</th>\n",
       "      <th>ANO</th>\n",
       "      <th>SEXO</th>\n",
       "      <th>IDADE SENASP</th>\n",
       "      <th>TOTAL DE ENVOLVIDOS</th>\n",
       "    </tr>\n",
       "  </thead>\n",
       "  <tbody>\n",
       "    <tr>\n",
       "      <th>0</th>\n",
       "      <td>AFOGADOS DA INGAZEIRA</td>\n",
       "      <td>SERTÃO</td>\n",
       "      <td>INJÚRIA POR VIOLÊNCIA DOMÉSTICA/FAMILIAR</td>\n",
       "      <td>2015-01-01</td>\n",
       "      <td>2015</td>\n",
       "      <td>FEMININO</td>\n",
       "      <td>6) 35-64</td>\n",
       "      <td>1</td>\n",
       "    </tr>\n",
       "    <tr>\n",
       "      <th>1</th>\n",
       "      <td>AFRANIO</td>\n",
       "      <td>SERTÃO</td>\n",
       "      <td>AMEAÇA POR VIOLÊNCIA DOMÉSTICA/FAMILIAR</td>\n",
       "      <td>2015-01-01</td>\n",
       "      <td>2015</td>\n",
       "      <td>FEMININO</td>\n",
       "      <td>5) 30-34</td>\n",
       "      <td>1</td>\n",
       "    </tr>\n",
       "    <tr>\n",
       "      <th>2</th>\n",
       "      <td>AFRANIO</td>\n",
       "      <td>SERTÃO</td>\n",
       "      <td>LESÃO CORPORAL POR VIOLÊNCIA DOMÉSTICA/FAMILIAR</td>\n",
       "      <td>2015-01-01</td>\n",
       "      <td>2015</td>\n",
       "      <td>FEMININO</td>\n",
       "      <td>4) 25-29</td>\n",
       "      <td>1</td>\n",
       "    </tr>\n",
       "    <tr>\n",
       "      <th>3</th>\n",
       "      <td>AGUAS BELAS</td>\n",
       "      <td>AGRESTE</td>\n",
       "      <td>ESTUPRO DE VULNERÁVEL POR VIOLÊNCIA DOMÉSTICA/...</td>\n",
       "      <td>2015-01-01</td>\n",
       "      <td>2015</td>\n",
       "      <td>FEMININO</td>\n",
       "      <td>2) 12-17</td>\n",
       "      <td>1</td>\n",
       "    </tr>\n",
       "    <tr>\n",
       "      <th>4</th>\n",
       "      <td>ALAGOINHA</td>\n",
       "      <td>AGRESTE</td>\n",
       "      <td>AMEAÇA POR VIOLÊNCIA DOMÉSTICA/FAMILIAR</td>\n",
       "      <td>2015-01-01</td>\n",
       "      <td>2015</td>\n",
       "      <td>FEMININO</td>\n",
       "      <td>6) 35-64</td>\n",
       "      <td>1</td>\n",
       "    </tr>\n",
       "    <tr>\n",
       "      <th>...</th>\n",
       "      <td>...</td>\n",
       "      <td>...</td>\n",
       "      <td>...</td>\n",
       "      <td>...</td>\n",
       "      <td>...</td>\n",
       "      <td>...</td>\n",
       "      <td>...</td>\n",
       "      <td>...</td>\n",
       "    </tr>\n",
       "    <tr>\n",
       "      <th>253698</th>\n",
       "      <td>SAO JOSE DO BELMONTE</td>\n",
       "      <td>SERTÃO</td>\n",
       "      <td>MAUS TRATOS POR VIOLÊNCIA DOMÉSTICA/FAMILIAR</td>\n",
       "      <td>2022-08-31</td>\n",
       "      <td>2022</td>\n",
       "      <td>FEMININO</td>\n",
       "      <td>(vazio)</td>\n",
       "      <td>1</td>\n",
       "    </tr>\n",
       "    <tr>\n",
       "      <th>253699</th>\n",
       "      <td>SAO JOSE DO EGITO</td>\n",
       "      <td>SERTÃO</td>\n",
       "      <td>AMEAÇA POR VIOLÊNCIA DOMÉSTICA/FAMILIAR</td>\n",
       "      <td>2022-08-31</td>\n",
       "      <td>2022</td>\n",
       "      <td>FEMININO</td>\n",
       "      <td>3) 18-24</td>\n",
       "      <td>1</td>\n",
       "    </tr>\n",
       "    <tr>\n",
       "      <th>253700</th>\n",
       "      <td>SURUBIM</td>\n",
       "      <td>AGRESTE</td>\n",
       "      <td>PERTURBAÇÃO DO SOSSEGO POR VIOLÊNCIA DOMÉSTICA...</td>\n",
       "      <td>2022-08-31</td>\n",
       "      <td>2022</td>\n",
       "      <td>FEMININO</td>\n",
       "      <td>6) 35-64</td>\n",
       "      <td>1</td>\n",
       "    </tr>\n",
       "    <tr>\n",
       "      <th>253701</th>\n",
       "      <td>VERDEJANTE</td>\n",
       "      <td>SERTÃO</td>\n",
       "      <td>AMEAÇA POR VIOLÊNCIA DOMÉSTICA/FAMILIAR</td>\n",
       "      <td>2022-08-31</td>\n",
       "      <td>2022</td>\n",
       "      <td>FEMININO</td>\n",
       "      <td>6) 35-64</td>\n",
       "      <td>1</td>\n",
       "    </tr>\n",
       "    <tr>\n",
       "      <th>253702</th>\n",
       "      <td>VERDEJANTE</td>\n",
       "      <td>SERTÃO</td>\n",
       "      <td>LESÃO CORPORAL POR VIOLÊNCIA DOMÉSTICA/FAMILIAR</td>\n",
       "      <td>2022-08-31</td>\n",
       "      <td>2022</td>\n",
       "      <td>FEMININO</td>\n",
       "      <td>3) 18-24</td>\n",
       "      <td>1</td>\n",
       "    </tr>\n",
       "  </tbody>\n",
       "</table>\n",
       "<p>253703 rows × 8 columns</p>\n",
       "</div>"
      ],
      "text/plain": [
       "            MUNICÍPIO DO FATO REGIAO GEOGRÁFICA  \\\n",
       "0       AFOGADOS DA INGAZEIRA            SERTÃO   \n",
       "1                     AFRANIO            SERTÃO   \n",
       "2                     AFRANIO            SERTÃO   \n",
       "3                 AGUAS BELAS           AGRESTE   \n",
       "4                   ALAGOINHA           AGRESTE   \n",
       "...                       ...               ...   \n",
       "253698   SAO JOSE DO BELMONTE            SERTÃO   \n",
       "253699      SAO JOSE DO EGITO            SERTÃO   \n",
       "253700                SURUBIM           AGRESTE   \n",
       "253701             VERDEJANTE            SERTÃO   \n",
       "253702             VERDEJANTE            SERTÃO   \n",
       "\n",
       "                                                 NATUREZA DATA DO FATO   ANO  \\\n",
       "0                INJÚRIA POR VIOLÊNCIA DOMÉSTICA/FAMILIAR   2015-01-01  2015   \n",
       "1                 AMEAÇA POR VIOLÊNCIA DOMÉSTICA/FAMILIAR   2015-01-01  2015   \n",
       "2         LESÃO CORPORAL POR VIOLÊNCIA DOMÉSTICA/FAMILIAR   2015-01-01  2015   \n",
       "3       ESTUPRO DE VULNERÁVEL POR VIOLÊNCIA DOMÉSTICA/...   2015-01-01  2015   \n",
       "4                 AMEAÇA POR VIOLÊNCIA DOMÉSTICA/FAMILIAR   2015-01-01  2015   \n",
       "...                                                   ...          ...   ...   \n",
       "253698       MAUS TRATOS POR VIOLÊNCIA DOMÉSTICA/FAMILIAR   2022-08-31  2022   \n",
       "253699            AMEAÇA POR VIOLÊNCIA DOMÉSTICA/FAMILIAR   2022-08-31  2022   \n",
       "253700  PERTURBAÇÃO DO SOSSEGO POR VIOLÊNCIA DOMÉSTICA...   2022-08-31  2022   \n",
       "253701            AMEAÇA POR VIOLÊNCIA DOMÉSTICA/FAMILIAR   2022-08-31  2022   \n",
       "253702    LESÃO CORPORAL POR VIOLÊNCIA DOMÉSTICA/FAMILIAR   2022-08-31  2022   \n",
       "\n",
       "            SEXO IDADE SENASP  TOTAL DE ENVOLVIDOS  \n",
       "0       FEMININO     6) 35-64                    1  \n",
       "1       FEMININO     5) 30-34                    1  \n",
       "2       FEMININO     4) 25-29                    1  \n",
       "3       FEMININO     2) 12-17                    1  \n",
       "4       FEMININO     6) 35-64                    1  \n",
       "...          ...          ...                  ...  \n",
       "253698  FEMININO      (vazio)                    1  \n",
       "253699  FEMININO     3) 18-24                    1  \n",
       "253700  FEMININO     6) 35-64                    1  \n",
       "253701  FEMININO     6) 35-64                    1  \n",
       "253702  FEMININO     3) 18-24                    1  \n",
       "\n",
       "[253703 rows x 8 columns]"
      ]
     },
     "execution_count": 8,
     "metadata": {},
     "output_type": "execute_result"
    }
   ],
   "source": [
    "df"
   ]
  },
  {
   "cell_type": "markdown",
   "id": "347c9205",
   "metadata": {},
   "source": [
    "A leitura do arquivo foi feita utilizando a função read_excel, disponivel na biblioteca pandas"
   ]
  },
  {
   "cell_type": "markdown",
   "id": "4fcdf595",
   "metadata": {},
   "source": [
    "## VERIFICAÇÃO DOS TIPOS COLUNÁRES"
   ]
  },
  {
   "cell_type": "code",
   "execution_count": 9,
   "id": "8ecf0d22",
   "metadata": {},
   "outputs": [
    {
     "data": {
      "text/plain": [
       "MUNICÍPIO DO FATO              object\n",
       "REGIAO GEOGRÁFICA              object\n",
       "NATUREZA                       object\n",
       "DATA DO FATO           datetime64[ns]\n",
       "ANO                             int64\n",
       "SEXO                           object\n",
       "IDADE SENASP                   object\n",
       "TOTAL DE ENVOLVIDOS             int64\n",
       "dtype: object"
      ]
     },
     "execution_count": 9,
     "metadata": {},
     "output_type": "execute_result"
    }
   ],
   "source": [
    "df.dtypes"
   ]
  },
  {
   "cell_type": "markdown",
   "id": "31b53b67",
   "metadata": {},
   "source": [
    "A feature \"DATA DO FATO\" ja está em datetime e os dados númericos estão como int64, não sendo necessário ajustes, vale salientar que a feature de idade é uma feature categórica, pois encontra-se dividida em intervalos de idade. As demais features encontram-se como object podendo ser mudadas para categórica a depender do objetivo do estudo, para nosso caso optamos por manter como object."
   ]
  },
  {
   "cell_type": "markdown",
   "id": "971f930c",
   "metadata": {},
   "source": [
    "### ANÁLISE DOS VALORES COLUNARES"
   ]
  },
  {
   "cell_type": "markdown",
   "id": "6a361559",
   "metadata": {},
   "source": [
    "##### # IDADE SENASP"
   ]
  },
  {
   "cell_type": "code",
   "execution_count": 10,
   "id": "f92902de",
   "metadata": {
    "scrolled": false
   },
   "outputs": [
    {
     "data": {
      "text/plain": [
       "6) 35-64         92515\n",
       "3) 18-24         48331\n",
       "4) 25-29         41295\n",
       "5) 30-34         41077\n",
       "2) 12-17         11919\n",
       "7) 65 OU MAIS     9693\n",
       "1) 00-11          5959\n",
       "(vazio)           2914\n",
       "Name: IDADE SENASP, dtype: int64"
      ]
     },
     "execution_count": 10,
     "metadata": {},
     "output_type": "execute_result"
    }
   ],
   "source": [
    "df['IDADE SENASP'].value_counts()"
   ]
  },
  {
   "cell_type": "markdown",
   "id": "6ae77a42",
   "metadata": {},
   "source": [
    "Necessário fazer ajustes na strig. Por opção a equipe escolheu deixar os intervalos fechados no modelo XX-YY, onde XX é a idade inicial do intervalo e YY a idade final. Os ajustes seram realizados mais a frente"
   ]
  },
  {
   "cell_type": "markdown",
   "id": "b7c7f571",
   "metadata": {},
   "source": [
    "Como aparece dados com a string (vazio) vamos trocar a string para não informado"
   ]
  },
  {
   "cell_type": "code",
   "execution_count": 11,
   "id": "a7d60d61",
   "metadata": {
    "scrolled": true
   },
   "outputs": [
    {
     "data": {
      "text/plain": [
       "RECIFE                     42592\n",
       "JABOATAO DOS GUARARAPES    15161\n",
       "CARUARU                    13802\n",
       "OLINDA                     13428\n",
       "PETROLINA                  12257\n",
       "                           ...  \n",
       "GRANITO                      101\n",
       "QUIXABA                       99\n",
       "INGAZEIRA                     97\n",
       "MARAIAL                       91\n",
       "ITACURUBA                     82\n",
       "Name: MUNICÍPIO DO FATO, Length: 185, dtype: int64"
      ]
     },
     "execution_count": 11,
     "metadata": {},
     "output_type": "execute_result"
    }
   ],
   "source": [
    "df['MUNICÍPIO DO FATO'].value_counts()"
   ]
  },
  {
   "cell_type": "markdown",
   "id": "3ba296d1",
   "metadata": {},
   "source": [
    "As cetegorias mostram-se já pré-processadas, não sendo necessário ajustes"
   ]
  },
  {
   "cell_type": "code",
   "execution_count": 12,
   "id": "de224b49",
   "metadata": {
    "scrolled": false
   },
   "outputs": [
    {
     "data": {
      "text/plain": [
       "AMEAÇA POR VIOLÊNCIA DOMÉSTICA/FAMILIAR                    92689\n",
       "LESÃO CORPORAL POR VIOLÊNCIA DOMÉSTICA/FAMILIAR            63960\n",
       "INJÚRIA POR VIOLÊNCIA DOMÉSTICA/FAMILIAR                   33233\n",
       "OUTROS CRIMES POR VIOLÊNCIA DOMÉSTICA/FAMILIAR             12914\n",
       "DANO POR VIOLÊNCIA DOMÉSTICA/FAMILIAR                      12490\n",
       "VIAS DE FATOS POR VIOLÊNCIA DOMÉSTICA/FAMILIAR             12487\n",
       "PERTURBAÇÃO DO SOSSEGO POR VIOLÊNCIA DOMÉSTICA/FAMILIAR     8966\n",
       "DIFAMAÇÃO POR VIOLÊNCIA DOMÉSTICA/FAMILIAR                  6724\n",
       "MAUS TRATOS POR VIOLÊNCIA DOMÉSTICA/FAMILIAR                3281\n",
       "ESTUPRO DE VULNERÁVEL POR VIOLÊNCIA DOMÉSTICA/FAMILIAR      2792\n",
       "CALÚNIA POR VIOLÊNCIA DOMÉSTICA/FAMILIAR                    1397\n",
       "CONSTRANGIMENTO ILEGAL POR VIOLÊNCIA DOMÉSTICA/FAMILIAR     1019\n",
       "ESTUPRO POR VIOLÊNCIA DOMÉSTICA/FAMILIAR                     975\n",
       "PERSEGUIÇÃO POR VIOLÊNCIA DOMÉSTICA/FAMILIAR                 586\n",
       "CÁRCERE PRIVADO POR VIOLÊNCIA DOMÉSTICA/FAMILIAR             190\n",
       "Name: NATUREZA, dtype: int64"
      ]
     },
     "execution_count": 12,
     "metadata": {},
     "output_type": "execute_result"
    }
   ],
   "source": [
    "df['NATUREZA'].value_counts()"
   ]
  },
  {
   "cell_type": "markdown",
   "id": "a613c541",
   "metadata": {},
   "source": [
    "As cetegorias mostram-se já pré-processadas, não sendo necessário ajustes"
   ]
  },
  {
   "cell_type": "code",
   "execution_count": 13,
   "id": "31a10f21",
   "metadata": {
    "scrolled": true
   },
   "outputs": [
    {
     "data": {
      "text/plain": [
       "FEMININO         236810\n",
       "MASCULINO         16113\n",
       "DESCONHECIDO        610\n",
       "NAO INFORMADO       170\n",
       "Name: SEXO, dtype: int64"
      ]
     },
     "execution_count": 13,
     "metadata": {},
     "output_type": "execute_result"
    }
   ],
   "source": [
    "df['SEXO'].value_counts()"
   ]
  },
  {
   "cell_type": "markdown",
   "id": "8957dea3",
   "metadata": {},
   "source": [
    "Para a feature \"SEXO\" optou-se por juntar as categorias desconhecido e não informado. "
   ]
  },
  {
   "cell_type": "markdown",
   "id": "78b4a8f5",
   "metadata": {},
   "source": [
    "### Verificando existencia de dados faltantes"
   ]
  },
  {
   "cell_type": "code",
   "execution_count": 14,
   "id": "b4da188b",
   "metadata": {},
   "outputs": [
    {
     "data": {
      "text/plain": [
       "MUNICÍPIO DO FATO      253703\n",
       "REGIAO GEOGRÁFICA      253703\n",
       "NATUREZA               253703\n",
       "DATA DO FATO           253703\n",
       "ANO                    253703\n",
       "SEXO                   253703\n",
       "IDADE SENASP           253703\n",
       "TOTAL DE ENVOLVIDOS    253703\n",
       "dtype: int64"
      ]
     },
     "execution_count": 14,
     "metadata": {},
     "output_type": "execute_result"
    }
   ],
   "source": [
    "df.isnull().count()"
   ]
  },
  {
   "cell_type": "markdown",
   "id": "891bb973",
   "metadata": {},
   "source": [
    "Não há dados faltantes"
   ]
  },
  {
   "cell_type": "markdown",
   "id": "5c090505",
   "metadata": {},
   "source": []
  },
  {
   "cell_type": "markdown",
   "id": "fb3c9cc8",
   "metadata": {},
   "source": [
    "## Pré-processamento e Engenharia de Features"
   ]
  },
  {
   "cell_type": "markdown",
   "id": "67761fdf",
   "metadata": {},
   "source": [
    "##### Ajuste da feature SEXO"
   ]
  },
  {
   "cell_type": "code",
   "execution_count": 15,
   "id": "86cf20fa",
   "metadata": {},
   "outputs": [],
   "source": [
    "def ajuste_sexo (sexo):\n",
    "    if sexo == 'DESCONHECIDO' or sexo == 'NAO INFORMADO':\n",
    "        sexo = 'DESCONHECIDO/NAO INFORMADO'\n",
    "    else:\n",
    "        sexo = sexo\n",
    "\n",
    "    return sexo"
   ]
  },
  {
   "cell_type": "code",
   "execution_count": 16,
   "id": "e3b0ae82",
   "metadata": {},
   "outputs": [],
   "source": [
    "df['SEXO'] = df['SEXO'].apply(ajuste_sexo)"
   ]
  },
  {
   "cell_type": "code",
   "execution_count": 17,
   "id": "9bda3396",
   "metadata": {},
   "outputs": [
    {
     "data": {
      "text/plain": [
       "FEMININO                      236810\n",
       "MASCULINO                      16113\n",
       "DESCONHECIDO/NAO INFORMADO       780\n",
       "Name: SEXO, dtype: int64"
      ]
     },
     "execution_count": 17,
     "metadata": {},
     "output_type": "execute_result"
    }
   ],
   "source": [
    "df['SEXO'].value_counts()"
   ]
  },
  {
   "cell_type": "markdown",
   "id": "d357511c",
   "metadata": {},
   "source": [
    "A aplicação dessas função foi feita com o uso do metodo apply, que aplica a função para cada uma das instâncias do dataframe"
   ]
  },
  {
   "cell_type": "markdown",
   "id": "a0df1ddf",
   "metadata": {},
   "source": [
    "##### Ajuste da feature IDADE SENASP"
   ]
  },
  {
   "cell_type": "code",
   "execution_count": 18,
   "id": "7f8c3cc3",
   "metadata": {},
   "outputs": [],
   "source": [
    "def ajuste_idades(idade):\n",
    "        if idade == '(vazio)':\n",
    "                idade = 'Não informado'\n",
    "        else:\n",
    "                idade = idade[3:]\n",
    "                \n",
    "        return idade"
   ]
  },
  {
   "cell_type": "code",
   "execution_count": 19,
   "id": "39969c9f",
   "metadata": {},
   "outputs": [],
   "source": [
    "df['IDADE SENASP'] = df['IDADE SENASP'].apply(ajuste_idades)"
   ]
  },
  {
   "cell_type": "code",
   "execution_count": 20,
   "id": "1875fb2a",
   "metadata": {},
   "outputs": [
    {
     "data": {
      "text/plain": [
       "35-64            92515\n",
       "18-24            48331\n",
       "25-29            41295\n",
       "30-34            41077\n",
       "12-17            11919\n",
       "65 OU MAIS        9693\n",
       "00-11             5959\n",
       "Não informado     2914\n",
       "Name: IDADE SENASP, dtype: int64"
      ]
     },
     "execution_count": 20,
     "metadata": {},
     "output_type": "execute_result"
    }
   ],
   "source": [
    "df['IDADE SENASP'].value_counts()"
   ]
  },
  {
   "cell_type": "markdown",
   "id": "a846f975",
   "metadata": {},
   "source": [
    "### Ajuste da feature Natureza"
   ]
  },
  {
   "cell_type": "code",
   "execution_count": 21,
   "id": "2d05fd2b",
   "metadata": {},
   "outputs": [],
   "source": [
    "def ajustes_natureza (x):\n",
    "    x = x[:-33]\n",
    "    return x "
   ]
  },
  {
   "cell_type": "code",
   "execution_count": 22,
   "id": "8014b9bc",
   "metadata": {},
   "outputs": [],
   "source": [
    "df['NATUREZA'] = df['NATUREZA'].apply(ajustes_natureza)"
   ]
  },
  {
   "cell_type": "markdown",
   "id": "e2f3afad",
   "metadata": {},
   "source": [
    "##### # Criação uma nova coluna com a informação do mês de ocorrência do fato"
   ]
  },
  {
   "cell_type": "markdown",
   "id": "36848cbe",
   "metadata": {},
   "source": [
    "A equipe decidiu criar uma feature com as informações do mês de ocorrência do fato para analisar a sazonalidade dos mesmo, para tanto foi extraida, com o auxílio do método .month, da feature \"DATA DO FATO\" a informação referente ao mês de ocorrência do fato."
   ]
  },
  {
   "cell_type": "code",
   "execution_count": 23,
   "id": "b5d13ba0",
   "metadata": {},
   "outputs": [],
   "source": [
    "df['MÊS DO FATO'] = df['DATA DO FATO'].dt.month"
   ]
  },
  {
   "cell_type": "code",
   "execution_count": 24,
   "id": "648579fb",
   "metadata": {},
   "outputs": [
    {
     "data": {
      "text/plain": [
       "0         1\n",
       "1         1\n",
       "2         1\n",
       "3         1\n",
       "4         1\n",
       "         ..\n",
       "253698    8\n",
       "253699    8\n",
       "253700    8\n",
       "253701    8\n",
       "253702    8\n",
       "Name: MÊS DO FATO, Length: 253703, dtype: int64"
      ]
     },
     "execution_count": 24,
     "metadata": {},
     "output_type": "execute_result"
    }
   ],
   "source": [
    "df['MÊS DO FATO']"
   ]
  },
  {
   "cell_type": "markdown",
   "id": "58d434eb",
   "metadata": {},
   "source": [
    "## Análise exploratória dos dados"
   ]
  },
  {
   "cell_type": "markdown",
   "id": "8e939265",
   "metadata": {},
   "source": [
    "##### Verificando a média de vítimas por fato"
   ]
  },
  {
   "cell_type": "markdown",
   "id": "7b3f2cbb",
   "metadata": {},
   "source": [
    "aqui utilizamos o método len para contar o numero de features de determinado dataframe"
   ]
  },
  {
   "cell_type": "code",
   "execution_count": 25,
   "id": "86eacfa2",
   "metadata": {},
   "outputs": [
    {
     "data": {
      "text/plain": [
       "1.207076778753109"
      ]
     },
     "execution_count": 25,
     "metadata": {},
     "output_type": "execute_result"
    }
   ],
   "source": [
    "M = (df['TOTAL DE ENVOLVIDOS'].sum())/ (len(df))\n",
    "M"
   ]
  },
  {
   "cell_type": "markdown",
   "id": "d6360ad4",
   "metadata": {},
   "source": [
    "Entendendo que a média de vítimas é bem próximo a 1, resolve-se estudar um pouco mais sobre os casos com mais de uma vítima para entede-los"
   ]
  },
  {
   "cell_type": "code",
   "execution_count": 26,
   "id": "07155baf",
   "metadata": {
    "scrolled": true
   },
   "outputs": [
    {
     "data": {
      "text/plain": [
       "1    220954\n",
       "2     22500\n",
       "3      5664\n",
       "4      2266\n",
       "5      1075\n",
       "Name: TOTAL DE ENVOLVIDOS, dtype: int64"
      ]
     },
     "execution_count": 26,
     "metadata": {},
     "output_type": "execute_result"
    }
   ],
   "source": [
    "df['TOTAL DE ENVOLVIDOS'].value_counts().head()"
   ]
  },
  {
   "cell_type": "code",
   "execution_count": 27,
   "id": "36f61864",
   "metadata": {},
   "outputs": [
    {
     "data": {
      "text/plain": [
       "12.908400767826947"
      ]
     },
     "execution_count": 27,
     "metadata": {},
     "output_type": "execute_result"
    }
   ],
   "source": [
    "(len(df[df['TOTAL DE ENVOLVIDOS'] > 1])/len(df)) * 100"
   ]
  },
  {
   "cell_type": "markdown",
   "id": "fed66731",
   "metadata": {},
   "source": [
    "Quase 13% dos acidentes envolvem mais de 1 vítima"
   ]
  },
  {
   "cell_type": "code",
   "execution_count": 28,
   "id": "dac45fdc",
   "metadata": {
    "scrolled": true
   },
   "outputs": [
    {
     "data": {
      "text/plain": [
       "<AxesSubplot:>"
      ]
     },
     "execution_count": 28,
     "metadata": {},
     "output_type": "execute_result"
    },
    {
     "data": {
      "image/png": "[encoded data removed]",
      "text/plain": [
       "<Figure size 432x288 with 1 Axes>"
      ]
     },
     "metadata": {
      "needs_background": "light"
     },
     "output_type": "display_data"
    }
   ],
   "source": [
    "df[df['TOTAL DE ENVOLVIDOS'] > 1]['NATUREZA'].value_counts().head().plot.bar()"
   ]
  },
  {
   "cell_type": "markdown",
   "id": "fcd315f4",
   "metadata": {},
   "source": [
    "## Algumas análises gráficas iniciais"
   ]
  },
  {
   "cell_type": "markdown",
   "id": "372f6fe6",
   "metadata": {},
   "source": [
    "##### # NATUREZA"
   ]
  },
  {
   "cell_type": "code",
   "execution_count": 29,
   "id": "23b8ff85",
   "metadata": {},
   "outputs": [
    {
     "data": {
      "text/plain": [
       "<AxesSubplot:>"
      ]
     },
     "execution_count": 29,
     "metadata": {},
     "output_type": "execute_result"
    },
    {
     "data": {
      "image/png": "[encoded data removed]",
      "text/plain": [
       "<Figure size 432x288 with 1 Axes>"
      ]
     },
     "metadata": {
      "needs_background": "light"
     },
     "output_type": "display_data"
    }
   ],
   "source": [
    "df['NATUREZA'].value_counts().plot.bar()"
   ]
  },
  {
   "cell_type": "markdown",
   "id": "eaeafdb1",
   "metadata": {},
   "source": [
    "##### # SEXO"
   ]
  },
  {
   "cell_type": "code",
   "execution_count": 30,
   "id": "523ece2f",
   "metadata": {},
   "outputs": [
    {
     "data": {
      "text/plain": [
       "<AxesSubplot:ylabel='SEXO'>"
      ]
     },
     "execution_count": 30,
     "metadata": {},
     "output_type": "execute_result"
    },
    {
     "data": {
      "image/png": "[encoded data removed]",
      "text/plain": [
       "<Figure size 432x288 with 1 Axes>"
      ]
     },
     "metadata": {},
     "output_type": "display_data"
    }
   ],
   "source": [
    "df['SEXO'].value_counts().plot.pie()"
   ]
  },
  {
   "cell_type": "markdown",
   "id": "c546c7b0",
   "metadata": {},
   "source": [
    "##### # IDADE"
   ]
  },
  {
   "cell_type": "code",
   "execution_count": 31,
   "id": "e93b3c1f",
   "metadata": {},
   "outputs": [
    {
     "data": {
      "text/plain": [
       "<AxesSubplot:ylabel='IDADE SENASP'>"
      ]
     },
     "execution_count": 31,
     "metadata": {},
     "output_type": "execute_result"
    },
    {
     "data": {
      "image/png": "[encoded data removed]",
      "text/plain": [
       "<Figure size 432x288 with 1 Axes>"
      ]
     },
     "metadata": {},
     "output_type": "display_data"
    }
   ],
   "source": [
    "df['IDADE SENASP'].value_counts().plot.pie()"
   ]
  },
  {
   "cell_type": "markdown",
   "id": "509659d2",
   "metadata": {},
   "source": [
    "##### # REGIÃO"
   ]
  },
  {
   "cell_type": "code",
   "execution_count": 32,
   "id": "af5b52ee",
   "metadata": {},
   "outputs": [
    {
     "data": {
      "text/plain": [
       "<AxesSubplot:ylabel='REGIAO GEOGRÁFICA'>"
      ]
     },
     "execution_count": 32,
     "metadata": {},
     "output_type": "execute_result"
    },
    {
     "data": {
      "image/png": "[encoded data removed]",
      "text/plain": [
       "<Figure size 432x288 with 1 Axes>"
      ]
     },
     "metadata": {},
     "output_type": "display_data"
    }
   ],
   "source": [
    "df['REGIAO GEOGRÁFICA'].value_counts().plot.pie()"
   ]
  },
  {
   "cell_type": "code",
   "execution_count": 33,
   "id": "9862c1fb",
   "metadata": {},
   "outputs": [
    {
     "data": {
      "text/plain": [
       "<AxesSubplot:>"
      ]
     },
     "execution_count": 33,
     "metadata": {},
     "output_type": "execute_result"
    },
    {
     "data": {
      "image/png": "[encoded data removed]",
      "text/plain": [
       "<Figure size 432x288 with 1 Axes>"
      ]
     },
     "metadata": {
      "needs_background": "light"
     },
     "output_type": "display_data"
    }
   ],
   "source": [
    "df['ANO'].value_counts().sort_index().plot.bar()"
   ]
  },
  {
   "cell_type": "code",
   "execution_count": 34,
   "id": "df416e51",
   "metadata": {},
   "outputs": [
    {
     "data": {
      "text/plain": [
       "<AxesSubplot:>"
      ]
     },
     "execution_count": 34,
     "metadata": {},
     "output_type": "execute_result"
    },
    {
     "data": {
      "image/png": "[encoded data removed]",
      "text/plain": [
       "<Figure size 432x288 with 1 Axes>"
      ]
     },
     "metadata": {
      "needs_background": "light"
     },
     "output_type": "display_data"
    }
   ],
   "source": [
    "df['MÊS DO FATO'].value_counts().sort_index().plot.bar()"
   ]
  },
  {
   "cell_type": "code",
   "execution_count": 35,
   "id": "8c39dd50",
   "metadata": {},
   "outputs": [
    {
     "data": {
      "text/plain": [
       "<AxesSubplot:>"
      ]
     },
     "execution_count": 35,
     "metadata": {},
     "output_type": "execute_result"
    },
    {
     "data": {
      "image/png": "[encoded data removed]",
      "text/plain": [
       "<Figure size 432x288 with 1 Axes>"
      ]
     },
     "metadata": {
      "needs_background": "light"
     },
     "output_type": "display_data"
    }
   ],
   "source": [
    "df['TOTAL DE ENVOLVIDOS'].value_counts().plot.bar()"
   ]
  },
  {
   "cell_type": "markdown",
   "id": "44f60c56",
   "metadata": {},
   "source": [
    "## Criação de um dataset para analise temporal"
   ]
  },
  {
   "cell_type": "markdown",
   "id": "fc95d78c",
   "metadata": {},
   "source": [
    "Para a analise o periodo foi mensal"
   ]
  },
  {
   "cell_type": "code",
   "execution_count": 36,
   "id": "fd96553a",
   "metadata": {},
   "outputs": [],
   "source": [
    "def ano_mes (data):\n",
    "    data = str(data)[:7]\n",
    "    return data"
   ]
  },
  {
   "cell_type": "code",
   "execution_count": 37,
   "id": "c9f15365",
   "metadata": {},
   "outputs": [],
   "source": [
    "df['ano/mes'] = df['DATA DO FATO'].apply(ano_mes)"
   ]
  },
  {
   "cell_type": "code",
   "execution_count": 38,
   "id": "07a39b25",
   "metadata": {},
   "outputs": [
    {
     "data": {
      "text/plain": [
       "'2015-01'"
      ]
     },
     "execution_count": 38,
     "metadata": {},
     "output_type": "execute_result"
    }
   ],
   "source": [
    "df['ano/mes'][0]"
   ]
  },
  {
   "cell_type": "code",
   "execution_count": 39,
   "id": "bf1f266a",
   "metadata": {},
   "outputs": [],
   "source": [
    "df_temp = df['ano/mes'].value_counts().rename_axis('data').to_frame('N_casos')"
   ]
  },
  {
   "cell_type": "code",
   "execution_count": 40,
   "id": "0ed28392",
   "metadata": {},
   "outputs": [],
   "source": [
    "df_temp.sort_index(inplace = True)"
   ]
  },
  {
   "cell_type": "code",
   "execution_count": 41,
   "id": "944ca2ff",
   "metadata": {
    "scrolled": false
   },
   "outputs": [
    {
     "data": {
      "text/html": [
       "<div>\n",
       "<style scoped>\n",
       "    .dataframe tbody tr th:only-of-type {\n",
       "        vertical-align: middle;\n",
       "    }\n",
       "\n",
       "    .dataframe tbody tr th {\n",
       "        vertical-align: top;\n",
       "    }\n",
       "\n",
       "    .dataframe thead th {\n",
       "        text-align: right;\n",
       "    }\n",
       "</style>\n",
       "<table border=\"1\" class=\"dataframe\">\n",
       "  <thead>\n",
       "    <tr style=\"text-align: right;\">\n",
       "      <th></th>\n",
       "      <th>N_casos</th>\n",
       "    </tr>\n",
       "    <tr>\n",
       "      <th>data</th>\n",
       "      <th></th>\n",
       "    </tr>\n",
       "  </thead>\n",
       "  <tbody>\n",
       "    <tr>\n",
       "      <th>2015-01</th>\n",
       "      <td>2477</td>\n",
       "    </tr>\n",
       "    <tr>\n",
       "      <th>2015-02</th>\n",
       "      <td>2440</td>\n",
       "    </tr>\n",
       "    <tr>\n",
       "      <th>2015-03</th>\n",
       "      <td>2669</td>\n",
       "    </tr>\n",
       "    <tr>\n",
       "      <th>2015-04</th>\n",
       "      <td>2403</td>\n",
       "    </tr>\n",
       "    <tr>\n",
       "      <th>2015-05</th>\n",
       "      <td>2366</td>\n",
       "    </tr>\n",
       "    <tr>\n",
       "      <th>...</th>\n",
       "      <td>...</td>\n",
       "    </tr>\n",
       "    <tr>\n",
       "      <th>2022-04</th>\n",
       "      <td>3264</td>\n",
       "    </tr>\n",
       "    <tr>\n",
       "      <th>2022-05</th>\n",
       "      <td>3287</td>\n",
       "    </tr>\n",
       "    <tr>\n",
       "      <th>2022-06</th>\n",
       "      <td>2921</td>\n",
       "    </tr>\n",
       "    <tr>\n",
       "      <th>2022-07</th>\n",
       "      <td>3107</td>\n",
       "    </tr>\n",
       "    <tr>\n",
       "      <th>2022-08</th>\n",
       "      <td>3253</td>\n",
       "    </tr>\n",
       "  </tbody>\n",
       "</table>\n",
       "<p>92 rows × 1 columns</p>\n",
       "</div>"
      ],
      "text/plain": [
       "         N_casos\n",
       "data            \n",
       "2015-01     2477\n",
       "2015-02     2440\n",
       "2015-03     2669\n",
       "2015-04     2403\n",
       "2015-05     2366\n",
       "...          ...\n",
       "2022-04     3264\n",
       "2022-05     3287\n",
       "2022-06     2921\n",
       "2022-07     3107\n",
       "2022-08     3253\n",
       "\n",
       "[92 rows x 1 columns]"
      ]
     },
     "execution_count": 41,
     "metadata": {},
     "output_type": "execute_result"
    }
   ],
   "source": [
    "df_temp"
   ]
  },
  {
   "cell_type": "code",
   "execution_count": 42,
   "id": "f6c6ebdb",
   "metadata": {
    "scrolled": true
   },
   "outputs": [
    {
     "data": {
      "text/plain": [
       "<AxesSubplot:xlabel='data'>"
      ]
     },
     "execution_count": 42,
     "metadata": {},
     "output_type": "execute_result"
    },
    {
     "data": {
      "image/png": "[encoded data removed]",
      "text/plain": [
       "<Figure size 1440x432 with 1 Axes>"
      ]
     },
     "metadata": {
      "needs_background": "light"
     },
     "output_type": "display_data"
    }
   ],
   "source": [
    "df_temp.plot(figsize=(20,6))"
   ]
  },
  {
   "cell_type": "code",
   "execution_count": 43,
   "id": "a982da38",
   "metadata": {},
   "outputs": [
    {
     "data": {
      "image/png": "[encoded data removed]",
      "text/plain": [
       "<Figure size 432x288 with 4 Axes>"
      ]
     },
     "metadata": {
      "needs_background": "light"
     },
     "output_type": "display_data"
    }
   ],
   "source": [
    "df_decomp = tsa.seasonal_decompose(df_temp, period = 12)\n",
    "df_decomp.plot();"
   ]
  },
  {
   "cell_type": "markdown",
   "id": "cff7ddf5",
   "metadata": {},
   "source": [
    "### Análise dos casos cuja Natureza é AMEAÇA POR VIOLÊNCIA"
   ]
  },
  {
   "cell_type": "code",
   "execution_count": 44,
   "id": "b3b5cad6",
   "metadata": {},
   "outputs": [
    {
     "data": {
      "text/html": [
       "<div>\n",
       "<style scoped>\n",
       "    .dataframe tbody tr th:only-of-type {\n",
       "        vertical-align: middle;\n",
       "    }\n",
       "\n",
       "    .dataframe tbody tr th {\n",
       "        vertical-align: top;\n",
       "    }\n",
       "\n",
       "    .dataframe thead th {\n",
       "        text-align: right;\n",
       "    }\n",
       "</style>\n",
       "<table border=\"1\" class=\"dataframe\">\n",
       "  <thead>\n",
       "    <tr style=\"text-align: right;\">\n",
       "      <th></th>\n",
       "      <th>MUNICÍPIO DO FATO</th>\n",
       "      <th>REGIAO GEOGRÁFICA</th>\n",
       "      <th>NATUREZA</th>\n",
       "      <th>DATA DO FATO</th>\n",
       "      <th>ANO</th>\n",
       "      <th>SEXO</th>\n",
       "      <th>IDADE SENASP</th>\n",
       "      <th>TOTAL DE ENVOLVIDOS</th>\n",
       "      <th>MÊS DO FATO</th>\n",
       "      <th>ano/mes</th>\n",
       "    </tr>\n",
       "  </thead>\n",
       "  <tbody>\n",
       "    <tr>\n",
       "      <th>1</th>\n",
       "      <td>AFRANIO</td>\n",
       "      <td>SERTÃO</td>\n",
       "      <td>AMEAÇA</td>\n",
       "      <td>2015-01-01</td>\n",
       "      <td>2015</td>\n",
       "      <td>FEMININO</td>\n",
       "      <td>30-34</td>\n",
       "      <td>1</td>\n",
       "      <td>1</td>\n",
       "      <td>2015-01</td>\n",
       "    </tr>\n",
       "    <tr>\n",
       "      <th>4</th>\n",
       "      <td>ALAGOINHA</td>\n",
       "      <td>AGRESTE</td>\n",
       "      <td>AMEAÇA</td>\n",
       "      <td>2015-01-01</td>\n",
       "      <td>2015</td>\n",
       "      <td>FEMININO</td>\n",
       "      <td>35-64</td>\n",
       "      <td>1</td>\n",
       "      <td>1</td>\n",
       "      <td>2015-01</td>\n",
       "    </tr>\n",
       "    <tr>\n",
       "      <th>9</th>\n",
       "      <td>BEZERROS</td>\n",
       "      <td>AGRESTE</td>\n",
       "      <td>AMEAÇA</td>\n",
       "      <td>2015-01-01</td>\n",
       "      <td>2015</td>\n",
       "      <td>FEMININO</td>\n",
       "      <td>30-34</td>\n",
       "      <td>1</td>\n",
       "      <td>1</td>\n",
       "      <td>2015-01</td>\n",
       "    </tr>\n",
       "    <tr>\n",
       "      <th>12</th>\n",
       "      <td>CABO DE SANTO AGOSTINHO</td>\n",
       "      <td>REGIÃO METROPOLITANA</td>\n",
       "      <td>AMEAÇA</td>\n",
       "      <td>2015-01-01</td>\n",
       "      <td>2015</td>\n",
       "      <td>FEMININO</td>\n",
       "      <td>18-24</td>\n",
       "      <td>1</td>\n",
       "      <td>1</td>\n",
       "      <td>2015-01</td>\n",
       "    </tr>\n",
       "    <tr>\n",
       "      <th>13</th>\n",
       "      <td>CABO DE SANTO AGOSTINHO</td>\n",
       "      <td>REGIÃO METROPOLITANA</td>\n",
       "      <td>AMEAÇA</td>\n",
       "      <td>2015-01-01</td>\n",
       "      <td>2015</td>\n",
       "      <td>FEMININO</td>\n",
       "      <td>30-34</td>\n",
       "      <td>1</td>\n",
       "      <td>1</td>\n",
       "      <td>2015-01</td>\n",
       "    </tr>\n",
       "    <tr>\n",
       "      <th>...</th>\n",
       "      <td>...</td>\n",
       "      <td>...</td>\n",
       "      <td>...</td>\n",
       "      <td>...</td>\n",
       "      <td>...</td>\n",
       "      <td>...</td>\n",
       "      <td>...</td>\n",
       "      <td>...</td>\n",
       "      <td>...</td>\n",
       "      <td>...</td>\n",
       "    </tr>\n",
       "    <tr>\n",
       "      <th>253690</th>\n",
       "      <td>SANTA CRUZ DO CAPIBARIBE</td>\n",
       "      <td>AGRESTE</td>\n",
       "      <td>AMEAÇA</td>\n",
       "      <td>2022-08-31</td>\n",
       "      <td>2022</td>\n",
       "      <td>FEMININO</td>\n",
       "      <td>18-24</td>\n",
       "      <td>1</td>\n",
       "      <td>8</td>\n",
       "      <td>2022-08</td>\n",
       "    </tr>\n",
       "    <tr>\n",
       "      <th>253691</th>\n",
       "      <td>SANTA CRUZ DO CAPIBARIBE</td>\n",
       "      <td>AGRESTE</td>\n",
       "      <td>AMEAÇA</td>\n",
       "      <td>2022-08-31</td>\n",
       "      <td>2022</td>\n",
       "      <td>FEMININO</td>\n",
       "      <td>35-64</td>\n",
       "      <td>1</td>\n",
       "      <td>8</td>\n",
       "      <td>2022-08</td>\n",
       "    </tr>\n",
       "    <tr>\n",
       "      <th>253695</th>\n",
       "      <td>SAO JOSE DO BELMONTE</td>\n",
       "      <td>SERTÃO</td>\n",
       "      <td>AMEAÇA</td>\n",
       "      <td>2022-08-31</td>\n",
       "      <td>2022</td>\n",
       "      <td>FEMININO</td>\n",
       "      <td>35-64</td>\n",
       "      <td>1</td>\n",
       "      <td>8</td>\n",
       "      <td>2022-08</td>\n",
       "    </tr>\n",
       "    <tr>\n",
       "      <th>253699</th>\n",
       "      <td>SAO JOSE DO EGITO</td>\n",
       "      <td>SERTÃO</td>\n",
       "      <td>AMEAÇA</td>\n",
       "      <td>2022-08-31</td>\n",
       "      <td>2022</td>\n",
       "      <td>FEMININO</td>\n",
       "      <td>18-24</td>\n",
       "      <td>1</td>\n",
       "      <td>8</td>\n",
       "      <td>2022-08</td>\n",
       "    </tr>\n",
       "    <tr>\n",
       "      <th>253701</th>\n",
       "      <td>VERDEJANTE</td>\n",
       "      <td>SERTÃO</td>\n",
       "      <td>AMEAÇA</td>\n",
       "      <td>2022-08-31</td>\n",
       "      <td>2022</td>\n",
       "      <td>FEMININO</td>\n",
       "      <td>35-64</td>\n",
       "      <td>1</td>\n",
       "      <td>8</td>\n",
       "      <td>2022-08</td>\n",
       "    </tr>\n",
       "  </tbody>\n",
       "</table>\n",
       "<p>92689 rows × 10 columns</p>\n",
       "</div>"
      ],
      "text/plain": [
       "               MUNICÍPIO DO FATO     REGIAO GEOGRÁFICA NATUREZA DATA DO FATO  \\\n",
       "1                        AFRANIO                SERTÃO   AMEAÇA   2015-01-01   \n",
       "4                      ALAGOINHA               AGRESTE   AMEAÇA   2015-01-01   \n",
       "9                       BEZERROS               AGRESTE   AMEAÇA   2015-01-01   \n",
       "12       CABO DE SANTO AGOSTINHO  REGIÃO METROPOLITANA   AMEAÇA   2015-01-01   \n",
       "13       CABO DE SANTO AGOSTINHO  REGIÃO METROPOLITANA   AMEAÇA   2015-01-01   \n",
       "...                          ...                   ...      ...          ...   \n",
       "253690  SANTA CRUZ DO CAPIBARIBE               AGRESTE   AMEAÇA   2022-08-31   \n",
       "253691  SANTA CRUZ DO CAPIBARIBE               AGRESTE   AMEAÇA   2022-08-31   \n",
       "253695      SAO JOSE DO BELMONTE                SERTÃO   AMEAÇA   2022-08-31   \n",
       "253699         SAO JOSE DO EGITO                SERTÃO   AMEAÇA   2022-08-31   \n",
       "253701                VERDEJANTE                SERTÃO   AMEAÇA   2022-08-31   \n",
       "\n",
       "         ANO      SEXO IDADE SENASP  TOTAL DE ENVOLVIDOS  MÊS DO FATO  ano/mes  \n",
       "1       2015  FEMININO        30-34                    1            1  2015-01  \n",
       "4       2015  FEMININO        35-64                    1            1  2015-01  \n",
       "9       2015  FEMININO        30-34                    1            1  2015-01  \n",
       "12      2015  FEMININO        18-24                    1            1  2015-01  \n",
       "13      2015  FEMININO        30-34                    1            1  2015-01  \n",
       "...      ...       ...          ...                  ...          ...      ...  \n",
       "253690  2022  FEMININO        18-24                    1            8  2022-08  \n",
       "253691  2022  FEMININO        35-64                    1            8  2022-08  \n",
       "253695  2022  FEMININO        35-64                    1            8  2022-08  \n",
       "253699  2022  FEMININO        18-24                    1            8  2022-08  \n",
       "253701  2022  FEMININO        35-64                    1            8  2022-08  \n",
       "\n",
       "[92689 rows x 10 columns]"
      ]
     },
     "execution_count": 44,
     "metadata": {},
     "output_type": "execute_result"
    }
   ],
   "source": [
    "df_ameaca = df[df['NATUREZA'] == 'AMEAÇA']\n",
    "df_ameaca"
   ]
  },
  {
   "cell_type": "markdown",
   "id": "c91b2712",
   "metadata": {},
   "source": [
    "##### Ocorrência de AMEAÇA POR VIOLÊNCIA DOMÉSTICA/FAMILIAR por idade"
   ]
  },
  {
   "cell_type": "code",
   "execution_count": 45,
   "id": "89057666",
   "metadata": {},
   "outputs": [
    {
     "data": {
      "text/plain": [
       "<AxesSubplot:ylabel='IDADE SENASP'>"
      ]
     },
     "execution_count": 45,
     "metadata": {},
     "output_type": "execute_result"
    },
    {
     "data": {
      "image/png": "[encoded data removed]",
      "text/plain": [
       "<Figure size 432x288 with 1 Axes>"
      ]
     },
     "metadata": {},
     "output_type": "display_data"
    }
   ],
   "source": [
    "df_ameaca['IDADE SENASP'].value_counts().plot.pie()"
   ]
  },
  {
   "cell_type": "markdown",
   "id": "abe70522",
   "metadata": {},
   "source": [
    "##### Ocorrência de AMEAÇA POR VIOLÊNCIA DOMÉSTICA/FAMILIAR por sexo"
   ]
  },
  {
   "cell_type": "code",
   "execution_count": 46,
   "id": "be4cd7ad",
   "metadata": {},
   "outputs": [
    {
     "data": {
      "text/plain": [
       "<AxesSubplot:ylabel='SEXO'>"
      ]
     },
     "execution_count": 46,
     "metadata": {},
     "output_type": "execute_result"
    },
    {
     "data": {
      "image/png": "[encoded data removed]",
      "text/plain": [
       "<Figure size 432x288 with 1 Axes>"
      ]
     },
     "metadata": {},
     "output_type": "display_data"
    }
   ],
   "source": [
    "df_ameaca['SEXO'].value_counts().plot.pie()"
   ]
  },
  {
   "cell_type": "markdown",
   "id": "5f08e52e",
   "metadata": {},
   "source": [
    "##### Ocorrência de AMEAÇA POR VIOLÊNCIA DOMÉSTICA/FAMILIAR por região"
   ]
  },
  {
   "cell_type": "code",
   "execution_count": 47,
   "id": "8c1eb922",
   "metadata": {},
   "outputs": [
    {
     "data": {
      "text/plain": [
       "<AxesSubplot:ylabel='REGIAO GEOGRÁFICA'>"
      ]
     },
     "execution_count": 47,
     "metadata": {},
     "output_type": "execute_result"
    },
    {
     "data": {
      "image/png": "[encoded data removed]",
      "text/plain": [
       "<Figure size 432x288 with 1 Axes>"
      ]
     },
     "metadata": {},
     "output_type": "display_data"
    }
   ],
   "source": [
    "df_ameaca['REGIAO GEOGRÁFICA'].value_counts().plot.pie()"
   ]
  },
  {
   "cell_type": "markdown",
   "id": "895497bf",
   "metadata": {},
   "source": [
    "##### Ocorrência de AMEAÇA POR VIOLÊNCIA DOMÉSTICA/FAMILIAR para os 5 município com mais ocorrências "
   ]
  },
  {
   "cell_type": "code",
   "execution_count": 48,
   "id": "7c8b5027",
   "metadata": {},
   "outputs": [
    {
     "data": {
      "text/plain": [
       "<AxesSubplot:>"
      ]
     },
     "execution_count": 48,
     "metadata": {},
     "output_type": "execute_result"
    },
    {
     "data": {
      "image/png": "[encoded data removed]",
      "text/plain": [
       "<Figure size 432x288 with 1 Axes>"
      ]
     },
     "metadata": {
      "needs_background": "light"
     },
     "output_type": "display_data"
    }
   ],
   "source": [
    "df_ameaca['MUNICÍPIO DO FATO'].value_counts().head().plot.bar()"
   ]
  },
  {
   "cell_type": "markdown",
   "id": "6694993c",
   "metadata": {},
   "source": [
    "### Análise dos casos da região Metropolitana"
   ]
  },
  {
   "cell_type": "code",
   "execution_count": 49,
   "id": "3dc435eb",
   "metadata": {},
   "outputs": [
    {
     "data": {
      "text/html": [
       "<div>\n",
       "<style scoped>\n",
       "    .dataframe tbody tr th:only-of-type {\n",
       "        vertical-align: middle;\n",
       "    }\n",
       "\n",
       "    .dataframe tbody tr th {\n",
       "        vertical-align: top;\n",
       "    }\n",
       "\n",
       "    .dataframe thead th {\n",
       "        text-align: right;\n",
       "    }\n",
       "</style>\n",
       "<table border=\"1\" class=\"dataframe\">\n",
       "  <thead>\n",
       "    <tr style=\"text-align: right;\">\n",
       "      <th></th>\n",
       "      <th>MUNICÍPIO DO FATO</th>\n",
       "      <th>REGIAO GEOGRÁFICA</th>\n",
       "      <th>NATUREZA</th>\n",
       "      <th>DATA DO FATO</th>\n",
       "      <th>ANO</th>\n",
       "      <th>SEXO</th>\n",
       "      <th>IDADE SENASP</th>\n",
       "      <th>TOTAL DE ENVOLVIDOS</th>\n",
       "      <th>MÊS DO FATO</th>\n",
       "      <th>ano/mes</th>\n",
       "    </tr>\n",
       "  </thead>\n",
       "  <tbody>\n",
       "    <tr>\n",
       "      <th>12</th>\n",
       "      <td>CABO DE SANTO AGOSTINHO</td>\n",
       "      <td>REGIÃO METROPOLITANA</td>\n",
       "      <td>AMEAÇA</td>\n",
       "      <td>2015-01-01</td>\n",
       "      <td>2015</td>\n",
       "      <td>FEMININO</td>\n",
       "      <td>18-24</td>\n",
       "      <td>1</td>\n",
       "      <td>1</td>\n",
       "      <td>2015-01</td>\n",
       "    </tr>\n",
       "    <tr>\n",
       "      <th>13</th>\n",
       "      <td>CABO DE SANTO AGOSTINHO</td>\n",
       "      <td>REGIÃO METROPOLITANA</td>\n",
       "      <td>AMEAÇA</td>\n",
       "      <td>2015-01-01</td>\n",
       "      <td>2015</td>\n",
       "      <td>FEMININO</td>\n",
       "      <td>30-34</td>\n",
       "      <td>1</td>\n",
       "      <td>1</td>\n",
       "      <td>2015-01</td>\n",
       "    </tr>\n",
       "    <tr>\n",
       "      <th>14</th>\n",
       "      <td>CABO DE SANTO AGOSTINHO</td>\n",
       "      <td>REGIÃO METROPOLITANA</td>\n",
       "      <td>INJÚRIA</td>\n",
       "      <td>2015-01-01</td>\n",
       "      <td>2015</td>\n",
       "      <td>FEMININO</td>\n",
       "      <td>18-24</td>\n",
       "      <td>1</td>\n",
       "      <td>1</td>\n",
       "      <td>2015-01</td>\n",
       "    </tr>\n",
       "    <tr>\n",
       "      <th>15</th>\n",
       "      <td>CABO DE SANTO AGOSTINHO</td>\n",
       "      <td>REGIÃO METROPOLITANA</td>\n",
       "      <td>LESÃO CORPORAL</td>\n",
       "      <td>2015-01-01</td>\n",
       "      <td>2015</td>\n",
       "      <td>FEMININO</td>\n",
       "      <td>30-34</td>\n",
       "      <td>1</td>\n",
       "      <td>1</td>\n",
       "      <td>2015-01</td>\n",
       "    </tr>\n",
       "    <tr>\n",
       "      <th>16</th>\n",
       "      <td>CABO DE SANTO AGOSTINHO</td>\n",
       "      <td>REGIÃO METROPOLITANA</td>\n",
       "      <td>LESÃO CORPORAL</td>\n",
       "      <td>2015-01-01</td>\n",
       "      <td>2015</td>\n",
       "      <td>FEMININO</td>\n",
       "      <td>35-64</td>\n",
       "      <td>1</td>\n",
       "      <td>1</td>\n",
       "      <td>2015-01</td>\n",
       "    </tr>\n",
       "    <tr>\n",
       "      <th>...</th>\n",
       "      <td>...</td>\n",
       "      <td>...</td>\n",
       "      <td>...</td>\n",
       "      <td>...</td>\n",
       "      <td>...</td>\n",
       "      <td>...</td>\n",
       "      <td>...</td>\n",
       "      <td>...</td>\n",
       "      <td>...</td>\n",
       "      <td>...</td>\n",
       "    </tr>\n",
       "    <tr>\n",
       "      <th>253670</th>\n",
       "      <td>OLINDA</td>\n",
       "      <td>REGIÃO METROPOLITANA</td>\n",
       "      <td>OUTROS CRIMES</td>\n",
       "      <td>2022-08-31</td>\n",
       "      <td>2022</td>\n",
       "      <td>FEMININO</td>\n",
       "      <td>35-64</td>\n",
       "      <td>1</td>\n",
       "      <td>8</td>\n",
       "      <td>2022-08</td>\n",
       "    </tr>\n",
       "    <tr>\n",
       "      <th>253674</th>\n",
       "      <td>PAULISTA</td>\n",
       "      <td>REGIÃO METROPOLITANA</td>\n",
       "      <td>LESÃO CORPORAL</td>\n",
       "      <td>2022-08-31</td>\n",
       "      <td>2022</td>\n",
       "      <td>FEMININO</td>\n",
       "      <td>35-64</td>\n",
       "      <td>1</td>\n",
       "      <td>8</td>\n",
       "      <td>2022-08</td>\n",
       "    </tr>\n",
       "    <tr>\n",
       "      <th>253675</th>\n",
       "      <td>PAULISTA</td>\n",
       "      <td>REGIÃO METROPOLITANA</td>\n",
       "      <td>LESÃO CORPORAL</td>\n",
       "      <td>2022-08-31</td>\n",
       "      <td>2022</td>\n",
       "      <td>MASCULINO</td>\n",
       "      <td>35-64</td>\n",
       "      <td>1</td>\n",
       "      <td>8</td>\n",
       "      <td>2022-08</td>\n",
       "    </tr>\n",
       "    <tr>\n",
       "      <th>253676</th>\n",
       "      <td>PAULISTA</td>\n",
       "      <td>REGIÃO METROPOLITANA</td>\n",
       "      <td>MAUS TRATOS</td>\n",
       "      <td>2022-08-31</td>\n",
       "      <td>2022</td>\n",
       "      <td>FEMININO</td>\n",
       "      <td>00-11</td>\n",
       "      <td>1</td>\n",
       "      <td>8</td>\n",
       "      <td>2022-08</td>\n",
       "    </tr>\n",
       "    <tr>\n",
       "      <th>253677</th>\n",
       "      <td>PAULISTA</td>\n",
       "      <td>REGIÃO METROPOLITANA</td>\n",
       "      <td>VIAS DE FATOS</td>\n",
       "      <td>2022-08-31</td>\n",
       "      <td>2022</td>\n",
       "      <td>FEMININO</td>\n",
       "      <td>35-64</td>\n",
       "      <td>1</td>\n",
       "      <td>8</td>\n",
       "      <td>2022-08</td>\n",
       "    </tr>\n",
       "  </tbody>\n",
       "</table>\n",
       "<p>67286 rows × 10 columns</p>\n",
       "</div>"
      ],
      "text/plain": [
       "              MUNICÍPIO DO FATO     REGIAO GEOGRÁFICA        NATUREZA  \\\n",
       "12      CABO DE SANTO AGOSTINHO  REGIÃO METROPOLITANA          AMEAÇA   \n",
       "13      CABO DE SANTO AGOSTINHO  REGIÃO METROPOLITANA          AMEAÇA   \n",
       "14      CABO DE SANTO AGOSTINHO  REGIÃO METROPOLITANA         INJÚRIA   \n",
       "15      CABO DE SANTO AGOSTINHO  REGIÃO METROPOLITANA  LESÃO CORPORAL   \n",
       "16      CABO DE SANTO AGOSTINHO  REGIÃO METROPOLITANA  LESÃO CORPORAL   \n",
       "...                         ...                   ...             ...   \n",
       "253670                   OLINDA  REGIÃO METROPOLITANA   OUTROS CRIMES   \n",
       "253674                 PAULISTA  REGIÃO METROPOLITANA  LESÃO CORPORAL   \n",
       "253675                 PAULISTA  REGIÃO METROPOLITANA  LESÃO CORPORAL   \n",
       "253676                 PAULISTA  REGIÃO METROPOLITANA     MAUS TRATOS   \n",
       "253677                 PAULISTA  REGIÃO METROPOLITANA  VIAS DE FATOS    \n",
       "\n",
       "       DATA DO FATO   ANO       SEXO IDADE SENASP  TOTAL DE ENVOLVIDOS  \\\n",
       "12       2015-01-01  2015   FEMININO        18-24                    1   \n",
       "13       2015-01-01  2015   FEMININO        30-34                    1   \n",
       "14       2015-01-01  2015   FEMININO        18-24                    1   \n",
       "15       2015-01-01  2015   FEMININO        30-34                    1   \n",
       "16       2015-01-01  2015   FEMININO        35-64                    1   \n",
       "...             ...   ...        ...          ...                  ...   \n",
       "253670   2022-08-31  2022   FEMININO        35-64                    1   \n",
       "253674   2022-08-31  2022   FEMININO        35-64                    1   \n",
       "253675   2022-08-31  2022  MASCULINO        35-64                    1   \n",
       "253676   2022-08-31  2022   FEMININO        00-11                    1   \n",
       "253677   2022-08-31  2022   FEMININO        35-64                    1   \n",
       "\n",
       "        MÊS DO FATO  ano/mes  \n",
       "12                1  2015-01  \n",
       "13                1  2015-01  \n",
       "14                1  2015-01  \n",
       "15                1  2015-01  \n",
       "16                1  2015-01  \n",
       "...             ...      ...  \n",
       "253670            8  2022-08  \n",
       "253674            8  2022-08  \n",
       "253675            8  2022-08  \n",
       "253676            8  2022-08  \n",
       "253677            8  2022-08  \n",
       "\n",
       "[67286 rows x 10 columns]"
      ]
     },
     "execution_count": 49,
     "metadata": {},
     "output_type": "execute_result"
    }
   ],
   "source": [
    "df_metropolitana= df[ df['REGIAO GEOGRÁFICA'] == 'REGIÃO METROPOLITANA' ]\n",
    "df_metropolitana"
   ]
  },
  {
   "cell_type": "code",
   "execution_count": 50,
   "id": "b5486148",
   "metadata": {},
   "outputs": [
    {
     "data": {
      "text/plain": [
       "<AxesSubplot:>"
      ]
     },
     "execution_count": 50,
     "metadata": {},
     "output_type": "execute_result"
    },
    {
     "data": {
      "image/png": "[encoded data removed]",
      "text/plain": [
       "<Figure size 432x288 with 1 Axes>"
      ]
     },
     "metadata": {
      "needs_background": "light"
     },
     "output_type": "display_data"
    }
   ],
   "source": [
    "df_metropolitana['MUNICÍPIO DO FATO'].value_counts().head().plot.bar()"
   ]
  },
  {
   "cell_type": "code",
   "execution_count": 51,
   "id": "f89a5763",
   "metadata": {},
   "outputs": [
    {
     "data": {
      "text/plain": [
       "<AxesSubplot:ylabel='IDADE SENASP'>"
      ]
     },
     "execution_count": 51,
     "metadata": {},
     "output_type": "execute_result"
    },
    {
     "data": {
      "image/png": "[encoded data removed]",
      "text/plain": [
       "<Figure size 432x288 with 1 Axes>"
      ]
     },
     "metadata": {},
     "output_type": "display_data"
    }
   ],
   "source": [
    "df_metropolitana['IDADE SENASP'].value_counts().plot.pie()"
   ]
  },
  {
   "cell_type": "code",
   "execution_count": 52,
   "id": "6b1c0031",
   "metadata": {},
   "outputs": [
    {
     "data": {
      "text/plain": [
       "<AxesSubplot:ylabel='SEXO'>"
      ]
     },
     "execution_count": 52,
     "metadata": {},
     "output_type": "execute_result"
    },
    {
     "data": {
      "image/png": "[encoded data removed]",
      "text/plain": [
       "<Figure size 432x288 with 1 Axes>"
      ]
     },
     "metadata": {},
     "output_type": "display_data"
    }
   ],
   "source": [
    "df_metropolitana['SEXO'].value_counts().plot.pie()"
   ]
  },
  {
   "cell_type": "code",
   "execution_count": 53,
   "id": "da4b7966",
   "metadata": {},
   "outputs": [
    {
     "data": {
      "text/plain": [
       "<AxesSubplot:>"
      ]
     },
     "execution_count": 53,
     "metadata": {},
     "output_type": "execute_result"
    },
    {
     "data": {
      "image/png": "[encoded data removed]",
      "text/plain": [
       "<Figure size 432x288 with 1 Axes>"
      ]
     },
     "metadata": {
      "needs_background": "light"
     },
     "output_type": "display_data"
    }
   ],
   "source": [
    "df_metropolitana['NATUREZA'].value_counts().head().plot.bar()"
   ]
  },
  {
   "cell_type": "code",
   "execution_count": 54,
   "id": "df2ce847",
   "metadata": {},
   "outputs": [
    {
     "data": {
      "text/plain": [
       "<AxesSubplot:>"
      ]
     },
     "execution_count": 54,
     "metadata": {},
     "output_type": "execute_result"
    },
    {
     "data": {
      "image/png": "[encoded data removed]",
      "text/plain": [
       "<Figure size 432x288 with 1 Axes>"
      ]
     },
     "metadata": {
      "needs_background": "light"
     },
     "output_type": "display_data"
    }
   ],
   "source": [
    "df_metropolitana['TOTAL DE ENVOLVIDOS'].value_counts().plot.bar()"
   ]
  },
  {
   "cell_type": "code",
   "execution_count": 55,
   "id": "9d5bca6b",
   "metadata": {},
   "outputs": [
    {
     "data": {
      "text/plain": [
       "<AxesSubplot:>"
      ]
     },
     "execution_count": 55,
     "metadata": {},
     "output_type": "execute_result"
    },
    {
     "data": {
      "image/png": "[encoded data removed]",
      "text/plain": [
       "<Figure size 432x288 with 1 Axes>"
      ]
     },
     "metadata": {
      "needs_background": "light"
     },
     "output_type": "display_data"
    }
   ],
   "source": [
    "df_metropolitana['ANO'].value_counts().sort_index().plot.bar()"
   ]
  },
  {
   "cell_type": "code",
   "execution_count": 56,
   "id": "1e6f88af",
   "metadata": {},
   "outputs": [
    {
     "data": {
      "text/plain": [
       "<AxesSubplot:>"
      ]
     },
     "execution_count": 56,
     "metadata": {},
     "output_type": "execute_result"
    },
    {
     "data": {
      "image/png": "[encoded data removed]",
      "text/plain": [
       "<Figure size 432x288 with 1 Axes>"
      ]
     },
     "metadata": {
      "needs_background": "light"
     },
     "output_type": "display_data"
    }
   ],
   "source": [
    "df_metropolitana['MÊS DO FATO'].value_counts().sort_index().plot.bar()"
   ]
  },
  {
   "cell_type": "markdown",
   "id": "b2e9f5e3",
   "metadata": {},
   "source": [
    "Filtro da naturaza do fato para sexo feminimo e idade entre 35-64 anos"
   ]
  },
  {
   "cell_type": "code",
   "execution_count": 57,
   "id": "c21d1df4",
   "metadata": {},
   "outputs": [
    {
     "name": "stderr",
     "output_type": "stream",
     "text": [
      "C:\\Users\\gabri\\AppData\\Local\\Temp\\ipykernel_18084\\3283658053.py:1: UserWarning: Boolean Series key will be reindexed to match DataFrame index.\n",
      "  df_metropolitana[(df['SEXO'] == 'FEMININO') & (df['IDADE SENASP'] == '35-64')]['NATUREZA'].value_counts().head().plot.bar()\n"
     ]
    },
    {
     "data": {
      "text/plain": [
       "<AxesSubplot:>"
      ]
     },
     "execution_count": 57,
     "metadata": {},
     "output_type": "execute_result"
    },
    {
     "data": {
      "image/png": "[encoded data removed]",
      "text/plain": [
       "<Figure size 432x288 with 1 Axes>"
      ]
     },
     "metadata": {
      "needs_background": "light"
     },
     "output_type": "display_data"
    }
   ],
   "source": [
    "df_metropolitana[(df['SEXO'] == 'FEMININO') & (df['IDADE SENASP'] == '35-64')]['NATUREZA'].value_counts().head().plot.bar()"
   ]
  },
  {
   "cell_type": "code",
   "execution_count": 58,
   "id": "2f7048e6",
   "metadata": {},
   "outputs": [
    {
     "name": "stderr",
     "output_type": "stream",
     "text": [
      "C:\\Users\\gabri\\AppData\\Local\\Temp\\ipykernel_18084\\1395458275.py:1: UserWarning: Boolean Series key will be reindexed to match DataFrame index.\n",
      "  df_metropolitana[ (df['SEXO'] == 'FEMININO') & (df['IDADE SENASP'] == '35-64') & (df['NATUREZA'] =='AMEAÇA') ]['ANO'].value_counts()\n"
     ]
    },
    {
     "data": {
      "text/plain": [
       "2021    1334\n",
       "2019    1318\n",
       "2020    1263\n",
       "2018    1210\n",
       "2015    1078\n",
       "2016    1048\n",
       "2017    1019\n",
       "2022     801\n",
       "Name: ANO, dtype: int64"
      ]
     },
     "execution_count": 58,
     "metadata": {},
     "output_type": "execute_result"
    }
   ],
   "source": [
    "df_metropolitana[ (df['SEXO'] == 'FEMININO') & (df['IDADE SENASP'] == '35-64') & (df['NATUREZA'] =='AMEAÇA') ]['ANO'].value_counts()"
   ]
  },
  {
   "cell_type": "markdown",
   "id": "bb1ced1f",
   "metadata": {},
   "source": [
    "Gráfico do nùmero de ocorrências do tipo Ameaça para o sexo feminino entre 35-64 por ano "
   ]
  },
  {
   "cell_type": "code",
   "execution_count": 59,
   "id": "952e53eb",
   "metadata": {},
   "outputs": [
    {
     "name": "stderr",
     "output_type": "stream",
     "text": [
      "C:\\Users\\gabri\\AppData\\Local\\Temp\\ipykernel_18084\\2109023997.py:1: UserWarning: Boolean Series key will be reindexed to match DataFrame index.\n",
      "  df_metropolitana[ (df['SEXO'] == 'FEMININO') & (df['IDADE SENASP'] == '35-64') & (df['NATUREZA'] =='AMEAÇA') ]['ANO'].value_counts().sort_index().plot.bar()\n"
     ]
    },
    {
     "data": {
      "text/plain": [
       "<AxesSubplot:>"
      ]
     },
     "execution_count": 59,
     "metadata": {},
     "output_type": "execute_result"
    },
    {
     "data": {
      "image/png": "[encoded data removed]",
      "text/plain": [
       "<Figure size 432x288 with 1 Axes>"
      ]
     },
     "metadata": {
      "needs_background": "light"
     },
     "output_type": "display_data"
    }
   ],
   "source": [
    "df_metropolitana[ (df['SEXO'] == 'FEMININO') & (df['IDADE SENASP'] == '35-64') & (df['NATUREZA'] =='AMEAÇA') ]['ANO'].value_counts().sort_index().plot.bar()"
   ]
  },
  {
   "cell_type": "code",
   "execution_count": 60,
   "id": "9a4e66e7",
   "metadata": {},
   "outputs": [
    {
     "name": "stderr",
     "output_type": "stream",
     "text": [
      "C:\\Users\\gabri\\AppData\\Local\\Temp\\ipykernel_18084\\3617380928.py:1: UserWarning: Boolean Series key will be reindexed to match DataFrame index.\n",
      "  df_metropolitana[ (df['SEXO'] == 'FEMININO') & (df['IDADE SENASP'] == '35-64') &  (df['TOTAL DE ENVOLVIDOS'] == 1) & (df['NATUREZA'] =='AMEAÇA') & (df['ANO'] == 2021) ]['MÊS DO FATO'].value_counts()\n"
     ]
    },
    {
     "data": {
      "text/plain": [
       "9     86\n",
       "10    84\n",
       "4     80\n",
       "8     80\n",
       "11    79\n",
       "3     78\n",
       "5     76\n",
       "1     75\n",
       "12    75\n",
       "6     72\n",
       "7     67\n",
       "2     64\n",
       "Name: MÊS DO FATO, dtype: int64"
      ]
     },
     "execution_count": 60,
     "metadata": {},
     "output_type": "execute_result"
    }
   ],
   "source": [
    "df_metropolitana[ (df['SEXO'] == 'FEMININO') & (df['IDADE SENASP'] == '35-64') &  (df['TOTAL DE ENVOLVIDOS'] == 1) & (df['NATUREZA'] =='AMEAÇA') & (df['ANO'] == 2021) ]['MÊS DO FATO'].value_counts()"
   ]
  },
  {
   "cell_type": "markdown",
   "id": "d98be40d",
   "metadata": {},
   "source": [
    "Gráfico do número de ocorrências por mês no ano de 2021 para sexo feminino e idade entre 35-64 anos  "
   ]
  },
  {
   "cell_type": "code",
   "execution_count": 61,
   "id": "5126b66d",
   "metadata": {},
   "outputs": [
    {
     "data": {
      "text/plain": [
       "<AxesSubplot:>"
      ]
     },
     "execution_count": 61,
     "metadata": {},
     "output_type": "execute_result"
    },
    {
     "data": {
      "image/png": "[encoded data removed]",
      "text/plain": [
       "<Figure size 432x288 with 1 Axes>"
      ]
     },
     "metadata": {
      "needs_background": "light"
     },
     "output_type": "display_data"
    }
   ],
   "source": [
    "df_metropolitana[ (df_metropolitana['SEXO'] == 'FEMININO') & (df_metropolitana['IDADE SENASP'] == '35-64') &  (df_metropolitana['TOTAL DE ENVOLVIDOS'] == 1) & (df_metropolitana['NATUREZA'] =='AMEAÇA') & (df_metropolitana['ANO'] == 2021) ]['MÊS DO FATO'].value_counts().sort_index().plot.bar()"
   ]
  },
  {
   "cell_type": "markdown",
   "id": "3e18491d",
   "metadata": {},
   "source": [
    "## Análise dos casos da região Agreste"
   ]
  },
  {
   "cell_type": "code",
   "execution_count": 62,
   "id": "5037bd6b",
   "metadata": {},
   "outputs": [
    {
     "data": {
      "text/html": [
       "<div>\n",
       "<style scoped>\n",
       "    .dataframe tbody tr th:only-of-type {\n",
       "        vertical-align: middle;\n",
       "    }\n",
       "\n",
       "    .dataframe tbody tr th {\n",
       "        vertical-align: top;\n",
       "    }\n",
       "\n",
       "    .dataframe thead th {\n",
       "        text-align: right;\n",
       "    }\n",
       "</style>\n",
       "<table border=\"1\" class=\"dataframe\">\n",
       "  <thead>\n",
       "    <tr style=\"text-align: right;\">\n",
       "      <th></th>\n",
       "      <th>MUNICÍPIO DO FATO</th>\n",
       "      <th>REGIAO GEOGRÁFICA</th>\n",
       "      <th>NATUREZA</th>\n",
       "      <th>DATA DO FATO</th>\n",
       "      <th>ANO</th>\n",
       "      <th>SEXO</th>\n",
       "      <th>IDADE SENASP</th>\n",
       "      <th>TOTAL DE ENVOLVIDOS</th>\n",
       "      <th>MÊS DO FATO</th>\n",
       "      <th>ano/mes</th>\n",
       "    </tr>\n",
       "  </thead>\n",
       "  <tbody>\n",
       "    <tr>\n",
       "      <th>3</th>\n",
       "      <td>AGUAS BELAS</td>\n",
       "      <td>AGRESTE</td>\n",
       "      <td>ESTUPRO DE VULNERÁVEL</td>\n",
       "      <td>2015-01-01</td>\n",
       "      <td>2015</td>\n",
       "      <td>FEMININO</td>\n",
       "      <td>12-17</td>\n",
       "      <td>1</td>\n",
       "      <td>1</td>\n",
       "      <td>2015-01</td>\n",
       "    </tr>\n",
       "    <tr>\n",
       "      <th>4</th>\n",
       "      <td>ALAGOINHA</td>\n",
       "      <td>AGRESTE</td>\n",
       "      <td>AMEAÇA</td>\n",
       "      <td>2015-01-01</td>\n",
       "      <td>2015</td>\n",
       "      <td>FEMININO</td>\n",
       "      <td>35-64</td>\n",
       "      <td>1</td>\n",
       "      <td>1</td>\n",
       "      <td>2015-01</td>\n",
       "    </tr>\n",
       "    <tr>\n",
       "      <th>5</th>\n",
       "      <td>ALAGOINHA</td>\n",
       "      <td>AGRESTE</td>\n",
       "      <td>DIFAMAÇÃO</td>\n",
       "      <td>2015-01-01</td>\n",
       "      <td>2015</td>\n",
       "      <td>FEMININO</td>\n",
       "      <td>35-64</td>\n",
       "      <td>1</td>\n",
       "      <td>1</td>\n",
       "      <td>2015-01</td>\n",
       "    </tr>\n",
       "    <tr>\n",
       "      <th>7</th>\n",
       "      <td>ANGELIM</td>\n",
       "      <td>AGRESTE</td>\n",
       "      <td>LESÃO CORPORAL</td>\n",
       "      <td>2015-01-01</td>\n",
       "      <td>2015</td>\n",
       "      <td>FEMININO</td>\n",
       "      <td>35-64</td>\n",
       "      <td>1</td>\n",
       "      <td>1</td>\n",
       "      <td>2015-01</td>\n",
       "    </tr>\n",
       "    <tr>\n",
       "      <th>8</th>\n",
       "      <td>BELO JARDIM</td>\n",
       "      <td>AGRESTE</td>\n",
       "      <td>LESÃO CORPORAL</td>\n",
       "      <td>2015-01-01</td>\n",
       "      <td>2015</td>\n",
       "      <td>FEMININO</td>\n",
       "      <td>18-24</td>\n",
       "      <td>1</td>\n",
       "      <td>1</td>\n",
       "      <td>2015-01</td>\n",
       "    </tr>\n",
       "    <tr>\n",
       "      <th>...</th>\n",
       "      <td>...</td>\n",
       "      <td>...</td>\n",
       "      <td>...</td>\n",
       "      <td>...</td>\n",
       "      <td>...</td>\n",
       "      <td>...</td>\n",
       "      <td>...</td>\n",
       "      <td>...</td>\n",
       "      <td>...</td>\n",
       "      <td>...</td>\n",
       "    </tr>\n",
       "    <tr>\n",
       "      <th>253691</th>\n",
       "      <td>SANTA CRUZ DO CAPIBARIBE</td>\n",
       "      <td>AGRESTE</td>\n",
       "      <td>AMEAÇA</td>\n",
       "      <td>2022-08-31</td>\n",
       "      <td>2022</td>\n",
       "      <td>FEMININO</td>\n",
       "      <td>35-64</td>\n",
       "      <td>1</td>\n",
       "      <td>8</td>\n",
       "      <td>2022-08</td>\n",
       "    </tr>\n",
       "    <tr>\n",
       "      <th>253692</th>\n",
       "      <td>SANTA CRUZ DO CAPIBARIBE</td>\n",
       "      <td>AGRESTE</td>\n",
       "      <td>LESÃO CORPORAL</td>\n",
       "      <td>2022-08-31</td>\n",
       "      <td>2022</td>\n",
       "      <td>FEMININO</td>\n",
       "      <td>18-24</td>\n",
       "      <td>1</td>\n",
       "      <td>8</td>\n",
       "      <td>2022-08</td>\n",
       "    </tr>\n",
       "    <tr>\n",
       "      <th>253693</th>\n",
       "      <td>SANTA CRUZ DO CAPIBARIBE</td>\n",
       "      <td>AGRESTE</td>\n",
       "      <td>LESÃO CORPORAL</td>\n",
       "      <td>2022-08-31</td>\n",
       "      <td>2022</td>\n",
       "      <td>FEMININO</td>\n",
       "      <td>35-64</td>\n",
       "      <td>1</td>\n",
       "      <td>8</td>\n",
       "      <td>2022-08</td>\n",
       "    </tr>\n",
       "    <tr>\n",
       "      <th>253694</th>\n",
       "      <td>SAO CAETANO</td>\n",
       "      <td>AGRESTE</td>\n",
       "      <td>VIAS DE FATOS</td>\n",
       "      <td>2022-08-31</td>\n",
       "      <td>2022</td>\n",
       "      <td>FEMININO</td>\n",
       "      <td>35-64</td>\n",
       "      <td>1</td>\n",
       "      <td>8</td>\n",
       "      <td>2022-08</td>\n",
       "    </tr>\n",
       "    <tr>\n",
       "      <th>253700</th>\n",
       "      <td>SURUBIM</td>\n",
       "      <td>AGRESTE</td>\n",
       "      <td>PERTURBAÇÃO DO SOSSEGO</td>\n",
       "      <td>2022-08-31</td>\n",
       "      <td>2022</td>\n",
       "      <td>FEMININO</td>\n",
       "      <td>35-64</td>\n",
       "      <td>1</td>\n",
       "      <td>8</td>\n",
       "      <td>2022-08</td>\n",
       "    </tr>\n",
       "  </tbody>\n",
       "</table>\n",
       "<p>59386 rows × 10 columns</p>\n",
       "</div>"
      ],
      "text/plain": [
       "               MUNICÍPIO DO FATO REGIAO GEOGRÁFICA                NATUREZA  \\\n",
       "3                    AGUAS BELAS           AGRESTE   ESTUPRO DE VULNERÁVEL   \n",
       "4                      ALAGOINHA           AGRESTE                  AMEAÇA   \n",
       "5                      ALAGOINHA           AGRESTE               DIFAMAÇÃO   \n",
       "7                        ANGELIM           AGRESTE          LESÃO CORPORAL   \n",
       "8                    BELO JARDIM           AGRESTE          LESÃO CORPORAL   \n",
       "...                          ...               ...                     ...   \n",
       "253691  SANTA CRUZ DO CAPIBARIBE           AGRESTE                  AMEAÇA   \n",
       "253692  SANTA CRUZ DO CAPIBARIBE           AGRESTE          LESÃO CORPORAL   \n",
       "253693  SANTA CRUZ DO CAPIBARIBE           AGRESTE          LESÃO CORPORAL   \n",
       "253694               SAO CAETANO           AGRESTE          VIAS DE FATOS    \n",
       "253700                   SURUBIM           AGRESTE  PERTURBAÇÃO DO SOSSEGO   \n",
       "\n",
       "       DATA DO FATO   ANO      SEXO IDADE SENASP  TOTAL DE ENVOLVIDOS  \\\n",
       "3        2015-01-01  2015  FEMININO        12-17                    1   \n",
       "4        2015-01-01  2015  FEMININO        35-64                    1   \n",
       "5        2015-01-01  2015  FEMININO        35-64                    1   \n",
       "7        2015-01-01  2015  FEMININO        35-64                    1   \n",
       "8        2015-01-01  2015  FEMININO        18-24                    1   \n",
       "...             ...   ...       ...          ...                  ...   \n",
       "253691   2022-08-31  2022  FEMININO        35-64                    1   \n",
       "253692   2022-08-31  2022  FEMININO        18-24                    1   \n",
       "253693   2022-08-31  2022  FEMININO        35-64                    1   \n",
       "253694   2022-08-31  2022  FEMININO        35-64                    1   \n",
       "253700   2022-08-31  2022  FEMININO        35-64                    1   \n",
       "\n",
       "        MÊS DO FATO  ano/mes  \n",
       "3                 1  2015-01  \n",
       "4                 1  2015-01  \n",
       "5                 1  2015-01  \n",
       "7                 1  2015-01  \n",
       "8                 1  2015-01  \n",
       "...             ...      ...  \n",
       "253691            8  2022-08  \n",
       "253692            8  2022-08  \n",
       "253693            8  2022-08  \n",
       "253694            8  2022-08  \n",
       "253700            8  2022-08  \n",
       "\n",
       "[59386 rows x 10 columns]"
      ]
     },
     "execution_count": 62,
     "metadata": {},
     "output_type": "execute_result"
    }
   ],
   "source": [
    "df_agreste =df[ df['REGIAO GEOGRÁFICA'] == 'AGRESTE' ]\n",
    "df_agreste"
   ]
  },
  {
   "cell_type": "code",
   "execution_count": 63,
   "id": "31839512",
   "metadata": {},
   "outputs": [
    {
     "data": {
      "text/plain": [
       "<AxesSubplot:>"
      ]
     },
     "execution_count": 63,
     "metadata": {},
     "output_type": "execute_result"
    },
    {
     "data": {
      "image/png": "[encoded data removed]",
      "text/plain": [
       "<Figure size 432x288 with 1 Axes>"
      ]
     },
     "metadata": {
      "needs_background": "light"
     },
     "output_type": "display_data"
    }
   ],
   "source": [
    "df_agreste['MUNICÍPIO DO FATO'].value_counts().head().plot.bar()"
   ]
  },
  {
   "cell_type": "code",
   "execution_count": 64,
   "id": "de841f27",
   "metadata": {},
   "outputs": [
    {
     "data": {
      "text/plain": [
       "<AxesSubplot:>"
      ]
     },
     "execution_count": 64,
     "metadata": {},
     "output_type": "execute_result"
    },
    {
     "data": {
      "image/png": "[encoded data removed]",
      "text/plain": [
       "<Figure size 432x288 with 1 Axes>"
      ]
     },
     "metadata": {
      "needs_background": "light"
     },
     "output_type": "display_data"
    }
   ],
   "source": [
    "df_agreste['NATUREZA'].value_counts().head().plot.bar()"
   ]
  },
  {
   "cell_type": "code",
   "execution_count": 65,
   "id": "b34788ce",
   "metadata": {},
   "outputs": [
    {
     "data": {
      "text/plain": [
       "<AxesSubplot:ylabel='IDADE SENASP'>"
      ]
     },
     "execution_count": 65,
     "metadata": {},
     "output_type": "execute_result"
    },
    {
     "data": {
      "image/png": "[encoded data removed]",
      "text/plain": [
       "<Figure size 432x288 with 1 Axes>"
      ]
     },
     "metadata": {},
     "output_type": "display_data"
    }
   ],
   "source": [
    "df_agreste['IDADE SENASP'].value_counts().plot.pie()"
   ]
  },
  {
   "cell_type": "code",
   "execution_count": 66,
   "id": "86516f93",
   "metadata": {},
   "outputs": [
    {
     "data": {
      "text/plain": [
       "<AxesSubplot:ylabel='SEXO'>"
      ]
     },
     "execution_count": 66,
     "metadata": {},
     "output_type": "execute_result"
    },
    {
     "data": {
      "image/png": "[encoded data removed]",
      "text/plain": [
       "<Figure size 432x288 with 1 Axes>"
      ]
     },
     "metadata": {},
     "output_type": "display_data"
    }
   ],
   "source": [
    "df_agreste['SEXO'].value_counts().plot.pie()"
   ]
  },
  {
   "cell_type": "code",
   "execution_count": 67,
   "id": "d7bc9e93",
   "metadata": {},
   "outputs": [
    {
     "data": {
      "text/plain": [
       "<AxesSubplot:>"
      ]
     },
     "execution_count": 67,
     "metadata": {},
     "output_type": "execute_result"
    },
    {
     "data": {
      "image/png": "[encoded data removed]",
      "text/plain": [
       "<Figure size 432x288 with 1 Axes>"
      ]
     },
     "metadata": {
      "needs_background": "light"
     },
     "output_type": "display_data"
    }
   ],
   "source": [
    "df_agreste['TOTAL DE ENVOLVIDOS'].value_counts().plot.bar()"
   ]
  },
  {
   "cell_type": "code",
   "execution_count": 68,
   "id": "858c4f48",
   "metadata": {},
   "outputs": [
    {
     "data": {
      "text/plain": [
       "<AxesSubplot:>"
      ]
     },
     "execution_count": 68,
     "metadata": {},
     "output_type": "execute_result"
    },
    {
     "data": {
      "image/png": "[encoded data removed]",
      "text/plain": [
       "<Figure size 432x288 with 1 Axes>"
      ]
     },
     "metadata": {
      "needs_background": "light"
     },
     "output_type": "display_data"
    }
   ],
   "source": [
    "df_agreste['ANO'].value_counts().sort_index().plot.bar()"
   ]
  },
  {
   "cell_type": "code",
   "execution_count": 69,
   "id": "3a21b82a",
   "metadata": {},
   "outputs": [
    {
     "data": {
      "text/plain": [
       "<AxesSubplot:>"
      ]
     },
     "execution_count": 69,
     "metadata": {},
     "output_type": "execute_result"
    },
    {
     "data": {
      "image/png": "[encoded data removed]",
      "text/plain": [
       "<Figure size 432x288 with 1 Axes>"
      ]
     },
     "metadata": {
      "needs_background": "light"
     },
     "output_type": "display_data"
    }
   ],
   "source": [
    "df_agreste['MÊS DO FATO'].value_counts().sort_index().plot.bar()"
   ]
  },
  {
   "cell_type": "code",
   "execution_count": 70,
   "id": "59889ce6",
   "metadata": {},
   "outputs": [
    {
     "name": "stderr",
     "output_type": "stream",
     "text": [
      "C:\\Users\\gabri\\AppData\\Local\\Temp\\ipykernel_18084\\2106175619.py:1: UserWarning: Boolean Series key will be reindexed to match DataFrame index.\n",
      "  df_agreste [ (df['SEXO'] == 'FEMININO') & (df['NATUREZA'] == 'AMEAÇA') & (df['IDADE SENASP'] == '35-64')]['ANO'].value_counts().sort_index().plot.bar()\n"
     ]
    },
    {
     "data": {
      "text/plain": [
       "<AxesSubplot:>"
      ]
     },
     "execution_count": 70,
     "metadata": {},
     "output_type": "execute_result"
    },
    {
     "data": {
      "image/png": "[encoded data removed]",
      "text/plain": [
       "<Figure size 432x288 with 1 Axes>"
      ]
     },
     "metadata": {
      "needs_background": "light"
     },
     "output_type": "display_data"
    }
   ],
   "source": [
    "df_agreste [ (df['SEXO'] == 'FEMININO') & (df['NATUREZA'] == 'AMEAÇA') & (df['IDADE SENASP'] == '35-64')]['ANO'].value_counts().sort_index().plot.bar()"
   ]
  },
  {
   "cell_type": "code",
   "execution_count": 71,
   "id": "8ee80bc0",
   "metadata": {},
   "outputs": [
    {
     "name": "stderr",
     "output_type": "stream",
     "text": [
      "C:\\Users\\gabri\\AppData\\Local\\Temp\\ipykernel_18084\\1104884378.py:1: UserWarning: Boolean Series key will be reindexed to match DataFrame index.\n",
      "  df_agreste[ (df['SEXO'] == 'FEMININO') & (df['IDADE SENASP'] == '35-64') & (df['NATUREZA'] =='AMEAÇA') & (df['ANO'] == 2021) ]['MÊS DO FATO'].value_counts().sort_index().plot.bar()\n"
     ]
    },
    {
     "data": {
      "text/plain": [
       "<AxesSubplot:>"
      ]
     },
     "execution_count": 71,
     "metadata": {},
     "output_type": "execute_result"
    },
    {
     "data": {
      "image/png": "[encoded data removed]",
      "text/plain": [
       "<Figure size 432x288 with 1 Axes>"
      ]
     },
     "metadata": {
      "needs_background": "light"
     },
     "output_type": "display_data"
    }
   ],
   "source": [
    "df_agreste[ (df['SEXO'] == 'FEMININO') & (df['IDADE SENASP'] == '35-64') & (df['NATUREZA'] =='AMEAÇA') & (df['ANO'] == 2021) ]['MÊS DO FATO'].value_counts().sort_index().plot.bar()"
   ]
  },
  {
   "cell_type": "markdown",
   "id": "78309983",
   "metadata": {},
   "source": [
    "## Analise dos casos da capital"
   ]
  },
  {
   "cell_type": "code",
   "execution_count": 72,
   "id": "b04fb7b1",
   "metadata": {},
   "outputs": [
    {
     "data": {
      "text/html": [
       "<div>\n",
       "<style scoped>\n",
       "    .dataframe tbody tr th:only-of-type {\n",
       "        vertical-align: middle;\n",
       "    }\n",
       "\n",
       "    .dataframe tbody tr th {\n",
       "        vertical-align: top;\n",
       "    }\n",
       "\n",
       "    .dataframe thead th {\n",
       "        text-align: right;\n",
       "    }\n",
       "</style>\n",
       "<table border=\"1\" class=\"dataframe\">\n",
       "  <thead>\n",
       "    <tr style=\"text-align: right;\">\n",
       "      <th></th>\n",
       "      <th>MUNICÍPIO DO FATO</th>\n",
       "      <th>REGIAO GEOGRÁFICA</th>\n",
       "      <th>NATUREZA</th>\n",
       "      <th>DATA DO FATO</th>\n",
       "      <th>ANO</th>\n",
       "      <th>SEXO</th>\n",
       "      <th>IDADE SENASP</th>\n",
       "      <th>TOTAL DE ENVOLVIDOS</th>\n",
       "      <th>MÊS DO FATO</th>\n",
       "      <th>ano/mes</th>\n",
       "    </tr>\n",
       "  </thead>\n",
       "  <tbody>\n",
       "    <tr>\n",
       "      <th>69</th>\n",
       "      <td>RECIFE</td>\n",
       "      <td>CAPITAL</td>\n",
       "      <td>AMEAÇA</td>\n",
       "      <td>2015-01-01</td>\n",
       "      <td>2015</td>\n",
       "      <td>FEMININO</td>\n",
       "      <td>18-24</td>\n",
       "      <td>1</td>\n",
       "      <td>1</td>\n",
       "      <td>2015-01</td>\n",
       "    </tr>\n",
       "    <tr>\n",
       "      <th>70</th>\n",
       "      <td>RECIFE</td>\n",
       "      <td>CAPITAL</td>\n",
       "      <td>AMEAÇA</td>\n",
       "      <td>2015-01-01</td>\n",
       "      <td>2015</td>\n",
       "      <td>FEMININO</td>\n",
       "      <td>25-29</td>\n",
       "      <td>1</td>\n",
       "      <td>1</td>\n",
       "      <td>2015-01</td>\n",
       "    </tr>\n",
       "    <tr>\n",
       "      <th>71</th>\n",
       "      <td>RECIFE</td>\n",
       "      <td>CAPITAL</td>\n",
       "      <td>AMEAÇA</td>\n",
       "      <td>2015-01-01</td>\n",
       "      <td>2015</td>\n",
       "      <td>FEMININO</td>\n",
       "      <td>30-34</td>\n",
       "      <td>3</td>\n",
       "      <td>1</td>\n",
       "      <td>2015-01</td>\n",
       "    </tr>\n",
       "    <tr>\n",
       "      <th>72</th>\n",
       "      <td>RECIFE</td>\n",
       "      <td>CAPITAL</td>\n",
       "      <td>AMEAÇA</td>\n",
       "      <td>2015-01-01</td>\n",
       "      <td>2015</td>\n",
       "      <td>FEMININO</td>\n",
       "      <td>35-64</td>\n",
       "      <td>2</td>\n",
       "      <td>1</td>\n",
       "      <td>2015-01</td>\n",
       "    </tr>\n",
       "    <tr>\n",
       "      <th>73</th>\n",
       "      <td>RECIFE</td>\n",
       "      <td>CAPITAL</td>\n",
       "      <td>DANO</td>\n",
       "      <td>2015-01-01</td>\n",
       "      <td>2015</td>\n",
       "      <td>FEMININO</td>\n",
       "      <td>25-29</td>\n",
       "      <td>1</td>\n",
       "      <td>1</td>\n",
       "      <td>2015-01</td>\n",
       "    </tr>\n",
       "    <tr>\n",
       "      <th>...</th>\n",
       "      <td>...</td>\n",
       "      <td>...</td>\n",
       "      <td>...</td>\n",
       "      <td>...</td>\n",
       "      <td>...</td>\n",
       "      <td>...</td>\n",
       "      <td>...</td>\n",
       "      <td>...</td>\n",
       "      <td>...</td>\n",
       "      <td>...</td>\n",
       "    </tr>\n",
       "    <tr>\n",
       "      <th>253586</th>\n",
       "      <td>RECIFE</td>\n",
       "      <td>CAPITAL</td>\n",
       "      <td>VIAS DE FATOS</td>\n",
       "      <td>2022-08-30</td>\n",
       "      <td>2022</td>\n",
       "      <td>FEMININO</td>\n",
       "      <td>35-64</td>\n",
       "      <td>1</td>\n",
       "      <td>8</td>\n",
       "      <td>2022-08</td>\n",
       "    </tr>\n",
       "    <tr>\n",
       "      <th>253683</th>\n",
       "      <td>RECIFE</td>\n",
       "      <td>CAPITAL</td>\n",
       "      <td>AMEAÇA</td>\n",
       "      <td>2022-08-31</td>\n",
       "      <td>2022</td>\n",
       "      <td>FEMININO</td>\n",
       "      <td>30-34</td>\n",
       "      <td>2</td>\n",
       "      <td>8</td>\n",
       "      <td>2022-08</td>\n",
       "    </tr>\n",
       "    <tr>\n",
       "      <th>253684</th>\n",
       "      <td>RECIFE</td>\n",
       "      <td>CAPITAL</td>\n",
       "      <td>AMEAÇA</td>\n",
       "      <td>2022-08-31</td>\n",
       "      <td>2022</td>\n",
       "      <td>FEMININO</td>\n",
       "      <td>35-64</td>\n",
       "      <td>3</td>\n",
       "      <td>8</td>\n",
       "      <td>2022-08</td>\n",
       "    </tr>\n",
       "    <tr>\n",
       "      <th>253685</th>\n",
       "      <td>RECIFE</td>\n",
       "      <td>CAPITAL</td>\n",
       "      <td>INJÚRIA</td>\n",
       "      <td>2022-08-31</td>\n",
       "      <td>2022</td>\n",
       "      <td>FEMININO</td>\n",
       "      <td>35-64</td>\n",
       "      <td>1</td>\n",
       "      <td>8</td>\n",
       "      <td>2022-08</td>\n",
       "    </tr>\n",
       "    <tr>\n",
       "      <th>253686</th>\n",
       "      <td>RECIFE</td>\n",
       "      <td>CAPITAL</td>\n",
       "      <td>VIAS DE FATOS</td>\n",
       "      <td>2022-08-31</td>\n",
       "      <td>2022</td>\n",
       "      <td>FEMININO</td>\n",
       "      <td>35-64</td>\n",
       "      <td>1</td>\n",
       "      <td>8</td>\n",
       "      <td>2022-08</td>\n",
       "    </tr>\n",
       "  </tbody>\n",
       "</table>\n",
       "<p>42592 rows × 10 columns</p>\n",
       "</div>"
      ],
      "text/plain": [
       "       MUNICÍPIO DO FATO REGIAO GEOGRÁFICA        NATUREZA DATA DO FATO   ANO  \\\n",
       "69                RECIFE           CAPITAL          AMEAÇA   2015-01-01  2015   \n",
       "70                RECIFE           CAPITAL          AMEAÇA   2015-01-01  2015   \n",
       "71                RECIFE           CAPITAL          AMEAÇA   2015-01-01  2015   \n",
       "72                RECIFE           CAPITAL          AMEAÇA   2015-01-01  2015   \n",
       "73                RECIFE           CAPITAL            DANO   2015-01-01  2015   \n",
       "...                  ...               ...             ...          ...   ...   \n",
       "253586            RECIFE           CAPITAL  VIAS DE FATOS    2022-08-30  2022   \n",
       "253683            RECIFE           CAPITAL          AMEAÇA   2022-08-31  2022   \n",
       "253684            RECIFE           CAPITAL          AMEAÇA   2022-08-31  2022   \n",
       "253685            RECIFE           CAPITAL         INJÚRIA   2022-08-31  2022   \n",
       "253686            RECIFE           CAPITAL  VIAS DE FATOS    2022-08-31  2022   \n",
       "\n",
       "            SEXO IDADE SENASP  TOTAL DE ENVOLVIDOS  MÊS DO FATO  ano/mes  \n",
       "69      FEMININO        18-24                    1            1  2015-01  \n",
       "70      FEMININO        25-29                    1            1  2015-01  \n",
       "71      FEMININO        30-34                    3            1  2015-01  \n",
       "72      FEMININO        35-64                    2            1  2015-01  \n",
       "73      FEMININO        25-29                    1            1  2015-01  \n",
       "...          ...          ...                  ...          ...      ...  \n",
       "253586  FEMININO        35-64                    1            8  2022-08  \n",
       "253683  FEMININO        30-34                    2            8  2022-08  \n",
       "253684  FEMININO        35-64                    3            8  2022-08  \n",
       "253685  FEMININO        35-64                    1            8  2022-08  \n",
       "253686  FEMININO        35-64                    1            8  2022-08  \n",
       "\n",
       "[42592 rows x 10 columns]"
      ]
     },
     "execution_count": 72,
     "metadata": {},
     "output_type": "execute_result"
    }
   ],
   "source": [
    "df_capital =df[ df['REGIAO GEOGRÁFICA'] == 'CAPITAL' ]\n",
    "df_capital"
   ]
  },
  {
   "cell_type": "code",
   "execution_count": 73,
   "id": "4cab9dba",
   "metadata": {},
   "outputs": [
    {
     "data": {
      "text/plain": [
       "<AxesSubplot:>"
      ]
     },
     "execution_count": 73,
     "metadata": {},
     "output_type": "execute_result"
    },
    {
     "data": {
      "image/png": "[encoded data removed]",
      "text/plain": [
       "<Figure size 432x288 with 1 Axes>"
      ]
     },
     "metadata": {
      "needs_background": "light"
     },
     "output_type": "display_data"
    }
   ],
   "source": [
    "df_capital['NATUREZA'].value_counts().head().plot.bar()"
   ]
  },
  {
   "cell_type": "code",
   "execution_count": 74,
   "id": "79ad4e36",
   "metadata": {},
   "outputs": [
    {
     "data": {
      "text/plain": [
       "<AxesSubplot:>"
      ]
     },
     "execution_count": 74,
     "metadata": {},
     "output_type": "execute_result"
    },
    {
     "data": {
      "image/png": "[encoded data removed]",
      "text/plain": [
       "<Figure size 432x288 with 1 Axes>"
      ]
     },
     "metadata": {
      "needs_background": "light"
     },
     "output_type": "display_data"
    }
   ],
   "source": [
    "df_capital['MÊS DO FATO'].value_counts().sort_index().plot.bar()"
   ]
  },
  {
   "cell_type": "code",
   "execution_count": 75,
   "id": "7436680d",
   "metadata": {},
   "outputs": [
    {
     "data": {
      "text/plain": [
       "<AxesSubplot:>"
      ]
     },
     "execution_count": 75,
     "metadata": {},
     "output_type": "execute_result"
    },
    {
     "data": {
      "image/png": "[encoded data removed]",
      "text/plain": [
       "<Figure size 432x288 with 1 Axes>"
      ]
     },
     "metadata": {
      "needs_background": "light"
     },
     "output_type": "display_data"
    }
   ],
   "source": [
    "df_capital['ANO'].value_counts().sort_index().plot.bar()"
   ]
  },
  {
   "cell_type": "code",
   "execution_count": 76,
   "id": "8161f364",
   "metadata": {},
   "outputs": [
    {
     "data": {
      "text/plain": [
       "<AxesSubplot:ylabel='SEXO'>"
      ]
     },
     "execution_count": 76,
     "metadata": {},
     "output_type": "execute_result"
    },
    {
     "data": {
      "image/png": "[encoded data removed]",
      "text/plain": [
       "<Figure size 432x288 with 1 Axes>"
      ]
     },
     "metadata": {},
     "output_type": "display_data"
    }
   ],
   "source": [
    "df_capital['SEXO'].value_counts().plot.pie()"
   ]
  },
  {
   "cell_type": "code",
   "execution_count": 77,
   "id": "95febee7",
   "metadata": {},
   "outputs": [
    {
     "data": {
      "text/plain": [
       "<AxesSubplot:ylabel='IDADE SENASP'>"
      ]
     },
     "execution_count": 77,
     "metadata": {},
     "output_type": "execute_result"
    },
    {
     "data": {
      "image/png": "[encoded data removed]",
      "text/plain": [
       "<Figure size 432x288 with 1 Axes>"
      ]
     },
     "metadata": {},
     "output_type": "display_data"
    }
   ],
   "source": [
    "df_capital['IDADE SENASP'].value_counts().plot.pie()"
   ]
  },
  {
   "cell_type": "code",
   "execution_count": 78,
   "id": "9d1c946a",
   "metadata": {},
   "outputs": [
    {
     "data": {
      "text/plain": [
       "<AxesSubplot:>"
      ]
     },
     "execution_count": 78,
     "metadata": {},
     "output_type": "execute_result"
    },
    {
     "data": {
      "image/png": "[encoded data removed]",
      "text/plain": [
       "<Figure size 432x288 with 1 Axes>"
      ]
     },
     "metadata": {
      "needs_background": "light"
     },
     "output_type": "display_data"
    }
   ],
   "source": [
    "df_capital[ (df_capital['SEXO'] == 'FEMININO') & (df_capital['NATUREZA'] == 'AMEAÇA')]['ANO'].value_counts().sort_index().plot.bar()"
   ]
  },
  {
   "cell_type": "code",
   "execution_count": 79,
   "id": "1816b1f8",
   "metadata": {},
   "outputs": [
    {
     "data": {
      "text/plain": [
       "<AxesSubplot:>"
      ]
     },
     "execution_count": 79,
     "metadata": {},
     "output_type": "execute_result"
    },
    {
     "data": {
      "image/png": "[encoded data removed]",
      "text/plain": [
       "<Figure size 432x288 with 1 Axes>"
      ]
     },
     "metadata": {
      "needs_background": "light"
     },
     "output_type": "display_data"
    }
   ],
   "source": [
    "df_capital[ (df_capital['SEXO'] == 'FEMININO') & (df_capital['IDADE SENASP'] == '35-64') & (df_capital['NATUREZA'] =='AMEAÇA') & (df_capital['ANO'] == 2021) ]['MÊS DO FATO'].value_counts().sort_index().plot.bar()"
   ]
  }
 ],
 "metadata": {
  "kernelspec": {
   "display_name": "Python 3.9.13 64-bit (microsoft store)",
   "language": "python",
   "name": "python3"
  },
  "language_info": {
   "codemirror_mode": {
    "name": "ipython",
    "version": 3
   },
   "file_extension": ".py",
   "mimetype": "text/x-python",
   "name": "python",
   "nbconvert_exporter": "python",
   "pygments_lexer": "ipython3",
   "version": "3.9.13"
  },
  "vscode": {
   "interpreter": {
    "hash": "b7f22e608a9410c9a00adbb49e3cb6a72010c497ae6b30c9496ff58de178a89c"
   }
  }
 },
 "nbformat": 4,
 "nbformat_minor": 5
}
